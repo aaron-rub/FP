{
 "cells": [
  {
   "cell_type": "markdown",
   "metadata": {},
   "source": [
    "# Lists, Dictionaries, Iteration\n",
    "> An introduction to Data Abstraction using Python Lists [] and Python Dictionaries {}.\n",
    "\n",
    "- title: Lists, Dictionaries, Iteration\n",
    "- toc: true\n",
    "- categories: [units]\n",
    "- permalink: /collegeboard/python_lists\n",
    "- image: /images/python_lists.png\n",
    "- categories: [collegeboard]\n",
    "- tags: [python]"
   ]
  },
  {
   "cell_type": "code",
   "execution_count": 3,
   "metadata": {},
   "outputs": [
    {
     "name": "stdout",
     "output_type": "stream",
     "text": [
      "name Aaron Rubin <class 'str'>\n",
      "age 14 <class 'int'>\n",
      "weight 141 <class 'int'>\n",
      "\n",
      "langs ['Python', 'JavaScript', 'Java'] <class 'list'>\n",
      "- langs[0] Python <class 'str'>\n",
      "\n",
      "person {'name': 'Aaron Rubin', 'age': 14, 'weight': 141, 'langs': ['Python', 'JavaScript', 'Java']} <class 'dict'>\n",
      "- person[\"name\"] Aaron Rubin <class 'str'>\n"
     ]
    }
   ],
   "source": [
    "# Sample of Python Variables\n",
    "\n",
    "# variable of type string\n",
    "name = \"Aaron Rubin\"\n",
    "print(\"name\", name, type(name))\n",
    "\n",
    "# variable of type integer\n",
    "age = 14\n",
    "print(\"age\", age, type(age))\n",
    "\n",
    "# variable of type float\n",
    "weight = 141\n",
    "print(\"weight\", weight, type(weight))\n",
    "\n",
    "print()\n",
    "\n",
    "# variable of type list (many values in one variable)\n",
    "langs = [\"Python\", \"JavaScript\", \"Java\"]\n",
    "print(\"langs\", langs, type(langs))\n",
    "print(\"- langs[0]\", langs[0], type(langs[0]))\n",
    "\n",
    "print()\n",
    "\n",
    "# variable of type dictionary (a group of keys and values)\n",
    "person = {\n",
    "    \"name\": name,\n",
    "    \"age\": age,\n",
    "    \"weight\": weight,\n",
    "    \"langs\": langs\n",
    "}\n",
    "print(\"person\", person, type(person))\n",
    "print('- person[\"name\"]', person[\"name\"], type(person[\"name\"]))\n"
   ]
  },
  {
   "cell_type": "code",
   "execution_count": 15,
   "metadata": {},
   "outputs": [
    {
     "name": "stdout",
     "output_type": "stream",
     "text": [
      "\n",
      "\n",
      "[{'FirstName': 'Aaron', 'LastName': 'Rubin', 'DOB': 'November 5', 'Residence': 'San Diego', 'Email': 'aaronr06138@gmail.com', 'weight': ['141']}, {'FirstName': 'Chris', 'LastName': 'Rubin', 'DOB': 'March 18', 'Residence': 'San Diego', 'Email': 'jabba67891@gmail.com', 'weight': ['148']}]\n"
     ]
    }
   ],
   "source": [
    "# Define an empty List called InfoDb\n",
    "InfoDb = []\n",
    "\n",
    "# Append to List a Dictionary of key/values related to a person and cars\n",
    "InfoDb.append({\n",
    "    \"FirstName\": \"Aaron\",\n",
    "    \"LastName\": \"Rubin\",\n",
    "    \"DOB\": \"November 5\",\n",
    "    \"Residence\": \"San Diego\",\n",
    "    \"Email\": \"aaronr06138@gmail.com\",\n",
    "    \"weight\": [\"141\"]\n",
    "}) #InfoDb [0]\n",
    "\n",
    "InfoDb.append({\n",
    "    \"FirstName\": \"Chris\",\n",
    "    \"LastName\": \"Rubin\",\n",
    "    \"DOB\": \"March 18\",\n",
    "    \"Residence\": \"San Diego\",\n",
    "    \"Email\": \"jabba67891@gmail.com\",\n",
    "    \"weight\": [\"148\"]\n",
    "}) #InfoDb [1]\n",
    "\n",
    "\n",
    "print()\n",
    "print()\n",
    "\n",
    "print(InfoDb)\n",
    "\n",
    "# Append to List a Dictionary of key/values related to a person and cars\n",
    "\n",
    "\n"
   ]
  },
  {
   "cell_type": "code",
   "execution_count": 16,
   "metadata": {
    "vscode": {
     "languageId": "shellscript"
    }
   },
   "outputs": [
    {
     "name": "stdout",
     "output_type": "stream",
     "text": [
      "For loop output\n",
      "\n",
      "Aaron Rubin\n",
      "\t Residence: San Diego\n",
      "\t Birth Day: November 5\n",
      "\t weight:141Chris Rubin\n",
      "\t Residence: San Diego\n",
      "\t Birth Day: March 18\n",
      "\t weight:141"
     ]
    }
   ],
   "source": [
    "# given and index this will print InfoDb content\n",
    "def print_data(d_rec):\n",
    "    print(d_rec[\"FirstName\"], d_rec[\"LastName\"])  # using comma puts space between values\n",
    "    print(\"\\t\", \"Residence:\", d_rec[\"Residence\"]) # \\t is a tab indent\n",
    "    print(\"\\t\", \"Birth Day:\", d_rec[\"DOB\"])\n",
    "    print(\"\\t\", \"weight:141\", end=\"\")  # end=\"\" make sure no return occurs\n",
    "\n",
    "\n",
    "# for loop iterates on length of InfoDb\n",
    "def for_loop():\n",
    "    print(\"For loop output\\n\")\n",
    "    for record in InfoDb:\n",
    "        print_data(record)\n",
    "\n",
    "for_loop()"
   ]
  },
  {
   "cell_type": "code",
   "execution_count": 13,
   "metadata": {},
   "outputs": [
    {
     "name": "stdout",
     "output_type": "stream",
     "text": [
      "While loop output\n",
      "\n",
      "Aaron Rubin\n",
      "\t Residence: San Diego\n",
      "\t Birth Day: November 5\n",
      "\t weight:141"
     ]
    }
   ],
   "source": [
    "# while loop contains an initial n and an index incrementing statement (n += 1)\n",
    "def while_loop():\n",
    "    print(\"While loop output\\n\")\n",
    "    i = 0\n",
    "    while i < len(InfoDb):\n",
    "        record = InfoDb[i]\n",
    "        print_data(record)\n",
    "        i += 1\n",
    "    return\n",
    "\n",
    "while_loop()"
   ]
  },
  {
   "cell_type": "code",
   "execution_count": 14,
   "metadata": {
    "vscode": {
     "languageId": "shellscript"
    }
   },
   "outputs": [
    {
     "name": "stdout",
     "output_type": "stream",
     "text": [
      "Recursive loop output\n",
      "\n",
      "Aaron Rubin\n",
      "\t Residence: San Diego\n",
      "\t Birth Day: November 5\n",
      "\t weight:141Crhis Rubin\n",
      "\t Residence: San Diego\n",
      "\t Birth Day: March 18\n",
      "\t weight:141"
     ]
    }
   ],
   "source": [
    "# recursion simulates loop incrementing on each call (n + 1) until exit condition is met\n",
    "def recursive_loop(i):\n",
    "    if i < len(InfoDb):\n",
    "        record = InfoDb[i]\n",
    "        print_data(record)\n",
    "        recursive_loop(i + 1)\n",
    "    return\n",
    "    \n",
    "print(\"Recursive loop output\\n\")\n",
    "recursive_loop(0)"
   ]
  },
  {
   "cell_type": "code",
   "execution_count": 13,
   "metadata": {
    "vscode": {
     "languageId": "shellscript"
    }
   },
   "outputs": [
    {
     "name": "stdout",
     "output_type": "stream",
     "text": [
      "Aaron Rubin\n",
      "\t Residence: San Diego\n",
      "\t Birth Day: November 5\n",
      "\t weight:141Crhis Rubin\n",
      "\t Residence: San Diego\n",
      "\t Birth Day: March 18\n",
      "\t weight:141"
     ]
    }
   ],
   "source": [
    "for index in range (len(InfoDb)):\n",
    "        print_data(InfoDb[index])"
   ]
  }
 ],
 "metadata": {
  "kernelspec": {
   "display_name": "Python 3.9.12 ('base')",
   "language": "python",
   "name": "python3"
  },
  "language_info": {
   "codemirror_mode": {
    "name": "ipython",
    "version": 3
   },
   "file_extension": ".py",
   "mimetype": "text/x-python",
   "name": "python",
   "nbconvert_exporter": "python",
   "pygments_lexer": "ipython3",
   "version": "3.9.12"
  },
  "orig_nbformat": 4,
  "vscode": {
   "interpreter": {
    "hash": "f2e8ff65ec7ccec3109e7573efb6ea22e377d9e31bcd8f1c493adf9105ad9dd6"
   }
  }
 },
 "nbformat": 4,
 "nbformat_minor": 2
}

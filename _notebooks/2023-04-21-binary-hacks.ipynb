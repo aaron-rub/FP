{
 "cells": [
  {
   "attachments": {},
   "cell_type": "markdown",
   "metadata": {},
   "source": [
    "#  Student Binary lesson hacks\n",
    "> Student Binary lesson hacks\n",
    "4/20\n",
    "- toc: true\n",
    "- image: /images/python.png\n",
    "- categories: []\n",
    "- type: pbl\n",
    "- week: 31"
   ]
  },
  {
   "attachments": {},
   "cell_type": "markdown",
   "metadata": {},
   "source": [
    "# DAT-1.A: Representing Data with Bits\n",
    "- Basic Information\n",
    "- Bit is short for binary digit, and represents a value of either 0 or 1.\n",
    "- A byte is 8 bits.\n",
    "- Sequences of bits are used to represent different things.\n",
    "- Representing data with sequences of bits is called binary."
   ]
  },
  {
   "attachments": {},
   "cell_type": "markdown",
   "metadata": {},
   "source": [
    "### Practice Questions 1A\n",
    "1. How many bits are in 3 bytes?\n",
    "- 24\n",
    "2. What digital information can be represented by bits?\n",
    "- state with one of two possible values. Yes or No, True or False.\n",
    "3. Are bits an analog or digital form of storing data? What is the difference between the two?\n",
    "- Digital, Analog is manual and digitial is computing\n",
    "\n",
    "#### 1b\n",
    "1. What is the largest number can be represented by 5 bits?\n",
    "- 31\n",
    "\n",
    "2. One programing language can only use 16 bits to represent non-negative numbers, while a second language uses 56 bits to represent numbers. How many times as many unique numbers can be represented by the second language?\n",
    "- First language can represent 2^16 and the seconds represents 2^56. So 2^56/2^16 = 1099511627776\n",
    "\n",
    "3. 5 bits are used to represent both positive and negative numbers, what is the largest number that can be represented by these bits? (hint: different thatn question 1)\n",
    "- Highest number represented is 15 \n",
    "\n",
    "#### 1c\n",
    "1. What values can each digit of a Base 5 system represent?\n",
    "- 0 to 4\n",
    "2. What base is Hexadecimal? What range of values can each digit of Hexadecimal represent?\n",
    "- 0, 1, 2, 3, 4, 5, 6, 7, 8, 9, A, B, C, D, E and F.\n",
    "3. When using a base above 10, letters can be used to represent numbers past 9. These letters start from A and continue onwards. For example, the decimal number 10 is represented by the letter A in Hexadecimal. What letter would be used to represent the Base 10 number 23 in a Base 30 system? What about in a Base 50 system?\n",
    "- The letter H would be used to represent the Base 10 number 23 in a Base 30 system since H represents the value 15 in base 10, and there are 30 characters in Base 30 (0-9 A-T). For a Base 50 system, the letter X would be used to represent the Base 10 number 23, since X represents the value 23 in base 50.\n",
    "\n"
   ]
  },
  {
   "attachments": {},
   "cell_type": "markdown",
   "metadata": {},
   "source": [
    "# Examples\n",
    "- Using 6 bits, we can represent 64 numbers, from 0 to 63, as 2^6 = 64.\n",
    "- The numbers in a sequence of binary go from right to left, increasing by powers of two from 0 to the total amount of bits. The whole number represented is the sum of these bits. For example:\n",
    "-    i. 111111\n",
    "-    ii. 2^5 + 2^4 + 2^3 + 2^2 + 2^1 + 2^0\n",
    "-    iii. 32 + 16 + 8 + 4 + 2 + 1\n",
    "-    iiii. 63\n",
    "#### Fill in the blanks (convert to decimal)\n",
    "- 001010 = 10\n",
    "- 11100010 = 256\n",
    "- 10 = 2\n",
    "\n",
    "#### Fill in the blanks (convert to binary)\n",
    "- 12 = 1100\n",
    "- 35 = 100011\n",
    "- 256 = 11100010"
   ]
  },
  {
   "cell_type": "code",
   "execution_count": 4,
   "metadata": {},
   "outputs": [
    {
     "name": "stdout",
     "output_type": "stream",
     "text": [
      "binary is awesome\n",
      "binary is awesome\n",
      "binary is awesome\n",
      "binary is awesome\n",
      "binary is awesome\n",
      "binary is cool\n",
      "binary is cool\n",
      "binary is awesome\n",
      "binary is awesome\n",
      "binary is awesome\n"
     ]
    }
   ],
   "source": [
    "import random\n",
    "\n",
    "def example(runs):\n",
    "    # Repeat code for the amount of runs given\n",
    "    while runs > 0:\n",
    "        # Assigns variable boolean to either True or False based on random binary number 0 or 1.\n",
    "        boolean = False if random.randint(0, 1) == 0 else True \n",
    "\n",
    "        # If the number was 1 (True), it prints \"awesome.\"\n",
    "        if boolean:\n",
    "            print(\"binary is awesome\")\n",
    "            \n",
    "        # If the number was 2 (False), it prints \"cool.\"\n",
    "        else:\n",
    "            print(\"binary is cool\")\n",
    "            \n",
    "        runs -= 1\n",
    "     \n",
    "# Change the parameter to how many times to run the function.   \n",
    "example(10)"
   ]
  },
  {
   "cell_type": "code",
   "execution_count": 5,
   "metadata": {},
   "outputs": [
    {
     "name": "stdout",
     "output_type": "stream",
     "text": [
      "5^2 = 25.0\n"
     ]
    }
   ],
   "source": [
    "import math\n",
    "\n",
    "def exponent(base, power):\n",
    "    # Print the operation performed, turning the parameters into strings to properly concatenate with the symbols \"^\" and \"=\".\n",
    "    print(str(base) + \"^\" + str(power) + \" = \" + str(math.pow(base, power)))\n",
    "\n",
    "# How can function become a problem? (Hint: what happens if you set both base and power equal to high numbers?)\n",
    "exponent(5, 2)"
   ]
  },
  {
   "attachments": {},
   "cell_type": "markdown",
   "metadata": {},
   "source": [
    "## Hacks & Grading (Due SUNDAY NIGHT 4/23)\n",
    "- Complete all of the popcorn hacks (Fill in the blanks + run code cells and interact) [0.2 or nothing]\n",
    "- Create a program to conduct basic mathematical operations with binary sequences (addition, subtraction, multiplication, division) [0.7 or nothing]\n",
    "- For bonus, program must be able to conduct mathematical operations on binary sequences of varying bits (for example: 101 + 1001 would return decimal 14.) [0.1 or nothing]"
   ]
  },
  {
   "attachments": {},
   "cell_type": "markdown",
   "metadata": {},
   "source": [
    "First I created the decimal calculator below because I was confused on what the hacks were, but the Binary calculator that I added does basic mathmatical operations as well as conducting the mathmatical operations with varying bits  as shown below. The decimal calcutlator is also quite simple, it has a base of 2n and prompts the user to input the exponent. This is because to find any decimals its always a base of 2 to the power of the number of bit you want. For example if you want to know what the value for the 6th bit IF it is activated, for example \"1000000\" The value would be 2^6. It then prompts the user for ANOTHER exponent so it can conduct basic mathmatical operations. For example \"2^6 + 2^3\" OR \"1000000 + 1000\""
   ]
  },
  {
   "cell_type": "code",
   "execution_count": 12,
   "metadata": {},
   "outputs": [
    {
     "name": "stdout",
     "output_type": "stream",
     "text": [
      "Binary numbers: 1001001, 101\n",
      "\n",
      "Binary addition: 1001110 (78)\n",
      "\n",
      "Binary subtraction: 1000100 (68)\n",
      "\n",
      "Binary multiplication: 101101101 (365)\n",
      "\n",
      "Binary division: 1110 (14.6)\n"
     ]
    }
   ],
   "source": [
    "import math\n",
    "\n",
    "def binary_addition(bin1, bin2):\n",
    "    # convert binaries to integers\n",
    "    dec1 = int(bin1, 2)\n",
    "    dec2 = int(bin2, 2)\n",
    "    # add integers\n",
    "    dec_sum = dec1 + dec2\n",
    "    # convert sum back to binary\n",
    "    bin_sum = bin(dec_sum)[2:]\n",
    "    # return sum in decimal form\n",
    "    return dec_sum, bin_sum\n",
    "  \n",
    "def binary_subtraction(bin1, bin2):\n",
    "    # convert binaries to integers\n",
    "    dec1 = int(bin1, 2)\n",
    "    dec2 = int(bin2, 2)\n",
    "    # subtract integers\n",
    "    dec_diff = dec1 - dec2\n",
    "    # convert difference back to binary\n",
    "    bin_diff = bin(dec_diff)[2:]\n",
    "    # return difference in decimal form\n",
    "    return dec_diff, bin_diff\n",
    "  \n",
    "def binary_multiplication(bin1, bin2):\n",
    "    # convert binaries to integers\n",
    "    dec1 = int(bin1, 2)\n",
    "    dec2 = int(bin2, 2)\n",
    "    # multiply integers\n",
    "    dec_product = dec1 * dec2\n",
    "    # convert product back to binary\n",
    "    bin_product = bin(dec_product)[2:]\n",
    "    # return product in decimal form\n",
    "    return dec_product, bin_product\n",
    "  \n",
    "def binary_division(bin1, bin2):\n",
    "    # convert binaries to integers\n",
    "    dec1 = int(bin1, 2)\n",
    "    dec2 = int(bin2, 2)\n",
    "    # divide integers\n",
    "    dec_quotient = dec1 / dec2\n",
    "    # convert quotient back to binary\n",
    "    bin_quotient = bin(int(dec_quotient))[2:]\n",
    "    # return quotient in decimal form\n",
    "    return dec_quotient, bin_quotient\n",
    "  \n",
    "def main():\n",
    "    # prompt user for inputs\n",
    "    bin1 = input(\"Enter a binary number: \")\n",
    "    bin2 = input(\"Enter another binary number: \")\n",
    "      \n",
    "    # conduct operations and print results\n",
    "    print(\"Binary numbers: \" + bin1 + \", \" + bin2)\n",
    "    dec_sum, bin_sum = binary_addition(bin1, bin2)\n",
    "    dec_diff, bin_diff = binary_subtraction(bin1, bin2)\n",
    "    dec_product, bin_product = binary_multiplication(bin1, bin2)\n",
    "    dec_quotient, bin_quotient = binary_division(bin1, bin2)\n",
    "    print(\"\\nBinary addition: \" + bin_sum + \" (\" + str(dec_sum) + \")\")\n",
    "    print(\"\\nBinary subtraction: \" + bin_diff + \" (\" + str(dec_diff) + \")\")\n",
    "    print(\"\\nBinary multiplication: \" + bin_product + \" (\" + str(dec_product) + \")\")\n",
    "    print(\"\\nBinary division: \" + bin_quotient + \" (\" + str(dec_quotient) + \")\")\n",
    "\n",
    "main()\n"
   ]
  },
  {
   "cell_type": "code",
   "execution_count": 3,
   "metadata": {},
   "outputs": [
    {
     "name": "stdout",
     "output_type": "stream",
     "text": [
      "2^9 = 512\n",
      "\n",
      "2^2 = 4\n",
      "\n",
      "512 + 4 = 516\n",
      "1000000100\n",
      "2^9 = 512\n",
      "\n",
      "2^2 = 4\n",
      "\n",
      "512 - 4 = 508\n",
      "111111100\n",
      "2^9 = 512\n",
      "\n",
      "2^2 = 4\n",
      "\n",
      "512 * 4 = 2048\n",
      "100000000000\n",
      "2^9 = 512\n",
      "\n",
      "2^2 = 4\n",
      "\n",
      "512 / 4 = 128.0\n",
      "10000000\n"
     ]
    }
   ],
   "source": [
    "# # Decimal calculator\n",
    "\n",
    "# import math\n",
    "\n",
    "# def addition(exponent1, exponent2):\n",
    "#   num1 = int(math.pow(2, exponent1))\n",
    "#   num2 = int(math.pow(2, exponent2))\n",
    "#   print(str(2) + \"^\" + str(exponent1) + \" = \" + str(num1) + \"\\n\")\n",
    "#   print(str(2) + \"^\" + str(exponent2) + \" = \" + str(num2) + \"\\n\")\n",
    "#   result = int(num1) + int(num2)\n",
    "#   print(str(num1) + \" + \" + str(num2) + \" = \" + str(result) + \"\\n\" +  bin(result)[2:])\n",
    "\n",
    "\n",
    "# def subtraction(exponent1, exponent2):\n",
    "#   # calculate first number\n",
    "#   num1 = int(math.pow(2, exponent1))\n",
    "#   # calculate second number\n",
    "#   num2 = int(math.pow(2, exponent2))\n",
    "\n",
    "#   # print out calculations\n",
    "#   print(str(2) + \"^\" + str(exponent1) + \" = \" + str(num1) + \"\\n\")\n",
    "#   print(str(2) + \"^\" + str(exponent2) + \" = \" + str(num2) + \"\\n\")\n",
    "#   # calculate(subtraction) result of base 2^n values\n",
    "#   result = int(num1) - int(num2)\n",
    "#   # print out result\n",
    "#   print(str(num1) + \" - \" + str(num2) + \" = \" + str(result) + \"\\n\" + bin(result)[2:])\n",
    "\n",
    "\n",
    "# def multiplication(exponent1, exponent2):\n",
    "#   # calculate first number\n",
    "#   num1 = int(math.pow(2, exponent1))\n",
    "#   # calculate second number\n",
    "#   num2 = int(math.pow(2, exponent2))\n",
    "\n",
    "#   # print out calculations\n",
    "#   print(str(2) + \"^\" + str(exponent1) + \" = \" + str(num1) + \"\\n\")\n",
    "#   print(str(2) + \"^\" + str(exponent2) + \" = \" + str(num2) + \"\\n\")\n",
    "#   # calculate(multiplication) result of base 2^n values\n",
    "#   result = int(num1) * int(num2)\n",
    "#   # print out result\n",
    "#   print(str(num1) + \" * \" + str(num2) + \" = \" + str(result) + \"\\n\" + bin(result)[2:])\n",
    "\n",
    "# def division(exponent1, exponent2):\n",
    "#   num1 = int(math.pow(2, exponent1))\n",
    "#   num2 = int(math.pow(2, exponent2))\n",
    "#   print(str(2) + \"^\" + str(exponent1) + \" = \" + str(num1) + \"\\n\")\n",
    "#   print(str(2) + \"^\" + str(exponent2) + \" = \" + str(num2) + \"\\n\")\n",
    "#   # calculate(division) result of base 2^n values\n",
    "#   result = float(num1) / float(num2)\n",
    "#   # print out result\n",
    "#   print(str(num1) + \" / \" + str(num2) + \" = \" + str(result) + \"\\n\" + bin(int(result))[2:])\n",
    "\n",
    "# # def divison(exponent1, exponent2):\n",
    "# #   # calculate first number\n",
    "# #   num1 = int(math.pow(2, exponent1))\n",
    "# #   # calculate second number\n",
    "# #   num2 = int(math.pow(2, exponent2))\n",
    "\n",
    "# #   print(str(2) + \"^\" + str(exponent1) + \" = \" + str(num1) + \"\\n\")\n",
    "# #   print(str(2) + \"^\" + str(exponent2) + \" = \" + str(num2) + \"\\n\")\n",
    "# #   # calculate(division) result of base 2^n values\n",
    "# #   result = int(num1) / int(num2)\n",
    "# #   # print out result\n",
    "# #   print(str(num1) + \" / \" + str(num2) + \" = \" + str(result) + \"\\n\" + bin(result)[2:])\n",
    "\n",
    "\n",
    "# # take user input\n",
    "# exponent1 = int(input(\"Enter exponent 1: \"))\n",
    "# exponent2 = int(input(\"Enter exponent 2: \"))\n",
    "\n",
    "# # call the functions with user input\n",
    "# addition(exponent1, exponent2)\n",
    "# subtraction(exponent1, exponent2)\n",
    "# multiplication(exponent1, exponent2)\n",
    "# division(exponent1, exponent2)\n"
   ]
  }
 ],
 "metadata": {
  "kernelspec": {
   "display_name": "Python 3.8.10 64-bit",
   "language": "python",
   "name": "python3"
  },
  "language_info": {
   "codemirror_mode": {
    "name": "ipython",
    "version": 3
   },
   "file_extension": ".py",
   "mimetype": "text/x-python",
   "name": "python",
   "nbconvert_exporter": "python",
   "pygments_lexer": "ipython3",
   "version": "3.8.10"
  },
  "orig_nbformat": 4,
  "vscode": {
   "interpreter": {
    "hash": "916dbcbb3f70747c44a77c7bcd40155683ae19c65e1c03b4aa3499c5328201f1"
   }
  }
 },
 "nbformat": 4,
 "nbformat_minor": 2
}

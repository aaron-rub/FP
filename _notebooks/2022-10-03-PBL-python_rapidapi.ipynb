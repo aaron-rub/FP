{
 "cells": [
  {
   "cell_type": "markdown",
   "metadata": {},
   "source": [
    "# Application Programming Interface (API)\n",
    "> APIs can be found all over the internet.  A great consolidator of many APIs is <mark>RapidAPI</mark>.  In this blog we will use a site to consolidates API stats.  Learning a few lines of code and you can start extracting lots of data from the internet via APIs.  \n",
    "- title: Python RapidAPI\n",
    "- toc: true\n",
    "- image: /images/rapidapi.png\n",
    "- permalink: /techtalk/rapidapi\n",
    "- categories: [1.A, 5.B, 5.D]\n",
    "- tags: [api, rapidapi]\n",
    "- type: pbl\n",
    "- week: 7"
   ]
  },
  {
   "cell_type": "markdown",
   "metadata": {},
   "source": [
    "### Python, RapidAPI Terms\n",
    "> APIs and tooling like Jupyter docs allows many opportunities in fields like Data Science.  As more and more developers use APIs, they build standards in how you setup a client, send requests and receive information..."
   ]
  },
  {
   "cell_type": "markdown",
   "metadata": {},
   "source": [
    "### Covid19 RapidAPI Example\n",
    "> To begin the API journey.  You need to find an API provider.  \n",
    "\n",
    "- RapidAPI is a great option.  You must setup and account, but there are many free options.\n",
    "- Goto this page for starters, the [Corona virus World and India data](https://rapidapi.com/spamakashrajtech/api/corona-virus-world-and-india-data/)\n",
    "- Under Code Snippets pick Python - Requests\n",
    "\n",
    "RapidAPI, you will select Python Requests type of code to work with you Notebook.\n",
    "- The url is the endpoint to which the API is directed\n",
    "- The headers is a dictionary data structure to send special messaging to the endpoint \n",
    "- The requests.request() python function is used to send a request and retrieve their responses\n",
    "- The response variable receives result of of the request in JSON text\n",
    "\n",
    "Next step, is to format the response according to your data science needs"
   ]
  },
  {
   "cell_type": "code",
   "execution_count": 5,
   "metadata": {},
   "outputs": [
    {
     "name": "stdout",
     "output_type": "stream",
     "text": [
      "World Totals\n",
      "total_cases 509,268,964\n",
      "new_cases 204,268\n",
      "total_deaths 6,242,509\n",
      "new_deaths 630\n",
      "total_recovered 461,827,849\n",
      "active_cases 41,198,606\n",
      "serious_critical 42,510\n",
      "total_cases_per_1m_population 65,334\n",
      "deaths_per_1m_population 800.9\n",
      "statistic_taken_at 2022-04-24 11:18:01\n",
      "\n",
      "Country Totals\n",
      "country_name USA\n",
      "cases 82,649,779\n",
      "deaths 1,018,316\n",
      "region \n",
      "total_recovered 80,434,925\n",
      "new_deaths 0\n",
      "new_cases 0\n",
      "serious_critical 1,465\n",
      "active_cases 1,196,538\n",
      "total_cases_per_1m_population 247,080\n",
      "deaths_per_1m_population 3,044\n",
      "total_tests 1,000,275,726\n",
      "tests_per_1m_population 2,990,303\n"
     ]
    }
   ],
   "source": [
    "\"\"\"\n",
    "Requests is a HTTP library for the Python programming language. \n",
    "The goal of the project is to make HTTP requests simpler and more human-friendly. \n",
    "\"\"\"\n",
    "import requests\n",
    "\n",
    "\"\"\"\n",
    "RapidAPI is the world's largest API Marketplace. \n",
    "Developers use Rapid API to discover and connect to thousands of APIs. \n",
    "\"\"\"\n",
    "url = \"https://corona-virus-world-and-india-data.p.rapidapi.com/api\"\n",
    "headers = {\n",
    "    'x-rapidapi-key': \"dec069b877msh0d9d0827664078cp1a18fajsn2afac35ae063\",\n",
    "    'x-rapidapi-host': \"corona-virus-world-and-india-data.p.rapidapi.com\"\n",
    "}\n",
    "\n",
    "# Request Covid Data\n",
    "response = requests.request(\"GET\", url, headers=headers)\n",
    "# print(response.text)  # uncomment this line to see raw data\n",
    "\n",
    "# This code looks for \"world data\"\n",
    "print(\"World Totals\")\n",
    "world = response.json().get('world_total')  # turn response to json() so we can extract \"world_total\"\n",
    "for key, value in world.items():  # this finds key, value pairs in country\n",
    "    print(key, value)\n",
    "\n",
    "print()\n",
    "\n",
    "# This code looks for USA in \"countries_stats\"\n",
    "print(\"Country Totals\")\n",
    "countries = response.json().get('countries_stat')\n",
    "for country in countries:  # countries is a list\n",
    "    if country[\"country_name\"] == \"USA\":  # this filters for USA\n",
    "        for key, value in country.items():  # this finds key, value pairs in country\n",
    "            print(key, value)\n"
   ]
  },
  {
   "cell_type": "markdown",
   "metadata": {},
   "source": [
    "### Digital Coin Example\n",
    "> This example provides digital coin feedback (ie Bitcoin).  It include popularity, price, symbols, etc.\n",
    "- A valid X-RapidAPI-Key is required.  Look in code for link to RapidAPI page\n",
    "- Read all comments in code for further guidance"
   ]
  },
  {
   "cell_type": "code",
   "execution_count": 4,
   "metadata": {},
   "outputs": [
    {
     "name": "stdout",
     "output_type": "stream",
     "text": [
      "[{\"artist\":\"Harry Styles\",\"title\":\"As It Was\",\"image\":\"https://charts-static.billboard.com/img/2022/04/harry-styles-bma-as-it-was-po3-180x180.jpg\",\"award\":false,\"awardsList\":[],\"rank\":1,\"weeksAtNo1\":8,\"lastWeek\":2,\"change\":\"up\",\"peakPosition\":1,\"weeksOnChart\":13},{\"artist\":\"Jack Harlow\",\"title\":\"First Class\",\"image\":\"https://charts-static.billboard.com/img/2018/01/jack-harlow-i43-180x180.jpg\",\"award\":false,\"awardsList\":[],\"rank\":2,\"lastWeek\":3,\"change\":\"up\",\"peakPosition\":1,\"weeksOnChart\":12},{\"artist\":\"Lizzo\",\"title\":\"About Damn Time\",\"image\":\"https://charts-static.billboard.com/img/2022/04/lizzo-o9x-about-damn-time-f6q-180x180.jpg\",\"award\":true,\"awardsList\":[{\"awardName\":\"Gains In Performance\",\"svg\":\"<svg xmlns=\\\"http://www.w3.org/2000/svg\\\" style=\\\"width:100%;height:auto\\\" viewBox=\\\"0 0 128 171.211\\\"><g data-name=\\\"Group 12\\\"><path data-name=\\\"Path 3036\\\" d=\\\"M0 87.211v-24l64-32 64 32v24l-64-32z\\\" fill=\\\"#fcee21\\\"></path><path data-name=\\\"Path 3037\\\" d=\\\"M0 127.211v-24l64-32 64 32v24l-64-32z\\\" fill=\\\"#fcee21\\\"></path><path data-name=\\\"Path 3038\\\" d=\\\"M0 167.211v-24l64-32 64 32v24l-64-32z\\\" fill=\\\"#fcee21\\\"></path><path data-name=\\\"Path 3039\\\" d=\\\"M24.526 59.211H44v112h40v-112h19.474L64 0zm51.474-8v112H52v-112H39.474L64 14.422l24.526 36.789z\\\" fill=\\\"#1a48c4\\\"></path></g></svg>\"}],\"rank\":3,\"lastWeek\":5,\"change\":\"up\",\"peakPosition\":3,\"weeksOnChart\":11},{\"artist\":\"Future Featuring Drake & Tems\",\"title\":\"Wait For U\",\"image\":\"https://charts-static.billboard.com/img/1988/03/future-f8b-180x180.jpg\",\"award\":false,\"awardsList\":[],\"rank\":4,\"lastWeek\":4,\"change\":\"same\",\"peakPosition\":1,\"weeksOnChart\":9},{\"artist\":\"Drake Featuring 21 Savage\",\"title\":\"Jimmy Cooks\",\"image\":\"https://charts-static.billboard.com/img/2009/04/drake-04g-180x180.jpg\",\"award\":false,\"awardsList\":[],\"rank\":5,\"lastWeek\":1,\"change\":\"down\",\"peakPosition\":1,\"weeksOnChart\":2},{\"artist\":\"Kate Bush\",\"title\":\"Running Up That Hill (A Deal With God)\",\"image\":\"https://charts-static.billboard.com/img/2021/03/kate-bush-qv2-running-up-that-hill-1cx-180x180.jpg\",\"award\":false,\"awardsList\":[],\"rank\":6,\"lastWeek\":9,\"change\":\"up\",\"peakPosition\":4,\"weeksOnChart\":25},{\"artist\":\"Beyonce\",\"title\":\"Break My Soul\",\"image\":\"https://charts-static.billboard.com/img/2022/07/beyonce-0na-break-my-soul-kqf-180x180.jpg\",\"award\":true,\"awardsList\":[{\"awardName\":\"Biggest gain in airplay\",\"svg\":\"<svg xmlns=\\\"http://www.w3.org/2000/svg\\\" style=\\\"width:100%;height:auto\\\" viewBox=\\\"0 0 136 165.558\\\"><g data-name=\\\"Group 9\\\"><path data-name=\\\"Path 3019\\\" d=\\\"M116 65.558l-16 24h8v24h16v-24h8z\\\" fill=\\\"#fcee21\\\"></path><path data-name=\\\"Path 3020\\\" d=\\\"M20 65.558l-16 24h8v24h16v-24h8z\\\" fill=\\\"#fcee21\\\"></path><path data-name=\\\"Path 3021\\\" d=\\\"M88 26.47a20 20 0 10-25.1 19.316l-.2.731c-.892 3.258-2.153 7.914-3.66 13.5-3.011 11.166-7 26.056-10.991 40.948-7.971 29.779-15.913 59.561-15.913 59.561l-1.342 5.031h74.424L73.038 45.801A20.018 20.018 0 0088 26.47zm-32 0a12 12 0 1112.065 12c-.086 0-.173-.007-.256-.006A12.008 12.008 0 0156 26.47zm11.951 31.231l9.635 35.857H58.314c3.707-13.832 7.155-26.675 9.637-35.857zm-18.2 67.857a66812.91 66812.91 0 016.42-24h23.564l6.449 24zm-8.545 32c1.8-6.744 4.008-15.021 6.407-24h40.72l6.449 24z\\\" fill=\\\"#1a48c4\\\"></path><path data-name=\\\"Path 3022\\\" d=\\\"M101.169 40.484a36.1 36.1 0 000-28.028l-7.368 3.116a28.1 28.1 0 010 21.8z\\\" fill=\\\"#1a48c4\\\"></path><path data-name=\\\"Path 3023\\\" d=\\\"M42.2 37.368a28.1 28.1 0 010-21.8l-7.368-3.116a36.1 36.1 0 000 28.028z\\\" fill=\\\"#1a48c4\\\"></path><path data-name=\\\"Path 3024\\\" d=\\\"M108.544 9.344a44.158 44.158 0 010 34.251l7.368 3.116a52.156 52.156 0 000-40.483z\\\" fill=\\\"#1a48c4\\\"></path><path data-name=\\\"Path 3025\\\" d=\\\"M20.088 6.228a52.156 52.156 0 000 40.483l7.368-3.116a44.158 44.158 0 010-34.251z\\\" fill=\\\"#1a48c4\\\"></path><path data-name=\\\"Path 3026\\\" d=\\\"M130.655 0l-7.368 3.116a60.216 60.216 0 010 46.707l7.368 3.116a68.214 68.214 0 000-52.939z\\\" fill=\\\"#1a48c4\\\"></path><path data-name=\\\"Path 3027\\\" d=\\\"M5.345 0a68.214 68.214 0 000 52.939l7.368-3.116a60.216 60.216 0 010-46.707z\\\" fill=\\\"#1a48c4\\\"></path></g></svg>\"},{\"awardName\":\"Gains In Performance\",\"svg\":\"<svg xmlns=\\\"http://www.w3.org/2000/svg\\\" style=\\\"width:100%;height:auto\\\" viewBox=\\\"0 0 128 171.211\\\"><g data-name=\\\"Group 12\\\"><path data-name=\\\"Path 3036\\\" d=\\\"M0 87.211v-24l64-32 64 32v24l-64-32z\\\" fill=\\\"#fcee21\\\"></path><path data-name=\\\"Path 3037\\\" d=\\\"M0 127.211v-24l64-32 64 32v24l-64-32z\\\" fill=\\\"#fcee21\\\"></path><path data-name=\\\"Path 3038\\\" d=\\\"M0 167.211v-24l64-32 64 32v24l-64-32z\\\" fill=\\\"#fcee21\\\"></path><path data-name=\\\"Path 3039\\\" d=\\\"M24.526 59.211H44v112h40v-112h19.474L64 0zm51.474-8v112H52v-112H39.474L64 14.422l24.526 36.789z\\\" fill=\\\"#1a48c4\\\"></path></g></svg>\"}],\"rank\":7,\"lastWeek\":15,\"change\":\"up\",\"peakPosition\":7,\"weeksOnChart\":2},{\"artist\":\"Bad Bunny & Chencho Corleone\",\"title\":\"Me Porto Bonito\",\"image\":\"https://charts-static.billboard.com/img/2022/05/bad-bunny-c3m-me-porto-bonito-kug-180x180.jpg\",\"award\":true,\"awardsList\":[{\"awardName\":\"Gains In Performance\",\"svg\":\"<svg xmlns=\\\"http://www.w3.org/2000/svg\\\" style=\\\"width:100%;height:auto\\\" viewBox=\\\"0 0 128 171.211\\\"><g data-name=\\\"Group 12\\\"><path data-name=\\\"Path 3036\\\" d=\\\"M0 87.211v-24l64-32 64 32v24l-64-32z\\\" fill=\\\"#fcee21\\\"></path><path data-name=\\\"Path 3037\\\" d=\\\"M0 127.211v-24l64-32 64 32v24l-64-32z\\\" fill=\\\"#fcee21\\\"></path><path data-name=\\\"Path 3038\\\" d=\\\"M0 167.211v-24l64-32 64 32v24l-64-32z\\\" fill=\\\"#fcee21\\\"></path><path data-name=\\\"Path 3039\\\" d=\\\"M24.526 59.211H44v112h40v-112h19.474L64 0zm51.474-8v112H52v-112H39.474L64 14.422l24.526 36.789z\\\" fill=\\\"#1a48c4\\\"></path></g></svg>\"}],\"rank\":8,\"lastWeek\":11,\"change\":\"up\",\"peakPosition\":7,\"weeksOnChart\":8},{\"artist\":\"Glass Animals\",\"title\":\"Heat Waves\",\"image\":\"https://charts-static.billboard.com/img/2020/07/glass-animals-rtd-heat-waves-o3i-180x180.jpg\",\"award\":false,\"awardsList\":[],\"rank\":9,\"lastWeek\":10,\"change\":\"up\",\"peakPosition\":1,\"weeksOnChart\":76},{\"artist\":\"Joji\",\"title\":\"Glimpse Of Us\",\"image\":\"https://charts-static.billboard.com/img/2022/06/joji-77h-glimpse-of-us-gt3-180x180.jpg\",\"award\":false,\"awardsList\":[],\"rank\":10,\"lastWeek\":8,\"change\":\"down\",\"peakPosition\":8,\"weeksOnChart\":3}]\n"
     ]
    }
   ],
   "source": [
    "import requests\n",
    "\n",
    "url = \"https://billboard3.p.rapidapi.com/hot-100\"\n",
    "\n",
    "querystring = {\"date\":\"2022-07-07\",\"range\":\"1-10\"}\n",
    "\n",
    "headers = {\n",
    "\t\"X-RapidAPI-Key\": \"a887a57462msh889608deb83b3ddp11d368jsnce0092f67d7a\",\n",
    "\t\"X-RapidAPI-Host\": \"billboard3.p.rapidapi.com\"\n",
    "}\n",
    "\n",
    "response = requests.request(\"GET\", url, headers=headers, params=querystring)\n",
    "\n",
    "print(response.text)"
   ]
  },
  {
   "cell_type": "code",
   "execution_count": 45,
   "metadata": {},
   "outputs": [
    {
     "name": "stdout",
     "output_type": "stream",
     "text": [
      "{\"status\":\"success\",\"data\":{\"stats\":{\"total\":1474,\"totalCoins\":21304,\"totalMarkets\":31359,\"totalExchanges\":171,\"totalMarketCap\":\"933335720684\",\"total24hVolume\":\"48393738116\"},\"coins\":[{\"uuid\":\"Qwsogvtv82FCd\",\"symbol\":\"BTC\",\"name\":\"Bitcoin\",\"color\":\"#f7931A\",\"iconUrl\":\"https://cdn.coinranking.com/bOabBYkcX/bitcoin_btc.svg\",\"marketCap\":\"366055445082\",\"price\":\"19087.564134101154\",\"listedAt\":1330214400,\"tier\":1,\"change\":\"0.02\",\"rank\":1,\"sparkline\":[\"19100.77140776339\",\"19139.343483909608\",\"19107.74757626413\",\"19125.26467544607\",\"19155.377711491547\",\"19145.90173200207\",\"19137.946932319603\",\"19099.16888294777\",\"19106.891443704022\",\"19100.13899301119\",\"19117.10204473073\",\"19106.849997500853\",\"19096.64562593575\",\"19122.13744293084\",\"19130.868911012232\",\"19138.422280581635\",\"19164.21380746879\",\"19178.68753406358\",\"19167.829003771007\",\"19158.503400192974\",\"19142.31709233236\",\"19112.76810728462\",\"19099.76923890871\",\"19100.26170553246\",\"19091.446561683577\"],\"lowVolume\":false,\"coinrankingUrl\":\"https://coinranking.com/coin/Qwsogvtv82FCd+bitcoin-btc\",\"24hVolume\":\"24848201802\",\"btcPrice\":\"1\"},{\"uuid\":\"razxDUgYGNAdQ\",\"symbol\":\"ETH\",\"name\":\"Ethereum\",\"color\":\"#3C3C3D\",\"iconUrl\":\"https://cdn.coinranking.com/rk4RKHOuW/eth.svg\",\"marketCap\":\"157326928353\",\"price\":\"1285.2687649159172\",\"listedAt\":1438905600,\"tier\":1,\"change\":\"-0.36\",\"rank\":2,\"sparkline\":[\"1291.6776366017905\",\"1296.2467641598541\",\"1294.5656549921914\",\"1296.4996947186326\",\"1301.2397970600425\",\"1300.1684065556988\",\"1300.1425119576454\",\"1296.0748599479127\",\"1297.4360791195973\",\"1296.7412977415993\",\"1298.0926038860634\",\"1294.8351056080965\",\"1293.0538957059812\",\"1296.5828162139526\",\"1297.509689605098\",\"1297.3908773329456\",\"1299.4608306391524\",\"1298.3164350785978\",\"1295.5022856807816\",\"1295.0542927297345\",\"1296.5467826169427\",\"1292.9809794127207\",\"1287.4765152733794\",\"1287.0214001306797\",\"1284.9535226942207\"],\"lowVolume\":false,\"coinrankingUrl\":\"https://coinranking.com/coin/razxDUgYGNAdQ+ethereum-eth\",\"24hVolume\":\"8177600344\",\"btcPrice\":\"0.06733539994344812\"},{\"uuid\":\"HIVsRcGKkPFtW\",\"symbol\":\"USDT\",\"name\":\"Tether USD\",\"color\":\"#22a079\",\"iconUrl\":\"https://cdn.coinranking.com/mgHqwlCLj/usdt.svg\",\"marketCap\":\"68438460648\",\"price\":\"1.0002426352802434\",\"listedAt\":1420761600,\"tier\":1,\"change\":\"0.01\",\"rank\":3,\"sparkline\":[\"0.9998025884586756\",\"0.9995668463410777\",\"0.9997396580746005\",\"0.9991859488271857\",\"0.9989766123229601\",\"1.0000171109428426\",\"1.000072633100531\",\"1.001017278460763\",\"1.0001591616480392\",\"1.0002320994319398\",\"0.9996862169357857\",\"1.0002408971145225\",\"1.0000577512995061\",\"0.999567098788077\",\"0.9996336625060454\",\"0.9996162237962098\",\"0.9992893836190323\",\"0.9997546970412062\",\"1.0003425893054547\",\"1.0000802110185432\",\"1.0000131938548675\",\"1.0008019319587325\",\"1.000989958371683\",\"1.0004992240839103\",\"1.0004706107091208\"],\"lowVolume\":false,\"coinrankingUrl\":\"https://coinranking.com/coin/HIVsRcGKkPFtW+tetherusd-usdt\",\"24hVolume\":\"31343287270\",\"btcPrice\":\"0.00005240284345624\"},{\"uuid\":\"aKzUVe4Hh_CON\",\"symbol\":\"USDC\",\"name\":\"USDC\",\"color\":\"#7894b4\",\"iconUrl\":\"https://cdn.coinranking.com/jkDf8sQbY/usdc.svg\",\"marketCap\":\"45817565931\",\"price\":\"1.0001842392017035\",\"listedAt\":1539043200,\"tier\":1,\"change\":\"-0.07\",\"rank\":4,\"sparkline\":[\"1.0003184869761534\",\"1.000168925800393\",\"0.9999409308389783\",\"0.9995897473260447\",\"0.9992667769668551\",\"1.0003644519276016\",\"1.0002494797618298\",\"1.0012607987694395\",\"1.000421694162662\",\"1.000402173804346\",\"0.9999283519394975\",\"1.0001956177485543\",\"1.0002157977678496\",\"0.9996616342375895\",\"0.9998756197343389\",\"0.999784140631018\",\"0.9994563403672927\",\"0.9998430351098059\",\"1.0004656081727505\",\"1.0002083306604672\",\"1.0000574801330278\",\"1.0008548454233563\",\"1.0011161552889811\",\"1.0004392982353723\",\"1.0004194781353\"],\"lowVolume\":false,\"coinrankingUrl\":\"https://coinranking.com/coin/aKzUVe4Hh_CON+usdc-usdc\",\"24hVolume\":\"2959313291\",\"btcPrice\":\"0.000052399784077991\"},{\"uuid\":\"WcwrkfNI4FUAe\",\"symbol\":\"BNB\",\"name\":\"Binance Coin\",\"color\":\"#e8b342\",\"iconUrl\":\"https://cdn.coinranking.com/B1N19L_dZ/bnb.svg\",\"marketCap\":\"39004644633\",\"price\":\"269.2282069028177\",\"listedAt\":1503014400,\"tier\":1,\"change\":\"-1.01\",\"rank\":5,\"sparkline\":[\"271.91326422873396\",\"272.31350055717127\",\"271.58920053769197\",\"271.96110826401883\",\"272.10034775148273\",\"271.83929986715435\",\"271.5810414105919\",\"270.83840998760934\",\"270.6378799467827\",\"270.51130955239347\",\"270.8922449320356\",\"269.9905331248805\",\"269.91476825936206\",\"270.79894321456464\",\"270.8872300793565\",\"270.98013450336805\",\"271.3239098974214\",\"271.2369710302756\",\"271.101479098388\",\"270.98098871819786\",\"271.639436814092\",\"270.4458505555315\",\"269.7868987437791\",\"269.96051720207225\",\"269.3807365145171\"],\"lowVolume\":false,\"coinrankingUrl\":\"https://coinranking.com/coin/WcwrkfNI4FUAe+binancecoin-bnb\",\"24hVolume\":\"734066071\",\"btcPrice\":\"0.014104901233668903\"},{\"uuid\":\"-l8Mn2pVlRs-p\",\"symbol\":\"XRP\",\"name\":\"XRP\",\"color\":\"#000000\",\"iconUrl\":\"https://cdn.coinranking.com/B1oPuTyfX/xrp.svg\",\"marketCap\":\"23509966118\",\"price\":\"0.47053637545048793\",\"listedAt\":1421798400,\"tier\":1,\"change\":\"-3.34\",\"rank\":6,\"sparkline\":[\"0.4877056306427419\",\"0.4901049220406547\",\"0.48934702462150537\",\"0.48719531406668176\",\"0.48797236328064086\",\"0.48742669821942003\",\"0.4892422023778607\",\"0.48896641519501816\",\"0.4896244188772186\",\"0.488596920012167\",\"0.4934470097188604\",\"0.4911587575834096\",\"0.48877089912282107\",\"0.4885903288186197\",\"0.4881265250120865\",\"0.4892210426535321\",\"0.4887887960494007\",\"0.4879509772949865\",\"0.4873499617568416\",\"0.4881313820852007\",\"0.48633950676099347\",\"0.4757880234712845\",\"0.47125553234902007\",\"0.4731177243715651\",\"0.4725193304974035\"],\"lowVolume\":false,\"coinrankingUrl\":\"https://coinranking.com/coin/-l8Mn2pVlRs-p+xrp-xrp\",\"24hVolume\":\"1789376130\",\"btcPrice\":\"0.000024651462708636\"},{\"uuid\":\"vSo2fu9iE1s0Y\",\"symbol\":\"BUSD\",\"name\":\"Binance USD\",\"color\":\"#f0b90b\",\"iconUrl\":\"https://cdn.coinranking.com/6SJHRfClq/busd.svg\",\"marketCap\":\"21221427875\",\"price\":\"1.000347401522267\",\"listedAt\":1563197940,\"tier\":1,\"change\":\"-0.21\",\"rank\":7,\"sparkline\":[\"1.0000535938319535\",\"0.9993015206741257\",\"0.9992979412928847\",\"0.9992974346936204\",\"0.9990252571235719\",\"0.9999581103566587\",\"1.00007311702045\",\"1.001234975687873\",\"1.000391713088151\",\"1.0003251659777517\",\"0.9998979825950829\",\"1.000088160453627\",\"1.000272009439455\",\"0.9996554580677925\",\"0.9996924184368298\",\"0.9996580063979866\",\"0.9992567857448429\",\"0.9998369535890845\",\"1.0003795337641765\",\"1.0000192041155194\",\"0.999827035277134\",\"1.0010170217387018\",\"1.0011817813221007\",\"1.0007253348754674\",\"1.0004609453488684\"],\"lowVolume\":false,\"coinrankingUrl\":\"https://coinranking.com/coin/vSo2fu9iE1s0Y+binanceusd-busd\",\"24hVolume\":\"5590396411\",\"btcPrice\":\"0.000052408332173464\"},{\"uuid\":\"qzawljRxB5bYu\",\"symbol\":\"ADA\",\"name\":\"Cardano\",\"color\":\"#3cc8c8\",\"iconUrl\":\"https://cdn.coinranking.com/ryY28nXhW/ada.svg\",\"marketCap\":\"11582898558\",\"price\":\"0.3722910160714077\",\"listedAt\":1506902400,\"tier\":1,\"change\":\"-4.94\",\"rank\":8,\"sparkline\":[\"0.39252067401746843\",\"0.39387526274350726\",\"0.39349267097456425\",\"0.3940148697195984\",\"0.3943107383247446\",\"0.394176198114732\",\"0.3932048642009743\",\"0.39118243104902656\",\"0.3911990162496316\",\"0.39048228442313143\",\"0.391258918699009\",\"0.3908008215035503\",\"0.38827508400848554\",\"0.38751453657364004\",\"0.3864605887935671\",\"0.3853777332734843\",\"0.38563165447185244\",\"0.3801881065329634\",\"0.38090089274827627\",\"0.38114048219287877\",\"0.38167367610860586\",\"0.37769391035839006\",\"0.3744347367031173\",\"0.3745948764909117\",\"0.3736378682702875\"],\"lowVolume\":false,\"coinrankingUrl\":\"https://coinranking.com/coin/qzawljRxB5bYu+cardano-ada\",\"24hVolume\":\"552937766\",\"btcPrice\":\"0.000019504375385767\"},{\"uuid\":\"zNZHO_Sjf\",\"symbol\":\"SOL\",\"name\":\"Solana\",\"color\":\"#000000\",\"iconUrl\":\"https://cdn.coinranking.com/yvUG4Qex5/solana.svg\",\"marketCap\":\"10964900236\",\"price\":\"30.650855742571498\",\"listedAt\":1586539320,\"tier\":1,\"change\":\"-1.65\",\"rank\":9,\"sparkline\":[\"31.210385845074377\",\"31.31437377455034\",\"31.2462000658173\",\"31.291680704749794\",\"31.387257001701844\",\"31.308796895609376\",\"31.2698095579771\",\"31.14444862672958\",\"31.15072091878064\",\"31.157254792202643\",\"31.249619201575804\",\"31.145690551402282\",\"31.03170161635154\",\"31.089451069220686\",\"31.12663581499555\",\"31.15392742455593\",\"31.203876885757303\",\"31.219092837365665\",\"31.16544224364071\",\"31.155248989864024\",\"31.156548212966054\",\"30.95817374393274\",\"30.80682906594436\",\"30.80333905135274\",\"30.665548343762087\"],\"lowVolume\":false,\"coinrankingUrl\":\"https://coinranking.com/coin/zNZHO_Sjf+solana-sol\",\"24hVolume\":\"631330856\",\"btcPrice\":\"0.001605802370969472\"},{\"uuid\":\"a91GCGd_u96cF\",\"symbol\":\"DOGE\",\"name\":\"Dogecoin\",\"color\":\"#c2a633\",\"iconUrl\":\"https://cdn.coinranking.com/H1arXIuOZ/doge.svg\",\"marketCap\":\"8020974443\",\"price\":\"0.05879608357207651\",\"listedAt\":1391212800,\"tier\":1,\"change\":\"-2.62\",\"rank\":10,\"sparkline\":[\"0.06035871591523217\",\"0.0605044147299303\",\"0.06025749150786387\",\"0.06030133181330444\",\"0.060423933498615565\",\"0.06032846922922995\",\"0.06022874063870676\",\"0.05988465705026199\",\"0.05979272917926893\",\"0.0597225331418747\",\"0.059959470440159826\",\"0.05979035376448757\",\"0.05964983876299978\",\"0.05973375690107231\",\"0.05984083951127913\",\"0.05992296999440376\",\"0.06001385440982791\",\"0.06007156231718466\",\"0.05997323290667098\",\"0.059833815975675414\",\"0.0597864520862407\",\"0.05929146156638222\",\"0.058698226347801925\",\"0.058908012049619\",\"0.05892971530180579\"],\"lowVolume\":false,\"coinrankingUrl\":\"https://coinranking.com/coin/a91GCGd_u96cF+dogecoin-doge\",\"24hVolume\":\"228621083\",\"btcPrice\":\"0.000003080334565427\"},{\"uuid\":\"25W7FG7om\",\"symbol\":\"DOT\",\"name\":\"Polkadot\",\"color\":\"#d64cA8\",\"iconUrl\":\"https://cdn.coinranking.com/RsljYqnbu/polkadot.svg\",\"marketCap\":\"6999881240\",\"price\":\"6.076480163125043\",\"listedAt\":1598365200,\"tier\":1,\"change\":\"-1.90\",\"rank\":11,\"sparkline\":[\"6.204972296366513\",\"6.215449390280833\",\"6.206406171468649\",\"6.2084934743873115\",\"6.222285029058879\",\"6.215401949007378\",\"6.213618355754067\",\"6.193365085049077\",\"6.195577524684267\",\"6.1887458269649835\",\"6.186512935123257\",\"6.169989408881061\",\"6.154735566970365\",\"6.156765739263094\",\"6.165945526618243\",\"6.1544901605322195\",\"6.161626944514466\",\"6.175058289061766\",\"6.173086913298112\",\"6.174674696522207\",\"6.166903205148425\",\"6.12595779774793\",\"6.079467303441903\",\"6.094617626548209\",\"6.090845273646895\"],\"lowVolume\":false,\"coinrankingUrl\":\"https://coinranking.com/coin/25W7FG7om+polkadot-dot\",\"24hVolume\":\"231658776\",\"btcPrice\":\"0.000318347596394923\"},{\"uuid\":\"uW2tk-ILY0ii\",\"symbol\":\"MATIC\",\"name\":\"Polygon\",\"color\":\"#8247e5\",\"iconUrl\":\"https://cdn.coinranking.com/WulYRq14o/polygon.png\",\"marketCap\":\"6674172027\",\"price\":\"0.7622684423622607\",\"listedAt\":1558961160,\"tier\":1,\"change\":\"-3.93\",\"rank\":12,\"sparkline\":[\"0.79353609781098\",\"0.7967056088426174\",\"0.7964424982121195\",\"0.7980579504303267\",\"0.798999407167901\",\"0.7976436662830291\",\"0.7968952786163747\",\"0.7940401294067756\",\"0.7930149416118768\",\"0.791485732587471\",\"0.7931473847261331\",\"0.7904654563952105\",\"0.7869586856837272\",\"0.7869536051318936\",\"0.7877303545750034\",\"0.7868006465832196\",\"0.7873813622959166\",\"0.7887161594463283\",\"0.7860612914785033\",\"0.7837102521274445\",\"0.7855617811951122\",\"0.7783764368920957\",\"0.7685735592994474\",\"0.7692425356720203\",\"0.7643499944985281\"],\"lowVolume\":false,\"coinrankingUrl\":\"https://coinranking.com/coin/uW2tk-ILY0ii+polygon-matic\",\"24hVolume\":\"246813940\",\"btcPrice\":\"0.000039935344133326\"},{\"uuid\":\"MoTuySvg7\",\"symbol\":\"DAI\",\"name\":\"Dai\",\"color\":null,\"iconUrl\":\"https://cdn.coinranking.com/mAZ_7LwOE/mutli-collateral-dai.svg\",\"marketCap\":\"6202707944\",\"price\":\"1.0003099070659387\",\"listedAt\":1585574040,\"tier\":1,\"change\":\"0.03\",\"rank\":13,\"sparkline\":[\"0.9998670565124128\",\"0.9996784152850401\",\"0.9997401454588845\",\"0.9992607810989931\",\"0.9990188179216751\",\"1.0000383847437635\",\"1.000025991079812\",\"1.0009051201659704\",\"1.0000902547268296\",\"1.000147343346243\",\"0.9996965713371524\",\"1.0001406020695256\",\"1.000114134581395\",\"0.9995759597517285\",\"0.9998046721655112\",\"0.9995768117214102\",\"0.9992764024116175\",\"0.9995569781923126\",\"1.0001798689251542\",\"1.0000844179892818\",\"0.9998835509563981\",\"1.000442230932422\",\"1.000950642426637\",\"1.0003409457658463\",\"1.0003521167092544\"],\"lowVolume\":false,\"coinrankingUrl\":\"https://coinranking.com/coin/MoTuySvg7+dai-dai\",\"24hVolume\":\"271582266\",\"btcPrice\":\"0.000052406367833956\"},{\"uuid\":\"xz24e0BjL\",\"symbol\":\"SHIB\",\"name\":\"Shiba Inu\",\"color\":\"#fda32b\",\"iconUrl\":\"https://cdn.coinranking.com/D69LfI-tm/shib.png\",\"marketCap\":\"5892672504\",\"price\":\"0.000009995133678276\",\"listedAt\":1620650373,\"tier\":1,\"change\":\"-2.85\",\"rank\":14,\"sparkline\":[\"0.000010302104044901\",\"0.000010349651601484\",\"0.000010344398961173\",\"0.000010343638965409\",\"0.000010358030739445\",\"0.000010335465636747\",\"0.000010313371953524\",\"0.00001024767986816\",\"0.000010231996832116\",\"0.000010202459020641\",\"0.000010203850311604\",\"0.000010168351134248\",\"0.000010124930593289\",\"0.000010153838175669\",\"0.00001016510723559\",\"0.000010185294645177\",\"0.000010199935812913\",\"0.000010197678040841\",\"0.000010190020211934\",\"0.000010175066515823\",\"0.000010194935191176\",\"0.000010119276188881\",\"0.000010015157015681\",\"0.000010038826273768\",\"0.000010009474442325\"],\"lowVolume\":false,\"coinrankingUrl\":\"https://coinranking.com/coin/xz24e0BjL+shibainu-shib\",\"24hVolume\":\"186585417\",\"btcPrice\":\"5.2364637e-10\"},{\"uuid\":\"qUhEFk1I61atv\",\"symbol\":\"TRX\",\"name\":\"TRON\",\"color\":\"#eb0029\",\"iconUrl\":\"https://cdn.coinranking.com/behejNqQs/trx.svg\",\"marketCap\":\"5701248685\",\"price\":\"0.06175363394022226\",\"listedAt\":1505260800,\"tier\":1,\"change\":\"0.02\",\"rank\":15,\"sparkline\":[\"0.06182044291190045\",\"0.062113850727473316\",\"0.06351601446673555\",\"0.0635858467247124\",\"0.06330357651720518\",\"0.06309239420375767\",\"0.06281849440533636\",\"0.06295544625915886\",\"0.06294119307493513\",\"0.06252486064491686\",\"0.06201266097679427\",\"0.061952961565330526\",\"0.06191099352078886\",\"0.06215624451170626\",\"0.06226530845319353\",\"0.06215479098592301\",\"0.06208930207662629\",\"0.06192688694572451\",\"0.061805093406720364\",\"0.061963141783254745\",\"0.06205821867241236\",\"0.061910779531064816\",\"0.06161742862066395\",\"0.06174245128866282\",\"0.061765719800873344\"],\"lowVolume\":false,\"coinrankingUrl\":\"https://coinranking.com/coin/qUhEFk1I61atv+tron-trx\",\"24hVolume\":\"529891231\",\"btcPrice\":\"0.000003235281018907\"},{\"uuid\":\"Mtfb0obXVh59u\",\"symbol\":\"WETH\",\"name\":\"Wrapped Ether\",\"color\":\"#303030\",\"iconUrl\":\"https://cdn.coinranking.com/KIviQyZlt/weth.svg\",\"marketCap\":\"5273313820\",\"price\":\"1286.1604788767515\",\"listedAt\":1600259445,\"tier\":1,\"change\":\"-0.22\",\"rank\":16,\"sparkline\":[\"1289.941843000679\",\"1293.9955143161578\",\"1295.9314371196917\",\"1296.3738341687958\",\"1299.4035149840906\",\"1302.6732198570535\",\"1300.9520495637646\",\"1298.2913609463667\",\"1297.170352635241\",\"1296.8698749630273\",\"1297.2211984686512\",\"1296.6690531616941\",\"1293.7521304914928\",\"1296.1481579240483\",\"1298.0012064951266\",\"1296.4397311393604\",\"1296.0096073665943\",\"1299.7106840945767\",\"1298.2256546127496\",\"1298.2955262081387\",\"1297.241735367312\",\"1295.601275513359\",\"1287.241736620925\",\"1286.8092927309285\",\"1286.9730781359679\"],\"lowVolume\":false,\"coinrankingUrl\":\"https://coinranking.com/coin/Mtfb0obXVh59u+wrappedether-weth\",\"24hVolume\":\"88741110\",\"btcPrice\":\"0.06738307531492879\"},{\"uuid\":\"x4WXHge-vvFY\",\"symbol\":\"WBTC\",\"name\":\"Wrapped BTC\",\"color\":\"#000000\",\"iconUrl\":\"https://cdn.coinranking.com/o3-8cvCHu/wbtc[1].svg\",\"marketCap\":\"4662253161\",\"price\":\"19075.80943893763\",\"listedAt\":1549894980,\"tier\":1,\"change\":\"-0.06\",\"rank\":17,\"sparkline\":[\"19103.574687736513\",\"19141.64901589317\",\"19110.780029400776\",\"19121.68647044404\",\"19158.19864789848\",\"19145.288180578773\",\"19139.40744214324\",\"19100.673027794317\",\"19104.295488106138\",\"19099.30375158462\",\"19117.111525603654\",\"19109.51291462512\",\"19098.36768794763\",\"19126.870851180887\",\"19132.855486762885\",\"19142.446662639177\",\"19167.18680399502\",\"19181.894751998327\",\"19166.694239818193\",\"19154.673540317155\",\"19142.818135455662\",\"19107.338375386375\",\"19090.579665661826\",\"19094.27790353065\",\"19084.51967565449\"],\"lowVolume\":false,\"coinrankingUrl\":\"https://coinranking.com/coin/x4WXHge-vvFY+wrappedbtc-wbtc\",\"24hVolume\":\"141145026\",\"btcPrice\":\"0.9993841699715615\"},{\"uuid\":\"dvUj0CzDZ\",\"symbol\":\"AVAX\",\"name\":\"Avalanche\",\"color\":\"#e84242\",\"iconUrl\":\"https://cdn.coinranking.com/S0C6Cw2-w/avax-avalanche.png\",\"marketCap\":\"4604102544\",\"price\":\"15.536559461452313\",\"listedAt\":1600961596,\"tier\":1,\"change\":\"-2.67\",\"rank\":18,\"sparkline\":[\"15.971290297465687\",\"16.04568039167244\",\"16.007272281281008\",\"16.047302130965964\",\"16.11066794865584\",\"16.09981718411465\",\"16.0923072884437\",\"16.010510782594487\",\"16.009911800036196\",\"15.980245923556813\",\"16.022306815010516\",\"15.987492348720576\",\"15.928780190840333\",\"15.953630224027334\",\"15.980037350227805\",\"15.984626963378483\",\"15.998402934361396\",\"16.029787216980555\",\"15.990079363016049\",\"15.966708664231552\",\"15.959507434732522\",\"15.79610301334472\",\"15.551791164600338\",\"15.603694913987374\",\"15.582113455638996\"],\"lowVolume\":false,\"coinrankingUrl\":\"https://coinranking.com/coin/dvUj0CzDZ+avalanche-avax\",\"24hVolume\":\"195232769\",\"btcPrice\":\"0.00081396239731267\"},{\"uuid\":\"_H5FVG9iW\",\"symbol\":\"UNI\",\"name\":\"Uniswap\",\"color\":\"#ff007a\",\"iconUrl\":\"https://cdn.coinranking.com/1heSvUgtl/uniswap-v2.svg?size=48x48\",\"marketCap\":\"4471518635\",\"price\":\"5.758114772582682\",\"listedAt\":1600323371,\"tier\":1,\"change\":\"-5.53\",\"rank\":19,\"sparkline\":[\"6.1137920931676915\",\"6.141377901787754\",\"6.109993574917787\",\"6.115610822196178\",\"6.13775444337768\",\"6.114446576801428\",\"6.105803098475257\",\"6.074705066697931\",\"6.086981526171975\",\"6.082592166577034\",\"6.110384619942078\",\"6.094776976963478\",\"6.057628618037816\",\"6.0855825875382585\",\"6.0917577302513175\",\"6.088680059864249\",\"6.10036144211662\",\"6.098934285069833\",\"6.0726864058131635\",\"6.043741284827409\",\"6.004093352467678\",\"5.926359079706556\",\"5.791020283214529\",\"5.787027863862137\",\"5.7756064104696865\"],\"lowVolume\":false,\"coinrankingUrl\":\"https://coinranking.com/coin/_H5FVG9iW+uniswap-uni\",\"24hVolume\":\"83301558\",\"btcPrice\":\"0.000301668391635968\"},{\"uuid\":\"PDKcptVnzJTmN\",\"symbol\":\"OKB\",\"name\":\"OKB\",\"color\":\"#2d60e0\",\"iconUrl\":\"https://cdn.coinranking.com/xcZdYtX6E/okx.png\",\"marketCap\":\"4215508843\",\"price\":\"16.752966087401443\",\"listedAt\":1538524800,\"tier\":1,\"change\":\"5.56\",\"rank\":20,\"sparkline\":[\"15.913082238672033\",\"15.969050754930159\",\"15.996849865859563\",\"15.947545858923256\",\"16.007142845963717\",\"15.996079412657137\",\"16.005759317974327\",\"15.886159212678011\",\"15.913927349918064\",\"15.95243866819292\",\"16.02224797194165\",\"15.963275551885276\",\"15.961285295357966\",\"15.98630835202917\",\"16.04192217802242\",\"16.216987817261266\",\"16.198017026132533\",\"16.261473336738238\",\"16.432466025324057\",\"16.490103357447353\",\"16.68251464782233\",\"16.603512314051695\",\"16.429033751955785\",\"16.688726403584926\",\"16.79495803971385\"],\"lowVolume\":false,\"coinrankingUrl\":\"https://coinranking.com/coin/PDKcptVnzJTmN+okb-okb\",\"24hVolume\":\"33649579\",\"btcPrice\":\"0.000877690100722239\"},{\"uuid\":\"ncYFcP709\",\"symbol\":\"CAKE\",\"name\":\"PancakeSwap\",\"color\":\"#fe9555\",\"iconUrl\":\"https://cdn.coinranking.com/aRtgdw7bQ/pancakeswap-cake-logo.png\",\"marketCap\":\"4121685189\",\"price\":\"4.386250093491571\",\"listedAt\":1613642379,\"tier\":1,\"change\":\"-3.49\",\"rank\":21,\"sparkline\":[\"4.549676815558783\",\"4.552343437983433\",\"4.546916233619528\",\"4.549258320653753\",\"4.564462230053396\",\"4.58174585425837\",\"4.58798442803999\",\"4.516864372346332\",\"4.490906538351236\",\"4.479992186852571\",\"4.475959388499419\",\"4.454816815293995\",\"4.446674225825779\",\"4.465042317587556\",\"4.464586237866187\",\"4.462445945879758\",\"4.468543036504579\",\"4.4654375539077815\",\"4.475053092200925\",\"4.461199463545525\",\"4.469681262183743\",\"4.452958470016366\",\"4.427227324531306\",\"4.40899879216857\",\"4.396282900356349\"],\"lowVolume\":false,\"coinrankingUrl\":\"https://coinranking.com/coin/ncYFcP709+pancakeswap-cake\",\"24hVolume\":\"58101244\",\"btcPrice\":\"0.000229796220338836\"},{\"uuid\":\"D7B1x_ks7WhV5\",\"symbol\":\"LTC\",\"name\":\"Litecoin\",\"color\":\"#345d9d\",\"iconUrl\":\"https://cdn.coinranking.com/BUvPxmc9o/ltcnew.svg\",\"marketCap\":\"3673945625\",\"price\":\"51.84406470389362\",\"listedAt\":1382572800,\"tier\":1,\"change\":\"-0.77\",\"rank\":22,\"sparkline\":[\"52.29357118234588\",\"52.560953857362485\",\"52.47593591674778\",\"52.59840673843084\",\"52.74116547405248\",\"52.470963924628016\",\"52.30959257145694\",\"52.09001795238555\",\"52.15081395687535\",\"52.12970443780629\",\"52.22078821416581\",\"52.07864176106166\",\"52.045348070541\",\"52.17909476941324\",\"52.2022756350905\",\"52.14871299696744\",\"52.24361609016691\",\"52.24408890361021\",\"52.16994244133274\",\"52.22150931205504\",\"52.35263782065842\",\"52.0348594552937\",\"51.84554883703099\",\"51.91904831645147\",\"51.91626090686419\"],\"lowVolume\":false,\"coinrankingUrl\":\"https://coinranking.com/coin/D7B1x_ks7WhV5+litecoin-ltc\",\"24hVolume\":\"588245081\",\"btcPrice\":\"0.002716117380911422\"},{\"uuid\":\"Knsels4_Ol-Ny\",\"symbol\":\"ATOM\",\"name\":\"Cosmos\",\"color\":\"#5064fb\",\"iconUrl\":\"https://cdn.coinranking.com/HJzHboruM/atom.svg\",\"marketCap\":\"3554234340\",\"price\":\"11.389122173134037\",\"listedAt\":1552520100,\"tier\":1,\"change\":\"-5.34\",\"rank\":23,\"sparkline\":[\"12.065080400509549\",\"12.133196920063575\",\"12.107809478530966\",\"12.127246847216995\",\"12.149121074829239\",\"12.11014340812835\",\"12.075657462587376\",\"12.020408229527229\",\"12.021841666535522\",\"11.963342637469308\",\"12.001557662066565\",\"11.933362526494951\",\"11.848037077692375\",\"11.814766191463486\",\"11.81512227689274\",\"11.747793647787152\",\"11.772707552601942\",\"11.802604067261012\",\"11.775978253252209\",\"11.754583990901533\",\"11.769174030235433\",\"11.52408790131455\",\"11.390680357042926\",\"11.426658387770571\",\"11.43014825262898\"],\"lowVolume\":false,\"coinrankingUrl\":\"https://coinranking.com/coin/Knsels4_Ol-Ny+cosmos-atom\",\"24hVolume\":\"308829737\",\"btcPrice\":\"0.000596677611303301\"},{\"uuid\":\"NfeOYfNcl\",\"symbol\":\"FTT\",\"name\":\"FTX Token\",\"color\":\"#77d9ed\",\"iconUrl\":\"https://cdn.coinranking.com/WyBm4_EzM/ftx-exchange.svg\",\"marketCap\":\"3092345308\",\"price\":\"23.185639474431486\",\"listedAt\":1566222960,\"tier\":1,\"change\":\"-0.64\",\"rank\":24,\"sparkline\":[\"23.335615702172586\",\"23.39585645274717\",\"23.343279016192316\",\"23.368532265681516\",\"23.413515388525443\",\"23.38620370811464\",\"23.3754798851825\",\"23.31520870717147\",\"23.312234252886903\",\"23.304028087116144\",\"23.34200442793739\",\"23.297930934925326\",\"23.274354407066408\",\"23.343288791058747\",\"23.358723148053766\",\"23.37637356506625\",\"23.40620946666411\",\"23.394078174648286\",\"23.378417976570752\",\"23.361233249800147\",\"23.363735283581683\",\"23.28477417926353\",\"23.24637984996518\",\"23.237371449181385\",\"23.191369839833786\"],\"lowVolume\":false,\"coinrankingUrl\":\"https://coinranking.com/coin/NfeOYfNcl+ftxtoken-ftt\",\"24hVolume\":\"39715163\",\"btcPrice\":\"0.001214698707050255\"},{\"uuid\":\"hnfQfsYfeIGUQ\",\"symbol\":\"ETC\",\"name\":\"Ethereum Classic\",\"color\":\"#699070\",\"iconUrl\":\"https://cdn.coinranking.com/rJfyor__W/etc.svg\",\"marketCap\":\"2660148646\",\"price\":\"22.870545920392892\",\"listedAt\":1469577600,\"tier\":1,\"change\":\"-4.60\",\"rank\":25,\"sparkline\":[\"24.00416430577118\",\"24.127476663248583\",\"24.0824308125669\",\"24.104157947932247\",\"24.16502645546883\",\"24.114620805655562\",\"24.117207328736235\",\"23.971278808572933\",\"23.91743453694318\",\"23.837699706737112\",\"23.86019593203877\",\"23.766258878276165\",\"23.703595841142135\",\"23.80097284169614\",\"23.92757540808804\",\"23.916206031318357\",\"23.909573401385565\",\"23.908507931691886\",\"23.852137700158874\",\"23.815928848864107\",\"23.857280090393818\",\"23.620729761965578\",\"23.171004092169696\",\"23.2276587013627\",\"23.06970496752112\"],\"lowVolume\":false,\"coinrankingUrl\":\"https://coinranking.com/coin/hnfQfsYfeIGUQ+ethereumclassic-etc\",\"24hVolume\":\"532197499\",\"btcPrice\":\"0.001198190914236835\"},{\"uuid\":\"3mVx2FX_iJFp5\",\"symbol\":\"XMR\",\"name\":\"Monero\",\"color\":\"#ff7519\",\"iconUrl\":\"https://cdn.coinranking.com/Syz-oSd_Z/xmr.svg\",\"marketCap\":\"2597216666\",\"price\":\"142.81019136315027\",\"listedAt\":1422489600,\"tier\":1,\"change\":\"-1.97\",\"rank\":26,\"sparkline\":[\"145.7287933013975\",\"145.90779207980776\",\"145.74842550802893\",\"146.3330061848262\",\"146.33739354826403\",\"145.6098365301342\",\"144.86988303749882\",\"143.8173517982758\",\"143.56882951042058\",\"143.53133261640673\",\"143.3522882693263\",\"143.2798087841838\",\"143.09407972608125\",\"143.09547724896066\",\"143.47497726576484\",\"143.81202031367957\",\"144.22866691205104\",\"144.63718655821282\",\"145.25705847065854\",\"145.0435274840397\",\"144.77066967309332\",\"143.62079666186744\",\"142.0592791459734\",\"142.58909072553894\",\"143.2110682643405\"],\"lowVolume\":false,\"coinrankingUrl\":\"https://coinranking.com/coin/3mVx2FX_iJFp5+monero-xmr\",\"24hVolume\":\"101499188\",\"btcPrice\":\"0.007481844742463011\"},{\"uuid\":\"f3iaFeCKEmkaZ\",\"symbol\":\"XLM\",\"name\":\"Stellar\",\"color\":\"#000000\",\"iconUrl\":\"https://cdn.coinranking.com/78CxK1xsp/Stellar_symbol_black_RGB.svg\",\"marketCap\":\"2282809980\",\"price\":\"0.11297950147486376\",\"listedAt\":1484611200,\"tier\":1,\"change\":\"-2.71\",\"rank\":27,\"sparkline\":[\"0.11611478410975387\",\"0.11624286846198124\",\"0.11619342120478589\",\"0.11620060011109687\",\"0.11643232625474582\",\"0.11661272751708227\",\"0.11625223394832375\",\"0.11552817612980673\",\"0.11568370111927255\",\"0.11563603252963502\",\"0.11594746838386884\",\"0.11607138144901112\",\"0.11565934516325185\",\"0.1160311576362536\",\"0.11615485474992364\",\"0.11616666869344804\",\"0.11610549265236536\",\"0.11621311333482921\",\"0.11624833815781077\",\"0.11630038528766233\",\"0.11554948913696624\",\"0.11447198015482822\",\"0.11332511572086094\",\"0.11360195239444003\",\"0.11325359450590937\"],\"lowVolume\":false,\"coinrankingUrl\":\"https://coinranking.com/coin/f3iaFeCKEmkaZ+stellar-xlm\",\"24hVolume\":\"147398329\",\"btcPrice\":\"0.000005919010968666\"},{\"uuid\":\"TpHE2IShQw-sJ\",\"symbol\":\"ALGO\",\"name\":\"Algorand\",\"color\":null,\"iconUrl\":\"https://cdn.coinranking.com/lzbmCkUGB/algo.svg\",\"marketCap\":\"2139672684\",\"price\":\"0.3044291206613805\",\"listedAt\":1562082540,\"tier\":1,\"change\":\"-3.84\",\"rank\":28,\"sparkline\":[\"0.3171751935403727\",\"0.31868288308103904\",\"0.3180363460039525\",\"0.31914884901722557\",\"0.3198278899105449\",\"0.3189463600564082\",\"0.31801318402949197\",\"0.3164322517159824\",\"0.31634616664699483\",\"0.3158157059524053\",\"0.3166698244144793\",\"0.3158542911766765\",\"0.3140263786708132\",\"0.3143248699716875\",\"0.31493855174367924\",\"0.3150638824211092\",\"0.31538670998343094\",\"0.31547723421065144\",\"0.3146504477694023\",\"0.3134381079908639\",\"0.31154817881760205\",\"0.3083431887709445\",\"0.3046197484202268\",\"0.30556880395481134\",\"0.3050730514767288\"],\"lowVolume\":false,\"coinrankingUrl\":\"https://coinranking.com/coin/TpHE2IShQw-sJ+algorand-algo\",\"24hVolume\":\"96479134\",\"btcPrice\":\"0.000015949081743621\"},{\"uuid\":\"ZlZpzOJo43mIo\",\"symbol\":\"BCH\",\"name\":\"Bitcoin Cash\",\"color\":\"#8dc451\",\"iconUrl\":\"https://cdn.coinranking.com/By8ziihX7/bch.svg\",\"marketCap\":\"2112919731\",\"price\":\"110.4425051427835\",\"listedAt\":1541808000,\"tier\":1,\"change\":\"-0.90\",\"rank\":29,\"sparkline\":[\"111.73437615563009\",\"112.05725329948744\",\"111.60603635903207\",\"111.7697028811233\",\"112.04776217638138\",\"111.99840851873293\",\"111.99704550802772\",\"111.82375624318325\",\"111.92725138901154\",\"111.9222845296837\",\"112.13909131394223\",\"112.0067009084468\",\"111.80216410154186\",\"111.7538569242065\",\"111.80374408873234\",\"111.97436300369894\",\"112.06881554015509\",\"112.16916986534609\",\"112.07308346020149\",\"111.86443346015463\",\"112.17046089377399\",\"111.18202486957627\",\"110.54918982260733\",\"111.1692546221353\",\"110.77605925037652\"],\"lowVolume\":false,\"coinrankingUrl\":\"https://coinranking.com/coin/ZlZpzOJo43mIo+bitcoincash-bch\",\"24hVolume\":\"209162090\",\"btcPrice\":\"0.005786097396548934\"},{\"uuid\":\"65PHZTpmE55b\",\"symbol\":\"CRO\",\"name\":\"Cronos\",\"color\":\"#01275d\",\"iconUrl\":\"https://cdn.coinranking.com/2o91jm73M/cro.svg\",\"marketCap\":\"2030043729\",\"price\":\"0.10056131470511871\",\"listedAt\":1548953220,\"tier\":1,\"change\":\"-1.25\",\"rank\":30,\"sparkline\":[\"0.10212754506615787\",\"0.10250011352438512\",\"0.10230166180390267\",\"0.10233477595357236\",\"0.10287174471235619\",\"0.10285755211277682\",\"0.10256575233830766\",\"0.10229324951075007\",\"0.1021421465874546\",\"0.10219273959587849\",\"0.102244584995498\",\"0.10207235814451604\",\"0.10185791069945645\",\"0.10193062535218834\",\"0.10206151278836766\",\"0.10200064519432812\",\"0.10227780133735762\",\"0.102363940583907\",\"0.10218891079078159\",\"0.10195156034543958\",\"0.1017818128183007\",\"0.10124541685754199\",\"0.10071819595798079\",\"0.10069117654763317\",\"0.10067255501599817\"],\"lowVolume\":false,\"coinrankingUrl\":\"https://coinranking.com/coin/65PHZTpmE55b+cronos-cro\",\"24hVolume\":\"24345153\",\"btcPrice\":\"0.000005268420527555\"},{\"uuid\":\"AaQUAs2Mc\",\"symbol\":\"LUNC\",\"name\":\"Terra Classic\",\"color\":\"#0E3CA5\",\"iconUrl\":\"https://cdn.coinranking.com/F-PJdF8Um/LUNA.svg\",\"marketCap\":\"1839357920\",\"price\":\"0.000279140477695159\",\"listedAt\":1565957940,\"tier\":1,\"change\":\"-2.40\",\"rank\":31,\"sparkline\":[\"0.000285329644418748\",\"0.00029535507202863\",\"0.000291129695919424\",\"0.000292139329760707\",\"0.000292287463659115\",\"0.000291100420932035\",\"0.000288268201358365\",\"0.00028473022987627\",\"0.000286210975380309\",\"0.000284831289713184\",\"0.000287472708467729\",\"0.000285775177511868\",\"0.000285023202994829\",\"0.000285661728427689\",\"0.000285340015964695\",\"0.000284687356311886\",\"0.000283891165335218\",\"0.000284921632187455\",\"0.000286216843456204\",\"0.000286750490501763\",\"0.000287780560524145\",\"0.000288170213930347\",\"0.000285423141890913\",\"0.0002838001225246\",\"0.00027997171481088\"],\"lowVolume\":false,\"coinrankingUrl\":\"https://coinranking.com/coin/AaQUAs2Mc+terraclassic-lunc\",\"24hVolume\":\"436962647\",\"btcPrice\":\"1.4624206407e-8\"},{\"uuid\":\"DCrsaMv68\",\"symbol\":\"NEAR\",\"name\":\"NEAR Protocol\",\"color\":\"#000000\",\"iconUrl\":\"https://cdn.coinranking.com/Cth83dCnl/near.png\",\"marketCap\":\"1819786388\",\"price\":\"2.993836238275153\",\"listedAt\":1615164591,\"tier\":1,\"change\":\"-5.97\",\"rank\":32,\"sparkline\":[\"3.1887270901594222\",\"3.2030257852211608\",\"3.196273790133135\",\"3.1974950109880718\",\"3.1997486603568017\",\"3.1970318233153576\",\"3.193563855129808\",\"3.1719219094597766\",\"3.1722443364492006\",\"3.166371783783162\",\"3.1703251025748735\",\"3.157711001583678\",\"3.1507920949983426\",\"3.152759717650104\",\"3.156489417497949\",\"3.160152572659337\",\"3.164624358349841\",\"3.169529116120824\",\"3.1616468644486093\",\"3.1544028390218446\",\"3.1472779766470427\",\"3.1005884130624923\",\"3.053216635035266\",\"3.041963346806925\",\"3.0209615891415287\"],\"lowVolume\":false,\"coinrankingUrl\":\"https://coinranking.com/coin/DCrsaMv68+nearprotocol-near\",\"24hVolume\":\"228679178\",\"btcPrice\":\"0.0001568474749969\"},{\"uuid\":\"SbWqqTui-\",\"symbol\":\"ENS\",\"name\":\"EnergySwap\",\"color\":\"#ffda55\",\"iconUrl\":\"https://cdn.coinranking.com/fmYxEUV5a/cropped-logo37-Converted-01-192x192.png\",\"marketCap\":\"1687308186\",\"price\":\"16.87308186223951\",\"listedAt\":1626134763,\"tier\":1,\"change\":\"2.60\",\"rank\":33,\"sparkline\":[\"16.445714715980703\",\"16.551713511939443\",\"16.610489562624846\",\"16.648462917736495\",\"16.81131564800994\",\"16.88693332038903\",\"16.999587135045022\",\"17.221962040175093\",\"17.269606457931914\",\"17.2520286277383\",\"17.31895697323482\",\"17.249524102619546\",\"17.291211183540963\",\"17.28393819530163\",\"17.36270721540079\",\"17.3685268343324\",\"17.306957752119125\",\"17.266446113452478\",\"17.192651512572297\",\"17.23372931625003\",\"17.254066198201613\",\"16.99531502776686\",\"16.892829629105968\",\"16.906987601108533\",\"16.853938175308137\"],\"lowVolume\":false,\"coinrankingUrl\":\"https://coinranking.com/coin/SbWqqTui-+energyswap-ens\",\"24hVolume\":\"7126530\",\"btcPrice\":\"0.000883985962362997\"},{\"uuid\":\"08CsQa-Ov\",\"symbol\":\"WEMIX\",\"name\":\"WEMIX TOKEN\",\"color\":\"#9bdc70\",\"iconUrl\":\"https://cdn.coinranking.com/1N84MQsoO/7548.png\",\"marketCap\":\"1609644684\",\"price\":\"1.6096446841259688\",\"listedAt\":1638249982,\"tier\":1,\"change\":\"-5.78\",\"rank\":34,\"sparkline\":[\"1.702569755706722\",\"1.70476377862634\",\"1.6835678663995453\",\"1.6838526904284539\",\"1.6947507975666016\",\"1.6879437904260108\",\"1.6843935323983708\",\"1.6855790999134808\",\"1.6846357247698256\",\"1.6931006320296096\",\"1.6902359989606028\",\"1.6910838825551893\",\"1.6899440681189206\",\"1.6909170432292737\",\"1.6920078326239052\",\"1.6871504935378507\",\"1.6852726648599505\",\"1.685592539536627\",\"1.6789184070809202\",\"1.6744220568671229\",\"1.6541122981037557\",\"1.6299431127234052\",\"1.6135100480888152\",\"1.6173203492119752\",\"1.6189300429691023\"],\"lowVolume\":false,\"coinrankingUrl\":\"https://coinranking.com/coin/08CsQa-Ov+wemixtoken-wemix\",\"24hVolume\":\"44968193\",\"btcPrice\":\"0.000084329497091262\"},{\"uuid\":\"QQ0NCmjVq\",\"symbol\":\"FLOW\",\"name\":\"Flow\",\"color\":\"#9efad7\",\"iconUrl\":\"https://cdn.coinranking.com/xh8X8QBss/flow.png\",\"marketCap\":\"1548948375\",\"price\":\"1.4948353359974944\",\"listedAt\":1614963736,\"tier\":1,\"change\":\"-4.06\",\"rank\":35,\"sparkline\":[\"1.5599141576332385\",\"1.5643130662207727\",\"1.5641334626234142\",\"1.5687913966841125\",\"1.5759339874735767\",\"1.5745447148522929\",\"1.5726760909727147\",\"1.5601948609880432\",\"1.5614578874483802\",\"1.5567814548032304\",\"1.5604146925006783\",\"1.5555925666968435\",\"1.550228270355156\",\"1.5549957378529777\",\"1.5560396363653726\",\"1.5541240563417866\",\"1.5544250415007177\",\"1.5576440531622393\",\"1.5589514812963414\",\"1.5573328111820177\",\"1.5527453269274585\",\"1.5299015652120604\",\"1.5074148974768866\",\"1.5052770786848717\",\"1.4984393451358997\"],\"lowVolume\":false,\"coinrankingUrl\":\"https://coinranking.com/coin/QQ0NCmjVq+flow-flow\",\"24hVolume\":\"25152215\",\"btcPrice\":\"0.000078314620215309\"},{\"uuid\":\"jad286TjB\",\"symbol\":\"HBAR\",\"name\":\"Hedera\",\"color\":\"#000000\",\"iconUrl\":\"https://cdn.coinranking.com/dSCnSLilQ/hedera.svg\",\"marketCap\":\"1524444779\",\"price\":\"0.06261594723177151\",\"listedAt\":1568704980,\"tier\":1,\"change\":\"-0.79\",\"rank\":36,\"sparkline\":[\"0.0633129137996663\",\"0.06346583595168086\",\"0.06349099288131063\",\"0.06350261581818628\",\"0.06386531474082693\",\"0.06471361653190763\",\"0.06552388228316676\",\"0.06563441104979335\",\"0.0654506388156204\",\"0.06479551602983948\",\"0.06501667928110343\",\"0.06548016318002928\",\"0.06556970114836601\",\"0.06577189507340953\",\"0.06600097211867949\",\"0.06642201036402498\",\"0.06655829140102525\",\"0.06591811648135437\",\"0.06580357004104936\",\"0.06619196275064149\",\"0.06462443508087336\",\"0.0638981761544154\",\"0.06377020018050712\",\"0.06368081170424733\",\"0.06314349716379733\"],\"lowVolume\":false,\"coinrankingUrl\":\"https://coinranking.com/coin/jad286TjB+hedera-hbar\",\"24hVolume\":\"223252938\",\"btcPrice\":\"0.000003280457725871\"},{\"uuid\":\"ymQub4fuB\",\"symbol\":\"FIL\",\"name\":\"Filecoin\",\"color\":\"#0090ff\",\"iconUrl\":\"https://cdn.coinranking.com/vUmvv-IQA/FIL3-filecoin.svg?size=48x48\",\"marketCap\":\"1504454506\",\"price\":\"5.0587488517882235\",\"listedAt\":1602839473,\"tier\":1,\"change\":\"-2.02\",\"rank\":37,\"sparkline\":[\"5.1686388497766504\",\"5.191606874568098\",\"5.187298065654669\",\"5.186536267017284\",\"5.203632375757242\",\"5.202869429152412\",\"5.192912458065749\",\"5.172791523041162\",\"5.1818732241345815\",\"5.173953827540303\",\"5.1868018046030056\",\"5.14390933681308\",\"5.122213733101893\",\"5.1302269254335044\",\"5.136352769683806\",\"5.145086254253208\",\"5.1488453558479055\",\"5.149971330325745\",\"5.148920731695201\",\"5.147121280465226\",\"5.146712977175991\",\"5.105948841753626\",\"5.073242337484015\",\"5.083456455027121\",\"5.074873027149178\"],\"lowVolume\":false,\"coinrankingUrl\":\"https://coinranking.com/coin/ymQub4fuB+filecoin-fil\",\"24hVolume\":\"105040972\",\"btcPrice\":\"0.000265028518895737\"},{\"uuid\":\"DXwP4wF9ksbBO\",\"symbol\":\"HT\",\"name\":\"Huobi Token\",\"color\":\"#2daadf\",\"iconUrl\":\"https://cdn.coinranking.com/ryFpQe0c7/ht.svg\",\"marketCap\":\"1497747855\",\"price\":\"7.30959391726921\",\"listedAt\":1517702400,\"tier\":1,\"change\":\"11.29\",\"rank\":38,\"sparkline\":[\"6.551395122417918\",\"6.498353733438137\",\"6.449494398556883\",\"6.5044808630572675\",\"6.489564773753065\",\"6.478895677790284\",\"6.2787473917198104\",\"6.240209103307563\",\"6.296363665889593\",\"6.342764461015115\",\"6.275708659742857\",\"6.516147462920048\",\"6.4893552297829125\",\"6.469098012814509\",\"6.524485727810331\",\"6.563844416379591\",\"6.617508505551867\",\"6.97128085167234\",\"7.110328703336429\",\"7.315424458123404\",\"7.467401237015303\",\"7.448148003620864\",\"7.448629677934976\",\"7.371370758861538\",\"7.2485497987119425\"],\"lowVolume\":false,\"coinrankingUrl\":\"https://coinranking.com/coin/DXwP4wF9ksbBO+huobitoken-ht\",\"24hVolume\":\"78328961\",\"btcPrice\":\"0.000382950588451994\"},{\"uuid\":\"bauj_21eYVwso\",\"symbol\":\"QNT\",\"name\":\"Quant\",\"color\":\"#585e63\",\"iconUrl\":\"https://cdn.coinranking.com/a-i9Dl392/quant.png\",\"marketCap\":\"1493825967\",\"price\":\"152.78612147861034\",\"listedAt\":1533945600,\"tier\":1,\"change\":\"-1.53\",\"rank\":39,\"sparkline\":[\"155.57974055035396\",\"155.11178656377845\",\"154.06189658753706\",\"154.8654228847202\",\"154.89760527715066\",\"156.13970895996286\",\"156.90401660169792\",\"156.96969824653988\",\"155.7987307283559\",\"155.78013169298205\",\"155.89837311953403\",\"154.87189999386888\",\"154.87657138005693\",\"155.50668232732454\",\"155.59957927199446\",\"155.05371686801757\",\"154.90599239068652\",\"154.54837070527844\",\"154.06418397991587\",\"154.11472708202476\",\"155.15433091980793\",\"155.16706933566317\",\"154.10613712423773\",\"153.79343149111446\",\"153.5109290738616\"],\"lowVolume\":false,\"coinrankingUrl\":\"https://coinranking.com/coin/bauj_21eYVwso+quant-qnt\",\"24hVolume\":\"87819229\",\"btcPrice\":\"0.008004485035659849\"},{\"uuid\":\"FEbS54wxo4oIl\",\"symbol\":\"VET\",\"name\":\"VeChain\",\"color\":\"#4bc0fa\",\"iconUrl\":\"https://cdn.coinranking.com/B1_TDu9Dm/VEN.svg\",\"marketCap\":\"1479776812\",\"price\":\"0.022165374184944554\",\"listedAt\":1533427200,\"tier\":1,\"change\":\"-2.90\",\"rank\":40,\"sparkline\":[\"0.022844769401618756\",\"0.022936872826188528\",\"0.02290310267268389\",\"0.022936065192376145\",\"0.022980138933279198\",\"0.02289436776644236\",\"0.02285669728728095\",\"0.022760094254382357\",\"0.022723422848929038\",\"0.022688012896856326\",\"0.0227080871889233\",\"0.022668727423292952\",\"0.02260704393727484\",\"0.02267996506143344\",\"0.02273031239486227\",\"0.022797633048894116\",\"0.022861260177265946\",\"0.022837723366180063\",\"0.02281548915390685\",\"0.022795941826127715\",\"0.02275543775896526\",\"0.02259467729851517\",\"0.022254405366707405\",\"0.022226502357719953\",\"0.022203673658163888\"],\"lowVolume\":false,\"coinrankingUrl\":\"https://coinranking.com/coin/FEbS54wxo4oIl+vechain-vet\",\"24hVolume\":\"75118666\",\"btcPrice\":\"0.000001161246874102\"},{\"uuid\":\"tEf7-dnwV3BXS\",\"symbol\":\"MANA\",\"name\":\"Decentraland\",\"color\":\"#f47e33\",\"iconUrl\":\"https://cdn.coinranking.com/ph_svUzXs/decentraland(1).svg\",\"marketCap\":\"1377458685\",\"price\":\"0.6279746977505206\",\"listedAt\":1500336000,\"tier\":1,\"change\":\"-4.06\",\"rank\":41,\"sparkline\":[\"0.655502307299186\",\"0.657805185456491\",\"0.656425030003748\",\"0.6566044773454645\",\"0.6581408198549763\",\"0.656908144585799\",\"0.6563919278545015\",\"0.6527193642309664\",\"0.6524082202023858\",\"0.651052418169492\",\"0.6522449025256555\",\"0.6505284391321423\",\"0.6484453685146951\",\"0.6490982996068095\",\"0.649621138017031\",\"0.6492115081966688\",\"0.6498596090487501\",\"0.6500105220065829\",\"0.6486719688041056\",\"0.6480143735716669\",\"0.645314421892347\",\"0.6379475070878058\",\"0.6290344539435647\",\"0.6297625333084507\",\"0.6294351086413272\"],\"lowVolume\":false,\"coinrankingUrl\":\"https://coinranking.com/coin/tEf7-dnwV3BXS+decentraland-mana\",\"24hVolume\":\"102324461\",\"btcPrice\":\"0.000032899677158313\"},{\"uuid\":\"KfWtaeV1W\",\"symbol\":\"FRAX\",\"name\":\"Frax\",\"color\":\"#000000\",\"iconUrl\":\"https://cdn.coinranking.com/BpVNCX-NM/frax.png\",\"marketCap\":\"1360095504\",\"price\":\"0.9996227504728086\",\"listedAt\":1615299931,\"tier\":1,\"change\":\"-0.06\",\"rank\":42,\"sparkline\":[\"0.9995382695634664\",\"0.9996036221317856\",\"0.9992333445293856\",\"0.9988353154281091\",\"0.9984478858836998\",\"0.9995934543264151\",\"0.9994628233637075\",\"1.0003929716081927\",\"0.9996813509599904\",\"0.9995067714969614\",\"0.9991386793998077\",\"0.9994730272643229\",\"0.9993773031181682\",\"0.9988052178342136\",\"0.9991677766850943\",\"0.9989948605315864\",\"0.998701622351035\",\"0.9989406168854776\",\"0.9996142672966629\",\"0.9993029757410802\",\"0.9991678189321344\",\"0.9998696890108068\",\"1.0004750657850388\",\"0.9996320700614548\",\"0.9996164529455654\"],\"lowVolume\":false,\"coinrankingUrl\":\"https://coinranking.com/coin/KfWtaeV1W+frax-frax\",\"24hVolume\":\"5156265\",\"btcPrice\":\"0.000052371112460594\"},{\"uuid\":\"aMNLwaUbY\",\"symbol\":\"ICP\",\"name\":\"Internet Computer (DFINITY)\",\"color\":\"#00042b\",\"iconUrl\":\"https://cdn.coinranking.com/1uJ_RVrmC/dfinity-icp.png\",\"marketCap\":\"1319604870\",\"price\":\"4.924311526800767\",\"listedAt\":1601555742,\"tier\":1,\"change\":\"-6.50\",\"rank\":43,\"sparkline\":[\"5.268758240783529\",\"5.2833097914399305\",\"5.2790254999526525\",\"5.284029080641403\",\"5.285961760295096\",\"5.28026273798667\",\"5.282065397154765\",\"5.209856048877726\",\"5.2056924507547855\",\"5.177529810286326\",\"5.191561627630635\",\"5.052365064779351\",\"5.05037123505905\",\"5.06503925962464\",\"5.057545346827491\",\"5.039978101909845\",\"5.05675852637295\",\"5.056114976922128\",\"5.058387734444493\",\"5.08358635163762\",\"5.080167710430085\",\"4.9925089177698565\",\"4.921219272883152\",\"4.954151868052775\",\"4.951926737837141\"],\"lowVolume\":false,\"coinrankingUrl\":\"https://coinranking.com/coin/aMNLwaUbY+internetcomputerdfinity-icp\",\"24hVolume\":\"63771266\",\"btcPrice\":\"0.000257985329725922\"},{\"uuid\":\"Z96jIvLU7\",\"symbol\":\"IMX\",\"name\":\"Immutable X\",\"color\":\"#000000\",\"iconUrl\":\"https://cdn.coinranking.com/naRGT2Y_X/10603.png\",\"marketCap\":\"1303352711\",\"price\":\"0.6516763553805149\",\"listedAt\":1649387294,\"tier\":1,\"change\":\"-5.28\",\"rank\":44,\"sparkline\":[\"0.6885824447604832\",\"0.6903144515257721\",\"0.688036553225407\",\"0.6879528617281385\",\"0.6886321744940216\",\"0.6851653244642348\",\"0.6823220490818384\",\"0.6762676500712743\",\"0.6751233561678406\",\"0.6733165970309736\",\"0.6749129491200637\",\"0.6716138024754166\",\"0.666312791939217\",\"0.6675438600086278\",\"0.6681262076275052\",\"0.6692212257778982\",\"0.6692846393300993\",\"0.6677013183566424\",\"0.6661955685614352\",\"0.6668235404267279\",\"0.6654795720259506\",\"0.6520638841201846\",\"0.6444356337221383\",\"0.6480626490219007\",\"0.6514269072570206\"],\"lowVolume\":false,\"coinrankingUrl\":\"https://coinranking.com/coin/Z96jIvLU7+immutablex-imx\",\"24hVolume\":\"18397561\",\"btcPrice\":\"0.000034141410124525\"},{\"uuid\":\"omwkOTglq\",\"symbol\":\"EGLD\",\"name\":\"Elrond\",\"color\":\"#000000\",\"iconUrl\":\"https://cdn.coinranking.com/X62ruAuZQ/Elrond.svg\",\"marketCap\":\"1265717108\",\"price\":\"53.49681778914123\",\"listedAt\":1612524044,\"tier\":1,\"change\":\"-4.26\",\"rank\":45,\"sparkline\":[\"56.13954128666611\",\"56.030442226273664\",\"55.54824291141705\",\"55.53189312082467\",\"55.45299905254239\",\"55.14827585361149\",\"55.24220318929038\",\"55.10542116223034\",\"55.2072467211333\",\"55.34719727187107\",\"55.71429455538601\",\"55.556828163284436\",\"55.57062151104551\",\"55.597396803210266\",\"55.59328155657506\",\"55.59484565427399\",\"55.54883950816091\",\"55.45475998527977\",\"55.51636727421482\",\"55.684290786393674\",\"55.9851653648603\",\"55.65357300493677\",\"54.95669248652122\",\"54.957087479129335\",\"54.59665866701713\"],\"lowVolume\":false,\"coinrankingUrl\":\"https://coinranking.com/coin/omwkOTglq+elrond-egld\",\"24hVolume\":\"51090299\",\"btcPrice\":\"0.002802705332817494\"},{\"uuid\":\"fsIbGOEJWbzxG\",\"symbol\":\"XTZ\",\"name\":\"Tezos\",\"color\":\"#2c7df7\",\"iconUrl\":\"https://cdn.coinranking.com/HkLUdilQ7/xtz.svg\",\"marketCap\":\"1208495825\",\"price\":\"1.3306691838285076\",\"listedAt\":1530662400,\"tier\":1,\"change\":\"-1.41\",\"rank\":46,\"sparkline\":[\"1.3510634295810173\",\"1.356359952548885\",\"1.352673020554655\",\"1.3555531482203775\",\"1.3596470092933337\",\"1.3584553427706747\",\"1.3567258890689875\",\"1.3492001806313916\",\"1.3499544400348797\",\"1.3481133395639728\",\"1.3527621157154128\",\"1.351096480202286\",\"1.3469250709112197\",\"1.3471773924284434\",\"1.3520998899696197\",\"1.3545873244124111\",\"1.3585349969639813\",\"1.3577621851516746\",\"1.3561270344181133\",\"1.3525286407330386\",\"1.350228964239185\",\"1.3372217965448283\",\"1.3216863548371327\",\"1.3252900766131754\",\"1.3294338928425338\"],\"lowVolume\":false,\"coinrankingUrl\":\"https://coinranking.com/coin/fsIbGOEJWbzxG+tezos-xtz\",\"24hVolume\":\"16509395\",\"btcPrice\":\"0.000069713933872326\"},{\"uuid\":\"pxtKbG5rg\",\"symbol\":\"SAND\",\"name\":\"The Sandbox\",\"color\":\"#00adef\",\"iconUrl\":\"https://cdn.coinranking.com/kd_vwOcnI/sandbox.png\",\"marketCap\":\"1127809808\",\"price\":\"0.7500380086801673\",\"listedAt\":1613583024,\"tier\":1,\"change\":\"-4.03\",\"rank\":47,\"sparkline\":[\"0.7822325736043189\",\"0.7856551705123902\",\"0.7832522989611527\",\"0.7841082192113981\",\"0.7858847715753987\",\"0.7851862332149775\",\"0.7842235132205547\",\"0.7804022428313266\",\"0.7806742118540676\",\"0.7790562005212737\",\"0.7806273767114011\",\"0.7801663026485026\",\"0.7782699341061301\",\"0.7789623188159341\",\"0.7797239414922001\",\"0.7800810055293154\",\"0.7812721854214757\",\"0.7813716726769663\",\"0.7801782558890346\",\"0.778792039796585\",\"0.7768769734884189\",\"0.7670381571508554\",\"0.7511379122994393\",\"0.7514784359435827\",\"0.7518462476240504\"],\"lowVolume\":false,\"coinrankingUrl\":\"https://coinranking.com/coin/pxtKbG5rg+thesandbox-sand\",\"24hVolume\":\"57269215\",\"btcPrice\":\"0.000039294590101216\"},{\"uuid\":\"GSCt2y6YSgO26\",\"symbol\":\"CHZ\",\"name\":\"Chiliz\",\"color\":\"#d05e72\",\"iconUrl\":\"https://cdn.coinranking.com/gTsOlSnwR/4066.png\",\"marketCap\":\"1092541796\",\"price\":\"0.18390257536173799\",\"listedAt\":1562332440,\"tier\":1,\"change\":\"-4.49\",\"rank\":48,\"sparkline\":[\"0.19294454833347924\",\"0.19328246767740603\",\"0.19237706812529798\",\"0.19254974590732474\",\"0.19352157161015413\",\"0.19291737183301902\",\"0.19146929910483074\",\"0.1905702029605244\",\"0.19102809443585123\",\"0.19016888724438874\",\"0.19090819231275563\",\"0.19037503069913247\",\"0.18920874334887214\",\"0.18984690139324303\",\"0.19050410979564236\",\"0.19088675084698134\",\"0.19104675676032687\",\"0.19119390134114722\",\"0.1907578467288735\",\"0.18990081282842128\",\"0.18903627527450792\",\"0.18620829807424824\",\"0.18387031823547179\",\"0.18405264913695932\",\"0.18408780316773135\"],\"lowVolume\":false,\"coinrankingUrl\":\"https://coinranking.com/coin/GSCt2y6YSgO26+chiliz-chz\",\"24hVolume\":\"220238366\",\"btcPrice\":\"0.000009634680154561\"},{\"uuid\":\"JCKLgWPAF\",\"symbol\":\"USDP\",\"name\":\"Pax Dollar\",\"color\":\"#2ac27a\",\"iconUrl\":\"https://cdn.coinranking.com/KUd2bJXdn/3330.png\",\"marketCap\":\"1013731501\",\"price\":\"0.9978185729334482\",\"listedAt\":1650960626,\"tier\":1,\"change\":\"-0.10\",\"rank\":49,\"sparkline\":[\"0.9987353268055269\",\"0.99909519991158\",\"0.9990028668665214\",\"0.9985619853031852\",\"0.9982889398207389\",\"0.9993704214760647\",\"0.9992872073449666\",\"1.0003003884901698\",\"0.9997009251527409\",\"0.999709190342883\",\"0.9982062605041606\",\"0.998431864009877\",\"0.9983629092393211\",\"0.9975929459617635\",\"0.9970472255916373\",\"0.9961970274069836\",\"0.9958745900566888\",\"0.9962144022273222\",\"0.9967947600450411\",\"0.9967524066121013\",\"0.9969378455069499\",\"0.9990103930863189\",\"0.9992093133449629\",\"0.9980914516886218\",\"0.9979373573723535\"],\"lowVolume\":false,\"coinrankingUrl\":\"https://coinranking.com/coin/JCKLgWPAF+paxdollar-usdp\",\"24hVolume\":\"133701764\",\"btcPrice\":\"0.000052275846510492\"},{\"uuid\":\"iAzbfXiBBKkR6\",\"symbol\":\"EOS\",\"name\":\"EOS\",\"color\":\"#443f54\",\"iconUrl\":\"https://cdn.coinranking.com/PqOYrWSje/eos2.svg\",\"marketCap\":\"1004230457\",\"price\":\"1.0158979090799296\",\"listedAt\":1498694400,\"tier\":1,\"change\":\"-2.85\",\"rank\":50,\"sparkline\":[\"1.0467250559551784\",\"1.0509274966513917\",\"1.0484915518815356\",\"1.048318055668925\",\"1.0511793760732397\",\"1.0503386533902546\",\"1.051573346542282\",\"1.0456616853386471\",\"1.0446438287503501\",\"1.04143527768362\",\"1.0438809176510062\",\"1.0403208666298578\",\"1.035643174440866\",\"1.0333987468072896\",\"1.0362493851135732\",\"1.0379282590289705\",\"1.0382471353340343\",\"1.037678967722461\",\"1.0385837415268895\",\"1.039278128023783\",\"1.0386935745031391\",\"1.028127551968946\",\"1.0169936994258908\",\"1.0190315736529612\",\"1.0189823330807801\"],\"lowVolume\":false,\"coinrankingUrl\":\"https://coinranking.com/coin/iAzbfXiBBKkR6+eos-eos\",\"24hVolume\":\"151005542\",\"btcPrice\":\"0.000053223025313375\"}]}}\n",
      "BTC Bitcoin 19087.564134101154\n",
      "ETH Ethereum 1285.2687649159172\n",
      "USDT Tether USD 1.0002426352802434\n",
      "USDC USDC 1.0001842392017035\n",
      "BNB Binance Coin 269.2282069028177\n",
      "XRP XRP 0.47053637545048793\n",
      "BUSD Binance USD 1.000347401522267\n",
      "ADA Cardano 0.3722910160714077\n",
      "SOL Solana 30.650855742571498\n",
      "DOGE Dogecoin 0.05879608357207651\n",
      "DOT Polkadot 6.076480163125043\n",
      "MATIC Polygon 0.7622684423622607\n",
      "DAI Dai 1.0003099070659387\n",
      "SHIB Shiba Inu 0.000009995133678276\n",
      "TRX TRON 0.06175363394022226\n",
      "WETH Wrapped Ether 1286.1604788767515\n",
      "WBTC Wrapped BTC 19075.80943893763\n",
      "AVAX Avalanche 15.536559461452313\n",
      "UNI Uniswap 5.758114772582682\n",
      "OKB OKB 16.752966087401443\n",
      "CAKE PancakeSwap 4.386250093491571\n",
      "LTC Litecoin 51.84406470389362\n",
      "ATOM Cosmos 11.389122173134037\n",
      "FTT FTX Token 23.185639474431486\n",
      "ETC Ethereum Classic 22.870545920392892\n",
      "XMR Monero 142.81019136315027\n",
      "XLM Stellar 0.11297950147486376\n",
      "ALGO Algorand 0.3044291206613805\n",
      "BCH Bitcoin Cash 110.4425051427835\n",
      "CRO Cronos 0.10056131470511871\n",
      "LUNC Terra Classic 0.000279140477695159\n",
      "NEAR NEAR Protocol 2.993836238275153\n",
      "ENS EnergySwap 16.87308186223951\n",
      "WEMIX WEMIX TOKEN 1.6096446841259688\n",
      "FLOW Flow 1.4948353359974944\n",
      "HBAR Hedera 0.06261594723177151\n",
      "FIL Filecoin 5.0587488517882235\n",
      "HT Huobi Token 7.30959391726921\n",
      "QNT Quant 152.78612147861034\n",
      "VET VeChain 0.022165374184944554\n",
      "MANA Decentraland 0.6279746977505206\n",
      "FRAX Frax 0.9996227504728086\n",
      "ICP Internet Computer (DFINITY) 4.924311526800767\n",
      "IMX Immutable X 0.6516763553805149\n",
      "EGLD Elrond 53.49681778914123\n",
      "XTZ Tezos 1.3306691838285076\n",
      "SAND The Sandbox 0.7500380086801673\n",
      "CHZ Chiliz 0.18390257536173799\n",
      "USDP Pax Dollar 0.9978185729334482\n",
      "EOS EOS 1.0158979090799296\n"
     ]
    }
   ],
   "source": [
    "# RapidAPI page https://rapidapi.com/Coinranking/api/coinranking1/\n",
    "\n",
    "# Begin Rapid API Code\n",
    "import requests\n",
    "\n",
    "url = \"https://coinranking1.p.rapidapi.com/coins\"\n",
    "querystring = {\"referenceCurrencyUuid\":\"yhjMzLPhuIDl\",\"timePeriod\":\"24h\",\"tiers[0]\":\"1\",\"orderBy\":\"marketCap\",\"orderDirection\":\"desc\",\"limit\":\"50\",\"offset\":\"0\"}\n",
    "headers = {\n",
    "\t\"X-RapidAPI-Key\": \"a887a57462msh889608deb83b3ddp11d368jsnce0092f67d7a\",  # place your key here\n",
    "\t\"X-RapidAPI-Host\": \"coinranking1.p.rapidapi.com\"\n",
    "}\n",
    "\n",
    "response = requests.request(\"GET\", url, headers=headers, params=querystring)\n",
    "# print(response.text)\n",
    "# End Rapid API Code\n",
    "json = response.json()  # convert response to python json object\n",
    "\n",
    "# Observe data from an API.  This is how data transports over the internet in a \"JSON\" text form\n",
    "# - The JSON \"text\" is formed in dictionary {} and list [] divisions\n",
    "# - To read the result, Data Scientist of  Developer converts JSON into human readable form\n",
    "# - Review the first line, look for the keys --  \"status\" and \"data\"\n",
    "\n",
    "for coin in json[\"data\"][\"coins\"]:\n",
    "\tprint(f'{coin[\"symbol\"]} {coin[\"name\"]} {coin[\"price\"]}')"
   ]
  },
  {
   "cell_type": "code",
   "execution_count": 5,
   "metadata": {},
   "outputs": [
    {
     "name": "stdout",
     "output_type": "stream",
     "text": [
      "{\"results\":[{\"status\":{\"code\":\"ok\",\"message\":\"Success\"},\"name\":\"https://storage.googleapis.com/api4ai-static/samples/fashion-1.jpg\",\"md5\":\"873e9651b2e744d7310fd650a599838c\",\"entities\":[{\"kind\":\"classes\",\"name\":\"fashion-classes\",\"classes\":{\"top, t-shirt, sweatshirt\":0.8659043312072754,\"outwear\":0.22291582822799683,\"vest\":0.048274993896484375,\"shorts\":0.15788260102272034,\"trousers\":0.6151089072227478,\"skirt\":0.05556100606918335,\"dress\":0.11960658431053162,\"glasses\":0.20614215731620789,\"hat\":0.14154693484306335,\"headband, head covering, hair accessory\":0.06355646252632141,\"tie\":0.031345516443252563,\"watch\":0.10718181729316711,\"belt\":0.29583993554115295,\"tights, stockings\":0.09592151641845703,\"sock\":0.09212785959243774,\"footwear\":0.7198589444160461,\"bag, wallet\":0.44054579734802246,\"scarf\":0.06652951240539551}}]}]}\n"
     ]
    }
   ],
   "source": [
    "import requests\n",
    "\n",
    "url = \"https://fashion4.p.rapidapi.com/v1/results\"\n",
    "\n",
    "payload = \"url=https%3A%2F%2Fstorage.googleapis.com%2Fapi4ai-static%2Fsamples%2Ffashion-1.jpg\"\n",
    "headers = {\n",
    "\t\"content-type\": \"application/x-www-form-urlencoded\",\n",
    "\t\"X-RapidAPI-Key\": \"a887a57462msh889608deb83b3ddp11d368jsnce0092f67d7a\",\n",
    "\t\"X-RapidAPI-Host\": \"fashion4.p.rapidapi.com\"\n",
    "}\n",
    "\n",
    "response = requests.request(\"POST\", url, data=payload, headers=headers)\n",
    "\n",
    "print(response.text)"
   ]
  },
  {
   "cell_type": "markdown",
   "metadata": {},
   "source": [
    "### Formatting Digital Coin example\n",
    "> JSON text transferred from the API in the previous cell was converted to a Python Dictionary called json.  The \"coins\" in the dictionary contain a list of the most relevant data.   Look at the code and comments to see how the original text is turned into something understandable.   Additionally, there are error check to make sure we are starting the code with the expectation that the API was run correctly. "
   ]
  },
  {
   "cell_type": "code",
   "execution_count": 9,
   "metadata": {},
   "outputs": [
    {
     "name": "stdout",
     "output_type": "stream",
     "text": [
      "JSON data is Python type: <class 'dict'>\n",
      "Did you insert a valid key in X-RapidAPI-Key of API cell above?\n",
      "{'results': [{'entity': {'category': None, 'country': {'alpha2': 'US', 'name': 'USA'}, 'disabled': None, 'displayInverseHomeAwayTeams': None, 'firstName': '', 'gender': None, 'id': 853680, 'lastName': '', 'name': 'Tom Brady', 'nameCode': None, 'national': None, 'position': 'QB', 'ranking': None, 'shortName': 'T. Brady', 'slug': 'brady-tom', 'sport': None, 'team': {'country': {'alpha2': 'US', 'name': 'USA'}, 'disabled': False, 'gender': 'M', 'id': 4388, 'name': 'Tampa Bay Buccaneers', 'nameCode': 'TBB', 'national': False, 'ranking': None, 'shortName': 'Tampa Bay Buccaneers', 'slug': 'tampa-bay-buccaneers', 'sport': {'id': 63, 'name': 'American football', 'slug': 'american-football'}, 'teamColors': {'primary': '#d50a0a', 'secondary': '#34302b', 'text': '#34302b'}, 'type': 0, 'userCount': 14002}, 'teamColors': None, 'type': None, 'userCount': 10368}, 'score': 1271709, 'type': 'player'}, {'entity': {'category': None, 'country': {'alpha2': None, 'name': None}, 'disabled': None, 'displayInverseHomeAwayTeams': None, 'firstName': '', 'gender': None, 'id': 1132339, 'lastName': '', 'name': 'Brady Christensen', 'nameCode': None, 'national': None, 'position': 'OT', 'ranking': None, 'shortName': 'B. Christensen', 'slug': 'christensen-brady', 'sport': None, 'team': {'country': {'alpha2': 'US', 'name': 'USA'}, 'disabled': None, 'gender': 'M', 'id': 4415, 'name': 'Carolina Panthers', 'nameCode': 'CAR', 'national': False, 'ranking': None, 'shortName': 'Carolina Panthers', 'slug': 'carolina-panthers', 'sport': {'id': 63, 'name': 'American football', 'slug': 'american-football'}, 'teamColors': {'primary': '#3a84c5', 'secondary': '#07141e', 'text': '#07141e'}, 'type': 0, 'userCount': 2477}, 'teamColors': None, 'type': None, 'userCount': 2}, 'score': 205, 'type': 'player'}, {'entity': {'category': None, 'country': {'alpha2': 'US', 'name': 'USA'}, 'disabled': None, 'displayInverseHomeAwayTeams': None, 'firstName': None, 'gender': None, 'id': 887887, 'lastName': None, 'name': 'Brady Sheldon', 'nameCode': None, 'national': None, 'position': 'LB', 'ranking': None, 'shortName': 'B. Sheldon', 'slug': 'sheldon-brady', 'sport': None, 'team': {'country': {'alpha2': None, 'name': None}, 'disabled': True, 'gender': None, 'id': 273134, 'name': 'No team', 'nameCode': 'NTE', 'national': False, 'ranking': None, 'shortName': 'No team', 'slug': 'no-team', 'sport': {'id': 63, 'name': 'American football', 'slug': 'american-football'}, 'teamColors': {'primary': '#52b030', 'secondary': '#52b030', 'text': '#ffffff'}, 'type': 0, 'userCount': 0}, 'teamColors': None, 'type': None, 'userCount': 0}, 'score': 0, 'type': 'player'}, {'entity': {'category': None, 'country': {'alpha2': None, 'name': None}, 'disabled': None, 'displayInverseHomeAwayTeams': None, 'firstName': None, 'gender': None, 'id': 984311, 'lastName': None, 'name': 'Tyre Brady', 'nameCode': None, 'national': None, 'position': 'WR', 'ranking': None, 'shortName': 'T. Brady', 'slug': 'brady-tyre', 'sport': None, 'team': {'country': {'alpha2': None, 'name': None}, 'disabled': True, 'gender': None, 'id': 273134, 'name': 'No team', 'nameCode': 'NTE', 'national': False, 'ranking': None, 'shortName': 'No team', 'slug': 'no-team', 'sport': {'id': 63, 'name': 'American football', 'slug': 'american-football'}, 'teamColors': {'primary': '#52b030', 'secondary': '#52b030', 'text': '#ffffff'}, 'type': 0, 'userCount': 0}, 'teamColors': None, 'type': None, 'userCount': 0}, 'score': 0, 'type': 'player'}]}\n"
     ]
    }
   ],
   "source": [
    "\"\"\"\n",
    "This cell is dependent on valid run of API above.\n",
    "- try and except code is making sure \"json\" was properly run above\n",
    "- inside second try is code that is used to process Coin API data\n",
    "\n",
    "Note.  Run this cell repeatedly to format data without re-activating API\n",
    "\"\"\"\n",
    "\n",
    "try:\n",
    "    print(\"JSON data is Python type: \" + str(type(json)))\n",
    "    try:\n",
    "        # Extracting Coins JSON status, if the API worked\n",
    "        status = json.get('status')\n",
    "        print(\"API status: \" + status)\n",
    "        print()\n",
    "        \n",
    "        # Extracting Coins JSON data, data about the coins\n",
    "        data = json.get('data')\n",
    "        \n",
    "        # Procedural abstraction of Print code for coins\n",
    "        def print_coin(c):\n",
    "            print(c[\"symbol\"], c[\"price\"])\n",
    "            print(\"Icon Url: \" + c[\"iconUrl\"])\n",
    "            print(\"Rank Url: \" + c[\"coinrankingUrl\"])\n",
    "\n",
    "        # Coins data was observed to be a list\n",
    "        for coin in data['coins']:\n",
    "            print_coin(coin)\n",
    "            print()\n",
    "            \n",
    "    except:\n",
    "        print(\"Did you insert a valid key in X-RapidAPI-Key of API cell above?\")\n",
    "        print(json)\n",
    "except:\n",
    "    print(\"This cell is dependent on running API call in cell above!\")"
   ]
  },
  {
   "cell_type": "markdown",
   "metadata": {},
   "source": [
    "## Hacks\n",
    "> Find and use an API as part of your project.  An API and a little coding logic will be a big step toward getting meaningful data for a project.  There are many API providers, find one that might work for your project to complete this hack. When picking an API you are looking for something that will work with either JavaScript Fetch or Python Request.  Here are some samples, these are not qualified in any way.  \n",
    "- [RapidAPI](https://rapidapi.com/collection/list-of-free-apis)\n",
    "- [GitHub Project](https://github.com/public-apis/public-apis/blob/master/README.md)\n",
    "- [No Key APIs Article](https://nordicapis.com/9-free-public-apis-that-offer-up-some-cool-open-data/)\n",
    "- [Twitter Developer](https://developer.twitter.com/en/docs/twitter-api)\n",
    "- [Google Developer](https://developers.google.com/apis-explorer)\n",
    "- [Reddit Developer](https://www.reddit.com/dev/api/)\n",
    "\n",
    "> Show API and format results in either Web Page or Jupyter Notebook.  Ultimately, I will expect that we do APIs in backend (Python/Flask).  However, for this Hack you can pick your preference.  We will discuss pros and cons in next API tech talk."
   ]
  },
  {
   "cell_type": "code",
   "execution_count": 39,
   "metadata": {},
   "outputs": [
    {
     "name": "stdout",
     "output_type": "stream",
     "text": [
      "{\"results\":[{\"entity\":{\"category\":null,\"country\":{\"alpha2\":\"US\",\"name\":\"USA\"},\"disabled\":null,\"displayInverseHomeAwayTeams\":null,\"firstName\":\"\",\"gender\":null,\"id\":853680,\"lastName\":\"\",\"name\":\"Tom Brady\",\"nameCode\":null,\"national\":null,\"position\":\"QB\",\"ranking\":null,\"shortName\":\"T. Brady\",\"slug\":\"brady-tom\",\"sport\":null,\"team\":{\"country\":{\"alpha2\":\"US\",\"name\":\"USA\"},\"disabled\":false,\"gender\":\"M\",\"id\":4388,\"name\":\"Tampa Bay Buccaneers\",\"nameCode\":\"TBB\",\"national\":false,\"ranking\":null,\"shortName\":\"Tampa Bay Buccaneers\",\"slug\":\"tampa-bay-buccaneers\",\"sport\":{\"id\":63,\"name\":\"American football\",\"slug\":\"american-football\"},\"teamColors\":{\"primary\":\"#d50a0a\",\"secondary\":\"#34302b\",\"text\":\"#34302b\"},\"type\":0,\"userCount\":14002},\"teamColors\":null,\"type\":null,\"userCount\":10368},\"score\":1271709,\"type\":\"player\"},{\"entity\":{\"category\":null,\"country\":{\"alpha2\":null,\"name\":null},\"disabled\":null,\"displayInverseHomeAwayTeams\":null,\"firstName\":\"\",\"gender\":null,\"id\":1132339,\"lastName\":\"\",\"name\":\"Brady Christensen\",\"nameCode\":null,\"national\":null,\"position\":\"OT\",\"ranking\":null,\"shortName\":\"B. Christensen\",\"slug\":\"christensen-brady\",\"sport\":null,\"team\":{\"country\":{\"alpha2\":\"US\",\"name\":\"USA\"},\"disabled\":null,\"gender\":\"M\",\"id\":4415,\"name\":\"Carolina Panthers\",\"nameCode\":\"CAR\",\"national\":false,\"ranking\":null,\"shortName\":\"Carolina Panthers\",\"slug\":\"carolina-panthers\",\"sport\":{\"id\":63,\"name\":\"American football\",\"slug\":\"american-football\"},\"teamColors\":{\"primary\":\"#3a84c5\",\"secondary\":\"#07141e\",\"text\":\"#07141e\"},\"type\":0,\"userCount\":2477},\"teamColors\":null,\"type\":null,\"userCount\":2},\"score\":205,\"type\":\"player\"},{\"entity\":{\"category\":null,\"country\":{\"alpha2\":\"US\",\"name\":\"USA\"},\"disabled\":null,\"displayInverseHomeAwayTeams\":null,\"firstName\":null,\"gender\":null,\"id\":887887,\"lastName\":null,\"name\":\"Brady Sheldon\",\"nameCode\":null,\"national\":null,\"position\":\"LB\",\"ranking\":null,\"shortName\":\"B. Sheldon\",\"slug\":\"sheldon-brady\",\"sport\":null,\"team\":{\"country\":{\"alpha2\":null,\"name\":null},\"disabled\":true,\"gender\":null,\"id\":273134,\"name\":\"No team\",\"nameCode\":\"NTE\",\"national\":false,\"ranking\":null,\"shortName\":\"No team\",\"slug\":\"no-team\",\"sport\":{\"id\":63,\"name\":\"American football\",\"slug\":\"american-football\"},\"teamColors\":{\"primary\":\"#52b030\",\"secondary\":\"#52b030\",\"text\":\"#ffffff\"},\"type\":0,\"userCount\":0},\"teamColors\":null,\"type\":null,\"userCount\":0},\"score\":0,\"type\":\"player\"}]}\n"
     ]
    }
   ],
   "source": [
    "import requests\n",
    "\n",
    "url = \"https://americanfootballapi.p.rapidapi.com/api/american-football/search/brady\"\n",
    "\n",
    "headers = {\n",
    "\t\"X-RapidAPI-Key\": \"a887a57462msh889608deb83b3ddp11d368jsnce0092f67d7a\",\n",
    "\t\"X-RapidAPI-Host\": \"americanfootballapi.p.rapidapi.com\"\n",
    "}\n",
    "\n",
    "response = requests.request(\"GET\", url, headers=headers)\n",
    "\n",
    "print(response.text)"
   ]
  },
  {
   "cell_type": "code",
   "execution_count": 1,
   "metadata": {},
   "outputs": [
    {
     "name": "stdout",
     "output_type": "stream",
     "text": [
      "{\"results\":[{\"entity\":{\"category\":null,\"country\":{\"alpha2\":\"US\",\"name\":\"USA\"},\"disabled\":null,\"displayInverseHomeAwayTeams\":null,\"firstName\":\"\",\"gender\":null,\"id\":853680,\"lastName\":\"\",\"name\":\"Tom Brady\",\"nameCode\":null,\"national\":null,\"position\":\"QB\",\"ranking\":null,\"shortName\":\"T. Brady\",\"slug\":\"brady-tom\",\"sport\":null,\"team\":{\"country\":{\"alpha2\":\"US\",\"name\":\"USA\"},\"disabled\":false,\"gender\":\"M\",\"id\":4388,\"name\":\"Tampa Bay Buccaneers\",\"nameCode\":\"TB\",\"national\":false,\"ranking\":null,\"shortName\":\"Tampa Bay Buccaneers\",\"slug\":\"tampa-bay-buccaneers\",\"sport\":{\"id\":63,\"name\":\"American football\",\"slug\":\"american-football\"},\"teamColors\":{\"primary\":\"#d50a0a\",\"secondary\":\"#34302b\",\"text\":\"#34302b\"},\"type\":0,\"userCount\":14094},\"teamColors\":null,\"type\":null,\"userCount\":10398},\"score\":1275870,\"type\":\"player\"},{\"entity\":{\"category\":null,\"country\":{\"alpha2\":null,\"name\":null},\"disabled\":null,\"displayInverseHomeAwayTeams\":null,\"firstName\":\"\",\"gender\":null,\"id\":1132339,\"lastName\":\"\",\"name\":\"Brady Christensen\",\"nameCode\":null,\"national\":null,\"position\":\"OT\",\"ranking\":null,\"shortName\":\"B. Christensen\",\"slug\":\"christensen-brady\",\"sport\":null,\"team\":{\"country\":{\"alpha2\":\"US\",\"name\":\"USA\"},\"disabled\":null,\"gender\":\"M\",\"id\":4415,\"name\":\"Carolina Panthers\",\"nameCode\":\"CAR\",\"national\":false,\"ranking\":null,\"shortName\":\"Carolina Panthers\",\"slug\":\"carolina-panthers\",\"sport\":{\"id\":63,\"name\":\"American football\",\"slug\":\"american-football\"},\"teamColors\":{\"primary\":\"#3a84c5\",\"secondary\":\"#07141e\",\"text\":\"#07141e\"},\"type\":0,\"userCount\":2488},\"teamColors\":null,\"type\":null,\"userCount\":2},\"score\":206,\"type\":\"player\"},{\"entity\":{\"category\":null,\"country\":{\"alpha2\":\"US\",\"name\":\"USA\"},\"disabled\":null,\"displayInverseHomeAwayTeams\":null,\"firstName\":null,\"gender\":null,\"id\":887887,\"lastName\":null,\"name\":\"Brady Sheldon\",\"nameCode\":null,\"national\":null,\"position\":\"LB\",\"ranking\":null,\"shortName\":\"B. Sheldon\",\"slug\":\"sheldon-brady\",\"sport\":null,\"team\":{\"country\":{\"alpha2\":null,\"name\":null},\"disabled\":true,\"gender\":null,\"id\":273134,\"name\":\"No team\",\"nameCode\":\"NTE\",\"national\":false,\"ranking\":null,\"shortName\":\"No team\",\"slug\":\"no-team\",\"sport\":{\"id\":63,\"name\":\"American football\",\"slug\":\"american-football\"},\"teamColors\":{\"primary\":\"#52b030\",\"secondary\":\"#52b030\",\"text\":\"#ffffff\"},\"type\":0,\"userCount\":0},\"teamColors\":null,\"type\":null,\"userCount\":0},\"score\":0,\"type\":\"player\"},{\"entity\":{\"category\":null,\"country\":{\"alpha2\":null,\"name\":null},\"disabled\":null,\"displayInverseHomeAwayTeams\":null,\"firstName\":null,\"gender\":null,\"id\":984311,\"lastName\":null,\"name\":\"Tyre Brady\",\"nameCode\":null,\"national\":null,\"position\":\"WR\",\"ranking\":null,\"shortName\":\"T. Brady\",\"slug\":\"brady-tyre\",\"sport\":null,\"team\":{\"country\":{\"alpha2\":null,\"name\":null},\"disabled\":true,\"gender\":null,\"id\":273134,\"name\":\"No team\",\"nameCode\":\"NTE\",\"national\":false,\"ranking\":null,\"shortName\":\"No team\",\"slug\":\"no-team\",\"sport\":{\"id\":63,\"name\":\"American football\",\"slug\":\"american-football\"},\"teamColors\":{\"primary\":\"#52b030\",\"secondary\":\"#52b030\",\"text\":\"#ffffff\"},\"type\":0,\"userCount\":0},\"teamColors\":null,\"type\":null,\"userCount\":0},\"score\":0,\"type\":\"player\"}]}\n"
     ]
    },
    {
     "ename": "TypeError",
     "evalue": "string indices must be integers",
     "output_type": "error",
     "traceback": [
      "\u001b[0;31m---------------------------------------------------------------------------\u001b[0m",
      "\u001b[0;31mTypeError\u001b[0m                                 Traceback (most recent call last)",
      "\u001b[1;32m/home/aaron_ru/vscode/FP/_notebooks/2022-10-03-PBL-python_rapidapi.ipynb Cell 11\u001b[0m in \u001b[0;36m<cell line: 26>\u001b[0;34m()\u001b[0m\n\u001b[1;32m     <a href='vscode-notebook-cell://wsl%2Bubuntu/home/aaron_ru/vscode/FP/_notebooks/2022-10-03-PBL-python_rapidapi.ipynb#X13sdnNjb2RlLXJlbW90ZQ%3D%3D?line=25'>26</a>\u001b[0m \u001b[39mfor\u001b[39;00m post \u001b[39min\u001b[39;00m json:  \u001b[39m# countries is a list\u001b[39;00m\n\u001b[1;32m     <a href='vscode-notebook-cell://wsl%2Bubuntu/home/aaron_ru/vscode/FP/_notebooks/2022-10-03-PBL-python_rapidapi.ipynb#X13sdnNjb2RlLXJlbW90ZQ%3D%3D?line=26'>27</a>\u001b[0m     \u001b[39mfor\u001b[39;00m posts \u001b[39min\u001b[39;00m post[\u001b[39m\"\u001b[39m\u001b[39mentity\u001b[39m\u001b[39m\"\u001b[39m]:\n\u001b[0;32m---> <a href='vscode-notebook-cell://wsl%2Bubuntu/home/aaron_ru/vscode/FP/_notebooks/2022-10-03-PBL-python_rapidapi.ipynb#X13sdnNjb2RlLXJlbW90ZQ%3D%3D?line=27'>28</a>\u001b[0m         \u001b[39mif\u001b[39;00m posts[\u001b[39m\"\u001b[39;49m\u001b[39mcountry\u001b[39;49m\u001b[39m\"\u001b[39;49m]\u001b[39m.\u001b[39mget(\u001b[39m\"\u001b[39m\u001b[39mname\u001b[39m\u001b[39m\"\u001b[39m) \u001b[39m==\u001b[39m \u001b[39m\"\u001b[39m\u001b[39mUSA\u001b[39m\u001b[39m\"\u001b[39m: \n\u001b[1;32m     <a href='vscode-notebook-cell://wsl%2Bubuntu/home/aaron_ru/vscode/FP/_notebooks/2022-10-03-PBL-python_rapidapi.ipynb#X13sdnNjb2RlLXJlbW90ZQ%3D%3D?line=28'>29</a>\u001b[0m             \u001b[39mfor\u001b[39;00m key, value \u001b[39min\u001b[39;00m post\u001b[39m.\u001b[39mitems():  \n\u001b[1;32m     <a href='vscode-notebook-cell://wsl%2Bubuntu/home/aaron_ru/vscode/FP/_notebooks/2022-10-03-PBL-python_rapidapi.ipynb#X13sdnNjb2RlLXJlbW90ZQ%3D%3D?line=29'>30</a>\u001b[0m                 \u001b[39mprint\u001b[39m(key, value)\n",
      "\u001b[0;31mTypeError\u001b[0m: string indices must be integers"
     ]
    }
   ],
   "source": [
    "import requests\n",
    "\n",
    "url = \"https://americanfootballapi.p.rapidapi.com/api/american-football/search/brady\"\n",
    "\n",
    "querystring = {\"sort\":\"new\"}\n",
    "\n",
    "headers = {\n",
    "\t\"X-RapidAPI-Key\": \"a887a57462msh889608deb83b3ddp11d368jsnce0092f67d7a\",\n",
    "\t\"X-RapidAPI-Host\": \"americanfootballapi.p.rapidapi.com\"\n",
    "}\n",
    "\n",
    "response = requests.request(\"GET\", url, headers=headers, params=querystring)\n",
    "\n",
    "print(response.text)\n",
    "json = response.json().get('results')\n",
    "\n",
    "# for post in json[\"results\"][\"entity\"]:\n",
    "# \tprint(f'{post[\"category\"]}')\n",
    "\n",
    "# countries = response.json().get('countries_stat')\n",
    "# for country in countries:  # countries is a list\n",
    "#     if country[\"country_name\"] == \"USA\":  # this filters for USA\n",
    "#         for key, value in country.items():  # this finds key, value pairs in country\n",
    "#             print(key, value)\n",
    "\n",
    "for post in json:  # countries is a list\n",
    "    for posts in post[\"entity\"]:\n",
    "        if posts[\"country\"].get(\"name\") == \"USA\": \n",
    "            for key, value in post.items():  \n",
    "                print(key, value)"
   ]
  }
 ],
 "metadata": {
  "kernelspec": {
   "display_name": "Python 3.8.10 64-bit",
   "language": "python",
   "name": "python3"
  },
  "language_info": {
   "codemirror_mode": {
    "name": "ipython",
    "version": 3
   },
   "file_extension": ".py",
   "mimetype": "text/x-python",
   "name": "python",
   "nbconvert_exporter": "python",
   "pygments_lexer": "ipython3",
   "version": "3.8.10"
  },
  "orig_nbformat": 4,
  "vscode": {
   "interpreter": {
    "hash": "916dbcbb3f70747c44a77c7bcd40155683ae19c65e1c03b4aa3499c5328201f1"
   }
  }
 },
 "nbformat": 4,
 "nbformat_minor": 2
}

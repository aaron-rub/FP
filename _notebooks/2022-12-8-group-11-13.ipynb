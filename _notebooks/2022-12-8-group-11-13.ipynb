{
 "cells": [
  {
   "cell_type": "markdown",
   "metadata": {},
   "source": [
    "# Lesson 10-13 Hacks\n",
    "> Hacks for lesson 10 through 13\n",
    "\n",
    "- toc: true \n",
    "- badges: true\n",
    "- comments: true\n",
    "- categories: [collegeboard, ]"
   ]
  },
  {
   "cell_type": "markdown",
   "metadata": {},
   "source": [
    "#### Vocab \n",
    "- A procedure is a named set of instructions that can take in parameters and return values.\n",
    "    - May be called \"method\" or \"function\" in different programming languages.\n",
    "- Parameters are independent variables used in the procedure to produce a result. It allows a procedure to execute without initially knowing specific input values."
   ]
  },
  {
   "cell_type": "markdown",
   "metadata": {},
   "source": [
    "#### Important information\n",
    "- To call a procedure you would write the name of the procedure followed by the parentheses with the parameters of the procedure\n",
    "- Procedures do not require parameters, but the parentheses must be there\n",
    "- To determine the result of a procedure or any code, you must follow the code line by line and see what each one does\n",
    "\n",
    "- Using syntax, you can determine the result by\n",
    "\n",
    "   - function parameters\n",
    "   - return value and statements\n",
    "\n",
    "\n",
    "- To use return values, you have to write the syntax <font color=\"#ffffc2\" style=\"font-weight: bold\">return</font> followed by the expression you would like to return <font color=\"#ffffc2\" style=\"font-weight: bold\">var</font>\n",
    "\n",
    "\n",
    "- A return statement exits a function and instructs python to continue executing the program and to return a certain value\n",
    "\n",
    "- Value can be string, a tuple, or any other type that is being sent back to the main program \n"
   ]
  },
  {
   "cell_type": "markdown",
   "metadata": {},
   "source": [
    "#### Topic 3.12 Hacks\n",
    "1. Define procedure and parameter in your own words\n",
    "- A procedure is a set of instructions meant to guide the code so that it can take in parameters and return values. A parameter is an independent variable that allows a procedure to execute without knowing specific values.\n",
    "2. Paste a screenshot of completion of the quiz\n",
    "![](https://photos.app.goo.gl/mfkosJ4AiaswuBXS9)\n",
    "3. Define Return Values and Output Parameters in your own words\n",
    "exits a function and tells python to keep on executing the program and to a certain value.\n",
    "4. Code a procedure that finds the square root of any given number. (make sure to call and return the function)\n"
   ]
  },
  {
   "cell_type": "code",
   "execution_count": 15,
   "metadata": {},
   "outputs": [
    {
     "name": "stdout",
     "output_type": "stream",
     "text": [
      "4.0\n",
      "16\n"
     ]
    }
   ],
   "source": [
    "import math \n",
    "x = input()\n",
    "\n",
    "print(math.sqrt(x))\n",
    "print(x)"
   ]
  },
  {
   "cell_type": "markdown",
   "metadata": {},
   "source": [
    "#### 3.13 Layer abstraction \n",
    "1. Explain, in your own words, why abstracting away your program logic into separate, modular functions is effective\n",
    "2. Create a procedure that uses other sub-procedures (other functions) within it and explain why the abstraction was needed (conciseness, shared behavior, etc.)\n",
    "3. Add another layer of abstraction to the word counter program (HINT: create a function that can count the number of words starting with ANY character in a given string -- how can we leverage parameters for this?)"
   ]
  },
  {
   "cell_type": "markdown",
   "metadata": {},
   "source": [
    "#### 3.13 C\n",
    "1. Define procedure names and arguments in your own words.\n",
    "Procedure names and arguments are names that sourced procedure being defined. An procedure argument represents the value you supply to a procedure parameter when you call the procedure. \n",
    "2. Code some`   `L (make sure they are interactive on your hacks page, allowing the user to input numbers and click a button to produce an output)\n",
    "    - Add two numbers\n",
    "    - Subtract two numbers\n",
    "    - Multiply two numbers\n",
    "    - Divide two numbers"
   ]
  },
  {
   "cell_type": "code",
   "execution_count": null,
   "metadata": {},
   "outputs": [],
   "source": []
  }
 ],
 "metadata": {
  "kernelspec": {
   "display_name": "Python 3.8.10 64-bit",
   "language": "python",
   "name": "python3"
  },
  "language_info": {
   "codemirror_mode": {
    "name": "ipython",
    "version": 3
   },
   "file_extension": ".py",
   "mimetype": "text/x-python",
   "name": "python",
   "nbconvert_exporter": "python",
   "pygments_lexer": "ipython3",
   "version": "3.8.10"
  },
  "orig_nbformat": 4,
  "vscode": {
   "interpreter": {
    "hash": "916dbcbb3f70747c44a77c7bcd40155683ae19c65e1c03b4aa3499c5328201f1"
   }
  }
 },
 "nbformat": 4,
 "nbformat_minor": 2
}

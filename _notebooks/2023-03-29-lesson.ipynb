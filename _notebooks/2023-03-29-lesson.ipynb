{
 "cells": [
  {
   "attachments": {},
   "cell_type": "markdown",
   "metadata": {},
   "source": [
    "#  Setting up GitHub Pages with FastPages features\n",
    "> Create a github page with FastPages\n",
    "4/26\n",
    "- toc: true\n",
    "- image: /images/python.png\n",
    "- categories: []\n",
    "- type: pbl\n",
    "- week: 28"
   ]
  },
  {
   "attachments": {},
   "cell_type": "markdown",
   "metadata": {},
   "source": [
    "## What is Github Pages?\n",
    "- Github Pages is a hosting service which takes a users files from a repository and builds then publishes the website. This allows for a semi-moderately easy way for developers to publish their post online.\n",
    "\n",
    "### FastPages\n",
    "- FastPages is an extension to GitHub Pages, it automates the job of creating blog post. We use FastPages to display our hacks and lessons in class. Our daily use with FastPages makes us already familliarized with the features,   \n",
    "\n",
    "_____\n",
    "\n",
    "- - GitHub Pages and Fastpages can change the way you think about information management. Jupyter notebooks is changing the way people analyze data. GH pages publishes and deploys a web site for free. Fastpages provides amazing indexing and tagging capabilities. "
   ]
  },
  {
   "attachments": {},
   "cell_type": "markdown",
   "metadata": {},
   "source": [
    "## Plan\n",
    "\n",
    "- Go through a step by step setup and walkthrough of github pages\n",
    "- Go through all differnt types of important files that are used in FastPages\n",
    "- - IPYNB: building block of markdown, python, java, javascript into a jupyter notebook\n",
    "- - MD: supports frontend web design with markdown, html, and javascript.\n",
    "- Config.yml file \n",
    "- - The _config.yml has many strings and preferences that are specific to the site. The file is full of comments that describe what can be changed and should remain untouched.\n",
    "- Once all the important details have been defined, go through a step by step tutorial providing images of the process of setting up FastPages with GH Pages"
   ]
  }
 ],
 "metadata": {
  "kernelspec": {
   "display_name": "Python 3",
   "language": "python",
   "name": "python3"
  },
  "language_info": {
   "codemirror_mode": {
    "name": "ipython",
    "version": 3
   },
   "file_extension": ".py",
   "mimetype": "text/x-python",
   "name": "python",
   "nbconvert_exporter": "python",
   "pygments_lexer": "ipython3",
   "version": "3.8.10"
  },
  "orig_nbformat": 4
 },
 "nbformat": 4,
 "nbformat_minor": 2
}

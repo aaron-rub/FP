{
 "cells": [
  {
   "cell_type": "markdown",
   "metadata": {},
   "source": [
    "# Lesson 15-16 Hacks\n",
    "> Lesson 16 Hacks\n",
    "\n",
    "- toc: true\n",
    "- comments: true\n",
    "- permalink: /studentlesson/simulations\n",
    "- categories: [lesson8]"
   ]
  },
  {
   "cell_type": "markdown",
   "metadata": {},
   "source": [
    "#### HACKS 1\n",
    "\n",
    "Imagine a virtual world that resembles a city, with buildings, streets, and vehicles. The city is populated by virtual people, each with their own characteristics, behaviors, and goals. These virtual people, or \"agents,\" can interact with each other and the environment in realistic ways.\n",
    "\n",
    "Some possible goals for the agents could include:\n",
    "\n",
    "- Going to work or school\n",
    "\n",
    "- Running errands (e.g. grocery shopping, visiting the bank)\n",
    "\n",
    "- Socializing with other agents\n",
    "\n",
    "- Participating in leisure activities (e.g. going to the park, attending a concert)\n",
    "\n",
    "In order to achieve their goals, the agents would need to navigate the city, make decisions, and interact with  other agents and the environment. For example, an agent might decide to take the bus to work in the morning, but if they are running late they might choose to hail a taxi instead.\n",
    "\n",
    "The simulation would include realistic physics and traffic rules, so that agents and vehicles move and behave in a believable way. The city would also include different types of buildings and landmarks, such as offices, shops, and parks.\n",
    "\n",
    "As the simulation runs, the agents would go about their daily routines and interact with each other in various ways. The simulation could also include random events, such as traffic accidents or weather changes, to add an element of unpredictability and realism.\n",
    "\n",
    "Overall, the simulation would provide a rich and realistic virtual world for the agents to inhabit and explore, and could be used to study and analyze the behavior of large groups of agents in a city-like environment."
   ]
  },
  {
   "cell_type": "code",
   "execution_count": 1,
   "metadata": {},
   "outputs": [
    {
     "name": "stdout",
     "output_type": "stream",
     "text": [
      "Welcome to the Simulations Quiz!\n",
      "\n",
      " True or False: Simulations will always have the same result. \n",
      " A: True, \n",
      " B: False\n",
      "You said:  B\n",
      "Correct!\n",
      "\n",
      " True or False: A simulation has results that are more accurate than an experiment \n",
      " A: True, \n",
      " B: False\n",
      "You said:  B\n",
      "Correct!\n",
      "\n",
      " True or False: A simulation can model real world events that are not practical for experiments \n",
      " A: True, \n",
      " B: False\n",
      "You said:  A\n",
      "Correct!\n",
      "\n",
      " Which one of these is FALSE regarding simulations \n",
      " A: Reduces Costs, \n",
      " B: Is safer than real life experiments, \n",
      " C: More Efficient, \n",
      " D: More accurate than real life experiments\n",
      "You said:  D\n",
      "Correct!\n",
      "\n",
      " Which of the following scenarios would be the LEAST beneficial to have as a simulation \n",
      " A: A retail company wants to identify the item which sold the most on their website, \n",
      " B: A restaurant wants to determine if the use of robots will increase efficiency, \n",
      " C: An insurance company wants to study the impact of rain on car accidents, \n",
      " D: A sports car company wants to study design changes to their new bike design \n",
      "You said:  A\n",
      "Correct!\n",
      "\n",
      " Which of the following is better to do as a simulation than as a calculation \n",
      " A: Keeping score at a basketball game, \n",
      " B: Keeping track of how many games a person has won, \n",
      " C: Determining the average grade for a group of tests, \n",
      " D: Studying the impact of carbon emissions on the environment\n",
      "You said:  D\n",
      "Correct!\n",
      "You scored:  6 /6\n"
     ]
    }
   ],
   "source": [
    "questions_number = 6\n",
    "answers_correct = 0\n",
    "questions = [\n",
    "    \"True or False: Simulations will always have the same result. \\n A: True, \\n B: False\",\n",
    "    \"True or False: A simulation has results that are more accurate than an experiment \\n A: True, \\n B: False\",\n",
    "    \"True or False: A simulation can model real world events that are not practical for experiments \\n A: True, \\n B: False\",\n",
    "    \"Which one of these is FALSE regarding simulations \\n A: Reduces Costs, \\n B: Is safer than real life experiments, \\n C: More Efficient, \\n D: More accurate than real life experiments\",\n",
    "    \"Which of the following scenarios would be the LEAST beneficial to have as a simulation \\n A: A retail company wants to identify the item which sold the most on their website, \\n B: A restaurant wants to determine if the use of robots will increase efficiency, \\n C: An insurance company wants to study the impact of rain on car accidents, \\n D: A sports car company wants to study design changes to their new bike design \",\n",
    "    \"Which of the following is better to do as a simulation than as a calculation \\n A: Keeping score at a basketball game, \\n B: Keeping track of how many games a person has won, \\n C: Determining the average grade for a group of tests, \\n D: Studying the impact of carbon emissions on the environment\"\n",
    "]\n",
    "question_answers = [\n",
    "    \"B\",\n",
    "    \"B\",\n",
    "    \"A\",\n",
    "    \"D\",\n",
    "    \"A\",\n",
    "    \"D\"\n",
    "]\n",
    "\n",
    "print(\"Welcome to the Simulations Quiz!\")\n",
    "\n",
    "def ask_question (question, answer):\n",
    "    print(\"\\n\", question)\n",
    "    user_answer = input(question)\n",
    "    print(\"You said: \", user_answer)\n",
    "\n",
    "    if user_answer == answer:\n",
    "        print(\"Correct!\")\n",
    "        global answers_correct\n",
    "        answers_correct = answers_correct + 1\n",
    "    else:\n",
    "        print(\"You are incorrect\")\n",
    "    \n",
    "for num in range(questions_number):\n",
    "    ask_question(questions[num], question_answers[num])\n",
    "\n",
    "print(\"You scored: \", answers_correct, \"/6\")"
   ]
  },
  {
   "cell_type": "markdown",
   "metadata": {},
   "source": [
    "#### HACK 3\n",
    "\n",
    "The rolling dice simulation in Python is a program that generates a random number between 1 and 6, simulating the outcome of rolling a single six-sided die. The program may be used to simulate multiple rolls of the die and track the results, allowing the user to study the distribution of the outcomes and the probability of certain numbers being rolled. The program can be implemented using the built-in random module in Python, which provides a function for generating random numbers. To simulate rolling a die, the program would first import the random module, then use the random.randint() function to generate a random integer between 1 and 6, which would represent the outcome of the roll. The program could then output the result of the roll and continue to simulate additional rolls as desired."
   ]
  },
  {
   "cell_type": "markdown",
   "metadata": {},
   "source": [
    "#### HACK 4"
   ]
  },
  {
   "cell_type": "code",
   "execution_count": 4,
   "metadata": {},
   "outputs": [
    {
     "name": "stdout",
     "output_type": "stream",
     "text": [
      "The 14-sided die landed on 8\n"
     ]
    }
   ],
   "source": [
    "import random\n",
    "\n",
    "# Roll the 14-sided die\n",
    "result = random.randint(1, 14)\n",
    "\n",
    "# Output the result of the roll\n",
    "print(f'The 14-sided die landed on {result}')\n"
   ]
  },
  {
   "cell_type": "markdown",
   "metadata": {},
   "source": [
    "#### HACK 5 (EXTRA CREDIT)"
   ]
  },
  {
   "cell_type": "code",
   "execution_count": 10,
   "metadata": {},
   "outputs": [
    {
     "name": "stdout",
     "output_type": "stream",
     "text": [
      "Bounce 1 : height = 70.0\n",
      "Bounce 2 : height = 49.0\n",
      "Bounce 3 : height = 34.3\n",
      "Bounce 4 : height = 24.009999999999998\n",
      "Bounce 5 : height = 16.807\n",
      "Bounce 6 : height = 11.764899999999999\n",
      "Bounce 7 : height = 8.23543\n",
      "Bounce 8 : height = 5.764800999999999\n",
      "Bounce 9 : height = 4.035360699999999\n",
      "Bounce 10 : height = 2.8247524899999994\n"
     ]
    }
   ],
   "source": [
    "#define the starting height of the ball\n",
    "height = 100\n",
    "\n",
    "#define the coefficient of restitution (bounciness) of the ball\n",
    "cor = 0.7\n",
    "\n",
    "#define the number of bounces\n",
    "bounces = 10\n",
    "\n",
    "#for the number of bounces\n",
    "for i in range(bounces):\n",
    "    #calculate the height of the ball on this bounce\n",
    "    height = height * cor\n",
    "    #check if the ball is still above 0.01 units\n",
    "    if height < 0.01:\n",
    "        #end the simulation\n",
    "        break\n",
    "    #output the height of the ball on this bounce\n",
    "    print(\"Bounce\", i+1, \": height =\", height)\n"
   ]
  },
  {
   "cell_type": "markdown",
   "metadata": {},
   "source": [
    "This simple simulation models the behavior of a ball being dropped and bouncing on the ground. The starting height, bounciness, and number of bounces can be adjusted to see how they affect the behavior of the ball. For example, increasing the bounciness will cause the ball to bounce higher, and increasing the number of bounces will cause the ball to bounce more times before coming to a stop."
   ]
  }
 ],
 "metadata": {
  "kernelspec": {
   "display_name": "Python 3.8.10 64-bit",
   "language": "python",
   "name": "python3"
  },
  "language_info": {
   "codemirror_mode": {
    "name": "ipython",
    "version": 3
   },
   "file_extension": ".py",
   "mimetype": "text/x-python",
   "name": "python",
   "nbconvert_exporter": "python",
   "pygments_lexer": "ipython3",
   "version": "3.8.10"
  },
  "orig_nbformat": 4,
  "vscode": {
   "interpreter": {
    "hash": "916dbcbb3f70747c44a77c7bcd40155683ae19c65e1c03b4aa3499c5328201f1"
   }
  }
 },
 "nbformat": 4,
 "nbformat_minor": 2
}

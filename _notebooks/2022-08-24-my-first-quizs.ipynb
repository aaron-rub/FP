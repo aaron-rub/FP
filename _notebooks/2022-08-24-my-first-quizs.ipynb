{
 "cells": [
  {
   "cell_type": "markdown",
   "metadata": {},
   "source": [
    "# Quiz\n",
    "> This was my first time making a quiz"
   ]
  },
  {
   "cell_type": "code",
   "execution_count": 41,
   "metadata": {},
   "outputs": [
    {
     "name": "stdout",
     "output_type": "stream",
     "text": [
      "Type the word: apple\n",
      "Incorrect. You did not type the word correctly.\n"
     ]
    }
   ],
   "source": [
    "import random\n",
    "\n",
    "# Create a list of words to choose from\n",
    "words = [\"apple\", \"banana\", \"orange\", \"grape\", \"strawberry\"]\n",
    "\n",
    "# Generate a random word from the list\n",
    "word = random.choice(words)\n",
    "\n",
    "# Print the word to the user\n",
    "print(\"Type the word:\", word)\n",
    "\n",
    "# Get the user's input\n",
    "typed_word = input()\n",
    "\n",
    "# Check if the user's input matches the word\n",
    "if typed_word == word:\n",
    "  print(\"Correct! You typed the word correctly.\")\n",
    "else:\n",
    "  print(\"Incorrect. You did not type the word correctly.\")\n"
   ]
  },
  {
   "cell_type": "markdown",
   "metadata": {},
   "source": [
    "#### Hacks 3.1.2\n",
    "> How much would a string store to the enecrypted message so that the loop in each character in the message \n",
    "\n"
   ]
  },
  {
   "cell_type": "code",
   "execution_count": 42,
   "metadata": {},
   "outputs": [
    {
     "ename": "SyntaxError",
     "evalue": "invalid syntax (638317943.py, line 12)",
     "output_type": "error",
     "traceback": [
      "\u001b[0;36m  Input \u001b[0;32mIn [42]\u001b[0;36m\u001b[0m\n\u001b[0;31m    else shifted_char < ord(\"a\"): shifted_char\u001b[0m\n\u001b[0m    ^\u001b[0m\n\u001b[0;31mSyntaxError\u001b[0m\u001b[0;31m:\u001b[0m invalid syntax\n"
     ]
    }
   ],
   "source": [
    "def casear_cipher(message,shirt):\n",
    "    encrypted_message = \"\"\n",
    "\n",
    "    for char in message:\n",
    "        if not char.isaplha():\n",
    "            encrypted_message += char\n",
    "            continue\n",
    "\n",
    "        shifted_char = ord(char) + shift \n",
    "        if shifted_char > ord(\"z\"):\n",
    "            shifted_char -= 26\n",
    "            else shifted_char < ord(\"a\"): shifted_char"
   ]
  },
  {
   "cell_type": "code",
   "execution_count": 43,
   "metadata": {},
   "outputs": [
    {
     "data": {
      "text/plain": [
       "-3.380515006246586"
      ]
     },
     "execution_count": 43,
     "metadata": {},
     "output_type": "execute_result"
    }
   ],
   "source": [
    "import math\n",
    "\n",
    "math.tan(5)"
   ]
  },
  {
   "cell_type": "code",
   "execution_count": null,
   "metadata": {},
   "outputs": [],
   "source": []
  },
  {
   "cell_type": "code",
   "execution_count": 40,
   "metadata": {},
   "outputs": [
    {
     "ename": "TypeError",
     "evalue": "ord() expected a character, but string of length 4 found",
     "output_type": "error",
     "traceback": [
      "\u001b[0;31m---------------------------------------------------------------------------\u001b[0m",
      "\u001b[0;31mTypeError\u001b[0m                                 Traceback (most recent call last)",
      "\u001b[1;32m/home/aaron_ru/vscode/FP/_notebooks/2022-08-24-my-first-quizs.ipynb Cell 7\u001b[0m in \u001b[0;36m<cell line: 1>\u001b[0;34m()\u001b[0m\n\u001b[0;32m----> <a href='vscode-notebook-cell://wsl%2Bubuntu/home/aaron_ru/vscode/FP/_notebooks/2022-08-24-my-first-quizs.ipynb#X10sdnNjb2RlLXJlbW90ZQ%3D%3D?line=0'>1</a>\u001b[0m encrypted_message \u001b[39m=\u001b[39m caesar_cipher(\u001b[39m\"\u001b[39;49m\u001b[39mhello\u001b[39;49m\u001b[39m\"\u001b[39;49m, \u001b[39m3\u001b[39;49m)\n",
      "\u001b[1;32m/home/aaron_ru/vscode/FP/_notebooks/2022-08-24-my-first-quizs.ipynb Cell 7\u001b[0m in \u001b[0;36mcaesar_cipher\u001b[0;34m(message, shift)\u001b[0m\n\u001b[1;32m     <a href='vscode-notebook-cell://wsl%2Bubuntu/home/aaron_ru/vscode/FP/_notebooks/2022-08-24-my-first-quizs.ipynb#X10sdnNjb2RlLXJlbW90ZQ%3D%3D?line=12'>13</a>\u001b[0m shifted_char \u001b[39m=\u001b[39m \u001b[39mord\u001b[39m(char) \u001b[39m+\u001b[39m shift\n\u001b[1;32m     <a href='vscode-notebook-cell://wsl%2Bubuntu/home/aaron_ru/vscode/FP/_notebooks/2022-08-24-my-first-quizs.ipynb#X10sdnNjb2RlLXJlbW90ZQ%3D%3D?line=14'>15</a>\u001b[0m \u001b[39m# If the shifted character is not a letter, \"wrap around\" to the other end of the alphabet\u001b[39;00m\n\u001b[0;32m---> <a href='vscode-notebook-cell://wsl%2Bubuntu/home/aaron_ru/vscode/FP/_notebooks/2022-08-24-my-first-quizs.ipynb#X10sdnNjb2RlLXJlbW90ZQ%3D%3D?line=15'>16</a>\u001b[0m \u001b[39mif\u001b[39;00m shifted_char \u001b[39m>\u001b[39m \u001b[39mord\u001b[39;49m(\u001b[39m\"\u001b[39;49m\u001b[39mdhoa\u001b[39;49m\u001b[39m\"\u001b[39;49m):\n\u001b[1;32m     <a href='vscode-notebook-cell://wsl%2Bubuntu/home/aaron_ru/vscode/FP/_notebooks/2022-08-24-my-first-quizs.ipynb#X10sdnNjb2RlLXJlbW90ZQ%3D%3D?line=16'>17</a>\u001b[0m   shifted_char \u001b[39m-\u001b[39m\u001b[39m=\u001b[39m \u001b[39m26\u001b[39m\n\u001b[1;32m     <a href='vscode-notebook-cell://wsl%2Bubuntu/home/aaron_ru/vscode/FP/_notebooks/2022-08-24-my-first-quizs.ipynb#X10sdnNjb2RlLXJlbW90ZQ%3D%3D?line=17'>18</a>\u001b[0m \u001b[39melif\u001b[39;00m shifted_char \u001b[39m<\u001b[39m \u001b[39mord\u001b[39m(\u001b[39m\"\u001b[39m\u001b[39ma\u001b[39m\u001b[39m\"\u001b[39m):\n",
      "\u001b[0;31mTypeError\u001b[0m: ord() expected a character, but string of length 4 found"
     ]
    }
   ],
   "source": [
    "encrypted_message = caesar_cipher(\"hello\", 3)\n"
   ]
  },
  {
   "cell_type": "code",
   "execution_count": 44,
   "metadata": {},
   "outputs": [
    {
     "name": "stdout",
     "output_type": "stream",
     "text": [
      "you got 4 out of 4\n"
     ]
    }
   ],
   "source": [
    " \n",
    " \n",
    "class Question:\n",
    "     def __init__(self, prompt, answer):\n",
    "          self.prompt = prompt\n",
    "          self.answer = answer\n",
    " \n",
    "question_prompts = [\n",
    "     \"Chose the correct definision for a Vector (c++)\\n(a) A sequential container to store elements and NOT index based\\n(b) A fixed-size sequential collection of elements of the same type and it is index based\",\n",
    "     \"Can you reverse a string in Java?\\nyes/\\nno\",\n",
    "     \"Is this working? \\nyes/\\nno\",\n",
    "     \"What is this letter? (y) \\n(y)\\n(p)\",\n",
    "]\n",
    " \n",
    "questions = [\n",
    "     Question(question_prompts[0], \"a\"),\n",
    "     Question(question_prompts[1], \"no\"),\n",
    "     Question(question_prompts[2], \"yes\"),\n",
    "     Question(question_prompts[3], \"y\"),\n",
    "]\n",
    " \n",
    "def run_quiz(questions):\n",
    "     score = 0\n",
    "     for question in questions:\n",
    "          answer = input(question.prompt)\n",
    "          if answer == question.answer:\n",
    "               score += 1\n",
    "     print(\"you got\", score, \"out of\", len(questions))\n",
    " \n",
    "run_quiz(questions)\n",
    " \n",
    "# _____/\\\\\\\\\\\\\\\\\\_____/\\\\\\\\\\\\\\\\\\\\\\\\\\__________/\\\\\\\\\\\\\\\\\\_____/\\\\\\\\\\\\\\\\\\\\\\____/\\\\\\\\\\\\\\\\\\\\\\\\\\___        \n",
    "# ___/\\\\\\\\\\\\\\\\\\\\\\\\\\__\\/\\\\\\/////////\\\\\\_____/\\\\\\////////____/\\\\\\/////////\\\\\\_\\/\\\\\\/////////\\\\\\_      \n",
    "#  __/\\\\\\/////////\\\\\\_\\/\\\\\\_______\\/\\\\\\___/\\\\\\/____________\\//\\\\\\______\\///__\\/\\\\\\_______\\/\\\\\\_      \n",
    "#   _\\/\\\\\\_______\\/\\\\\\_\\/\\\\\\\\\\\\\\\\\\\\\\\\\\/___/\\\\\\_______________\\////\\\\\\_________\\/\\\\\\\\\\\\\\\\\\\\\\\\\\/__    \n",
    "#    _\\/\\\\\\\\\\\\\\\\\\\\\\\\\\\\\\_\\/\\\\\\/////////____\\/\\\\\\__________________\\////\\\\\\______\\/\\\\\\/////////____    \n",
    "#     _\\/\\\\\\/////////\\\\\\_\\/\\\\\\_____________\\//\\\\\\____________________\\////\\\\\\___\\/\\\\\\_____________  \n",
    "#      _\\/\\\\\\_______\\/\\\\\\_\\/\\\\\\______________\\///\\\\\\___________/\\\\\\______\\//\\\\\\__\\/\\\\\\_____________  \n",
    "#       _\\/\\\\\\_______\\/\\\\\\_\\/\\\\\\________________\\////\\\\\\\\\\\\\\\\\\_\\///\\\\\\\\\\\\\\\\\\\\\\/___\\/\\\\\\_____________\n",
    "#        _\\///________\\///__\\///____________________\\/////////____\\///////////_____\\///______________\n"
   ]
  },
  {
   "cell_type": "markdown",
   "metadata": {},
   "source": []
  },
  {
   "cell_type": "code",
   "execution_count": null,
   "metadata": {},
   "outputs": [
    {
     "name": "stdout",
     "output_type": "stream",
     "text": [
      "hello\n"
     ]
    }
   ],
   "source": [
    "syntax = print(\"hello\")"
   ]
  },
  {
   "cell_type": "code",
   "execution_count": 26,
   "metadata": {},
   "outputs": [
    {
     "name": "stdout",
     "output_type": "stream",
     "text": [
      "Tangent Results\n",
      "\n",
      "Tangent of num1     Tangent of num2     \n",
      "----------------------------------------\n",
      "-0.648              -9.397              \n",
      "1.831               1.831               \n",
      "-72.946             0.636               \n",
      "3.497               0.688               \n",
      "-0.587              0.277               \n",
      "1.403               3.386               \n",
      "1.831               -0.431              \n",
      "1.831               1.831               \n",
      "1.098               -3.116              \n",
      "-15.062             -0.330              \n",
      "-15.062             -0.485              \n",
      "15.062              0.485               \n",
      "-0.093              0.736               \n"
     ]
    }
   ],
   "source": [
    "import numpy as np\n",
    "import pandas as pd\n",
    "from sqlalchemy import create_engine\n",
    "import sqlite3\n",
    "\n",
    "# create a connection to your SQL database\n",
    "engine = create_engine('sqlite:///mydatabase.db')\n",
    "\n",
    "# get input from the user\n",
    "num1 = float(input(\"Enter the first number: \"))\n",
    "num2 = float(input(\"Enter the second number: \"))\n",
    "\n",
    "# calculate the tangent using NumPy\n",
    "result = np.tan([num1, num2])\n",
    "\n",
    "# write the results to an SQL table using Pandas\n",
    "result_df = pd.DataFrame(result.reshape(1, 2), columns=['tangent of num1', 'tangent of num2'])\n",
    "result_df.to_sql('myresulttable', engine, if_exists='append', index=False)\n",
    "\n",
    "# create a connection to your SQLite database\n",
    "conn = sqlite3.connect('mydatabase.db')\n",
    "\n",
    "# create a cursor object\n",
    "cur = conn.cursor()\n",
    "\n",
    "# select all rows from the myresulttable table\n",
    "cur.execute(\"SELECT [tangent of num1], [tangent of num2] FROM myresulttable\")\n",
    "\n",
    "# fetch all rows from the cursor object\n",
    "rows = cur.fetchall()\n",
    "\n",
    "# print the results\n",
    "print(\"Tangent Results\\n\")\n",
    "print(\"{:<20s}{:<20s}\".format(\"Tangent of num1\", \"Tangent of num2\"))\n",
    "print(\"-\" * 40)\n",
    "\n",
    "for row in rows:\n",
    "    print(\"{:<20.3f}{:<20.3f}\".format(row[0], row[1]))\n",
    "\n",
    "# close the connection\n",
    "conn.close()\n"
   ]
  }
 ],
 "metadata": {
  "kernelspec": {
   "display_name": "Python 3.8.10 64-bit",
   "language": "python",
   "name": "python3"
  },
  "language_info": {
   "codemirror_mode": {
    "name": "ipython",
    "version": 3
   },
   "file_extension": ".py",
   "mimetype": "text/x-python",
   "name": "python",
   "nbconvert_exporter": "python",
   "pygments_lexer": "ipython3",
   "version": "3.8.10"
  },
  "orig_nbformat": 4,
  "vscode": {
   "interpreter": {
    "hash": "916dbcbb3f70747c44a77c7bcd40155683ae19c65e1c03b4aa3499c5328201f1"
   }
  }
 },
 "nbformat": 4,
 "nbformat_minor": 2
}

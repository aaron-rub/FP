{
 "cells": [
  {
   "cell_type": "markdown",
   "metadata": {},
   "source": [
    "# Code Corrections!\n",
    "> The problems wefaced and what we were able to solve\n",
    "- toc: true \n",
    "- badges: true\n",
    "- comments: true\n",
    "- categories: [jupyter, python]"
   ]
  },
  {
   "cell_type": "markdown",
   "metadata": {},
   "source": [
    "## Our problems\n",
    "\n",
    "- One of the problems that we faced during project was the sign-in page. Currently we have our sign-in page set as a front end file, but we are struggling to find a way to make a functional sign-in page. \n",
    "\n",
    "- Another problem we have is avaliabilty after school, majority of our gorup members are very busy after school because of sports, work, and other classes. What we have done to fix this problem is stay in during office hours and lunch and start working on our project as a group."
   ]
  },
  {
   "cell_type": "markdown",
   "metadata": {},
   "source": [
    "## Accomplishments \n",
    "\n",
    "- Succesfully deployed our website and it has a fucntioning domain\n",
    "- Multiple new submenus\n",
    "- Frontend appearance \n",
    "- For our API we designed a concept in which customers can rate our products with certain raitings."
   ]
  }
 ],
 "metadata": {
  "language_info": {
   "name": "python"
  },
  "orig_nbformat": 4
 },
 "nbformat": 4,
 "nbformat_minor": 2
}

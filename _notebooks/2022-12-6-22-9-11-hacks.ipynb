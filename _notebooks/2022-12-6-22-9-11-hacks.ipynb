{
 "cells": [
  {
   "cell_type": "markdown",
   "metadata": {},
   "source": [
    "# Lesson 9-11 Hacks\n",
    "> Hacks for lesson 9 through 11\n",
    "\n",
    "- toc: true \n",
    "- badges: true\n",
    "- comments: true\n",
    "- categories: [collegeboard, ]"
   ]
  },
  {
   "cell_type": "markdown",
   "metadata": {},
   "source": [
    "#### Hacks\n",
    "\n",
    "- why is it important to know that algorithms that look different can do the same thing and that algorithms that look the same might have different results?(0.15) It is important to know because it can show that there are multiple ways to troubleshoot a line of code, but it is also important to know that just one change within a segment of code could change it all.\n",
    "- for the converted conditional to boolean conversion(0.10)\n",
    "- total: 0.25"
   ]
  },
  {
   "cell_type": "markdown",
   "metadata": {},
   "source": [
    "#### What to do when developing algorithims\n",
    "- When creating an algorithm, its good to outline its process before coding\n",
    "    - This ensures that it is **sequenced** correctly\n",
    "- You should represent the algorithm using a flowchart or natural language\n",
    "    - Visualization can help you better see the flow of the whole algorithm\n",
    "    - This may allow for the coding process to be more efficient and effective"
   ]
  },
  {
   "cell_type": "code",
   "execution_count": 1,
   "metadata": {},
   "outputs": [
    {
     "name": "stdout",
     "output_type": "stream",
     "text": [
      "Spend it and make more\n"
     ]
    }
   ],
   "source": [
    "NoMoney = False\n",
    "HasMoney = True\n",
    "\n",
    "if NoMoney == True:\n",
    "   print(\"You need to work more.\")\n",
    "else: \n",
    "   if HasMoney == True:\n",
    "      print(\"Spend it and make more\")\n",
    "   else: \n",
    "      print(\"Have a good day\")"
   ]
  },
  {
   "cell_type": "code",
   "execution_count": 2,
   "metadata": {},
   "outputs": [
    {
     "name": "stdout",
     "output_type": "stream",
     "text": [
      "It's nightime\n"
     ]
    }
   ],
   "source": [
    "isDay = False\n",
    "isNight = True\n",
    "\n",
    "# setting variables here (same as above to make comparison easier)\n",
    "Nighttime = not(isDay) and isNight\n",
    "if Nighttime == False:\n",
    "    print(\"It's daytime\")\n",
    "if Nighttime == True:\n",
    "    print(\"It's nightime\")"
   ]
  },
  {
   "cell_type": "markdown",
   "metadata": {},
   "source": [
    "#### 3.9.2 Hacks\n",
    "\n",
    "Steps:\n",
    "1. Check to see if Chores or Assignments is > 0\n",
    "    - If chores & assignemnts == 0 then it's done!\n",
    "2. If chores and assignments > 0 then repeat following steps until they are both 0.\n",
    "    - Chores = 5 then do 5 chores until it's 0\n",
    "    - Assignmentss = 19 then do 19 assignments."
   ]
  },
  {
   "cell_type": "code",
   "execution_count": 3,
   "metadata": {},
   "outputs": [
    {
     "name": "stdout",
     "output_type": "stream",
     "text": [
      "Chores left: 0 Assignments left: 0\n"
     ]
    }
   ],
   "source": [
    "Chores = 5\n",
    "Assignments = 19\n",
    "\n",
    "while (Chores or Assignments) > 0:\n",
    "    if Chores > 0:\n",
    "        Chores -= 1\n",
    "    if Assignments > 0: \n",
    "        Assignments -= 1\n",
    "print(\"Chores left:\",Chores,\"Assignments left:\",Assignments)"
   ]
  },
  {
   "cell_type": "markdown",
   "metadata": {},
   "source": [
    "#### 3.9.3 Hacks\n",
    "\n"
   ]
  },
  {
   "cell_type": "code",
   "execution_count": 4,
   "metadata": {},
   "outputs": [
    {
     "name": "stdout",
     "output_type": "stream",
     "text": [
      "I'm thinking of a number between 1 and 100.\n",
      "You guessed 5.\n",
      "Nice Try!\n",
      "Guess a number between 5 and 100.\n",
      "You guessed 12.\n",
      "Nice Try!\n",
      "Guess a number between 12 and 100.\n",
      "You guessed 11.\n",
      "Nice Try!\n",
      "Guess a number between 11 and 100.\n",
      "You guessed 1.\n",
      "Nice Try!\n",
      "Guess a number between 1 and 100.\n"
     ]
    },
    {
     "ename": "ValueError",
     "evalue": "invalid literal for int() with base 10: ''",
     "output_type": "error",
     "traceback": [
      "\u001b[0;31m---------------------------------------------------------------------------\u001b[0m",
      "\u001b[0;31mValueError\u001b[0m                                Traceback (most recent call last)",
      "\u001b[1;32m/home/aaron_ru/vscode/FP/_notebooks/2022-12-6-22-9-11-hacks.ipynb Cell 9\u001b[0m in \u001b[0;36m<cell line: 27>\u001b[0;34m()\u001b[0m\n\u001b[1;32m     <a href='vscode-notebook-cell://wsl%2Bubuntu/home/aaron_ru/vscode/FP/_notebooks/2022-12-6-22-9-11-hacks.ipynb#X10sdnNjb2RlLXJlbW90ZQ%3D%3D?line=24'>25</a>\u001b[0m     \u001b[39mreturn\u001b[39;00m lower_bound, upper_bound\n\u001b[1;32m     <a href='vscode-notebook-cell://wsl%2Bubuntu/home/aaron_ru/vscode/FP/_notebooks/2022-12-6-22-9-11-hacks.ipynb#X10sdnNjb2RlLXJlbW90ZQ%3D%3D?line=26'>27</a>\u001b[0m \u001b[39mwhile\u001b[39;00m user_guess \u001b[39m!=\u001b[39m number:\n\u001b[0;32m---> <a href='vscode-notebook-cell://wsl%2Bubuntu/home/aaron_ru/vscode/FP/_notebooks/2022-12-6-22-9-11-hacks.ipynb#X10sdnNjb2RlLXJlbW90ZQ%3D%3D?line=27'>28</a>\u001b[0m     user_guess \u001b[39m=\u001b[39m guess()\n\u001b[1;32m     <a href='vscode-notebook-cell://wsl%2Bubuntu/home/aaron_ru/vscode/FP/_notebooks/2022-12-6-22-9-11-hacks.ipynb#X10sdnNjb2RlLXJlbW90ZQ%3D%3D?line=28'>29</a>\u001b[0m     num_guesses \u001b[39m+\u001b[39m\u001b[39m=\u001b[39m \u001b[39m1\u001b[39m\n\u001b[1;32m     <a href='vscode-notebook-cell://wsl%2Bubuntu/home/aaron_ru/vscode/FP/_notebooks/2022-12-6-22-9-11-hacks.ipynb#X10sdnNjb2RlLXJlbW90ZQ%3D%3D?line=29'>30</a>\u001b[0m     \u001b[39mprint\u001b[39m(\u001b[39mf\u001b[39m\u001b[39m\"\u001b[39m\u001b[39mYou guessed \u001b[39m\u001b[39m{\u001b[39;00muser_guess\u001b[39m}\u001b[39;00m\u001b[39m.\u001b[39m\u001b[39m\"\u001b[39m)\n",
      "\u001b[1;32m/home/aaron_ru/vscode/FP/_notebooks/2022-12-6-22-9-11-hacks.ipynb Cell 9\u001b[0m in \u001b[0;36mguess\u001b[0;34m()\u001b[0m\n\u001b[1;32m     <a href='vscode-notebook-cell://wsl%2Bubuntu/home/aaron_ru/vscode/FP/_notebooks/2022-12-6-22-9-11-hacks.ipynb#X10sdnNjb2RlLXJlbW90ZQ%3D%3D?line=12'>13</a>\u001b[0m \u001b[39mdef\u001b[39;00m \u001b[39mguess\u001b[39m():\n\u001b[1;32m     <a href='vscode-notebook-cell://wsl%2Bubuntu/home/aaron_ru/vscode/FP/_notebooks/2022-12-6-22-9-11-hacks.ipynb#X10sdnNjb2RlLXJlbW90ZQ%3D%3D?line=13'>14</a>\u001b[0m     num \u001b[39m=\u001b[39m \u001b[39minput\u001b[39m(\u001b[39m\"\u001b[39m\u001b[39mWhat number?\u001b[39m\u001b[39m\"\u001b[39m)\n\u001b[0;32m---> <a href='vscode-notebook-cell://wsl%2Bubuntu/home/aaron_ru/vscode/FP/_notebooks/2022-12-6-22-9-11-hacks.ipynb#X10sdnNjb2RlLXJlbW90ZQ%3D%3D?line=14'>15</a>\u001b[0m     \u001b[39mreturn\u001b[39;00m \u001b[39mint\u001b[39;49m(num)\n",
      "\u001b[0;31mValueError\u001b[0m: invalid literal for int() with base 10: ''"
     ]
    }
   ],
   "source": [
    "import random\n",
    "\n",
    "num_guesses = 0\n",
    "user_guess = 0\n",
    "upper_bound = 100\n",
    "lower_bound = 0\n",
    "\n",
    "number = random.randint(1,100)\n",
    "\n",
    "print(f\"I'm thinking of a number between 1 and 100.\")\n",
    "\n",
    "#Write a function that gets a guess from the user using input()\n",
    "def guess():\n",
    "    num = input(\"What number?\")\n",
    "    return int(num)\n",
    "\n",
    "def search(number, guess):\n",
    "    global lower_bound, upper_bound\n",
    "    if guess < number:\n",
    "        print(\"Nice Try!\")\n",
    "        lower_bound = guess\n",
    "    elif guess > number:\n",
    "        print(\"Good luck next time! :(\")\n",
    "        upper_bound = guess\n",
    "    return lower_bound, upper_bound\n",
    "\n",
    "while user_guess != number:\n",
    "    user_guess = guess()\n",
    "    num_guesses += 1\n",
    "    print(f\"You guessed {user_guess}.\")\n",
    "    lower_bound, upper_bound = search(number, user_guess)\n",
    "    print(f\"Guess a number between {lower_bound} and {upper_bound}.\")\n",
    "\n",
    "print(f\"You guessed the number in {num_guesses} guesses!\")"
   ]
  }
 ],
 "metadata": {
  "kernelspec": {
   "display_name": "Python 3.8.10 64-bit",
   "language": "python",
   "name": "python3"
  },
  "language_info": {
   "codemirror_mode": {
    "name": "ipython",
    "version": 3
   },
   "file_extension": ".py",
   "mimetype": "text/x-python",
   "name": "python",
   "nbconvert_exporter": "python",
   "pygments_lexer": "ipython3",
   "version": "3.8.10"
  },
  "orig_nbformat": 4,
  "vscode": {
   "interpreter": {
    "hash": "916dbcbb3f70747c44a77c7bcd40155683ae19c65e1c03b4aa3499c5328201f1"
   }
  }
 },
 "nbformat": 4,
 "nbformat_minor": 2
}

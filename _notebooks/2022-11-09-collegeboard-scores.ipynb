{
 "cells": [
  {
   "cell_type": "markdown",
   "metadata": {},
   "source": [
    "# My final score\n",
    "> The score I got on my final\n",
    "- toc: true \n",
    "- badges: true\n",
    "- comments: true\n",
    "- categories: [jupyter, python]"
   ]
  },
  {
   "cell_type": "markdown",
   "metadata": {},
   "source": [
    "### My Final Score\n",
    "![](https://lh3.googleusercontent.com/uZsSldmTvkNRlo2x1mp9dyQhebj2v_QvKJjwP6awgUBavhGy21qYq0KoswTkQVC_vbxtiC6RVIfMpLR4jux9aCKgW9dgUXpZprPhL8OU3CHJLkV4ac3fxaPYUr5KBajkFlyEaseqIrNvDpPFLlJH9RudWUOdfmOUCmhCEtkEB_eBwVUoZLXG3Bm1Z4Z1riynoRtca4XjUL4XXqSYk4VI5IEzohPsP-BVL7LDlZ8fX8gdbctE32BAOQcXLULiudMIBKCD3XvxW5tX4hO3TLlHvYzJc7NDlnQ2CvY9qBTVrTzSE-B9xV6oI0WDjt46svajXQY8kyBFJ3SMuNTe09JAmGV6XWObM_JA87dT-uhmy9KO9AxNUBOfm3OkIboX-fI2Gut1BPt9bI1Pbg5HHGCNfR1bHl0CnSQNEMlI_Dicy6SJIdpD4JBJw0jIpcSZhCw7AYo9CSC509RdHn7kVxtyDXVmNKMoEv-6JVcGpLALgtZ_AN1NUabpPk-nXqwlxQ5YenEYv0IxLvYWzqrLkkgSDNzHDYIpTskb6zQ1g7WFqDNcgMCivjBYGlgzis24TVAPFUtx0jO4dFAePIsYQ1_H9sgyUqF7ak2uh3UvJbddxw0pyXXmZrg_VTh42bBq87qQwfQd62mFbIDFpUjs1NbRVQZ1KSb8uiPVs9dBOIoKBLQLYnmoIV_bkLzOZx53M2lfh8Uh8Fv7z1vZa1KH1KJx7ji4qGiT49IiujKJ3dXfVI6z9SFzNdleKKvQXVVjYOIPp5bq3RWMYc3hU9sZ-_W1c9Y_voU6l5cBE8KUZTxbtfw8cCV7SMJYUroAUjgqeGsuszQc5IfG5ihCBr5zh0TCCapfdV7C9WBMou8inpVjgvA2ee9EbViqZNKREoqgSOgw2sXMtEfd9heYc94E2PVOHjbAM8rhjPT4BBKrSdJCZp93io9UfiV9w8t0zoXBLf48ds-vUXNSAf-4LGDUxYSiQvnLdmVVnJKdpLccaLcM3Ou7rNMowPK2fiA=w1917-h606-no?authuser=0)"
   ]
  },
  {
   "cell_type": "markdown",
   "metadata": {},
   "source": [
    "### Test corrections\n",
    "\n",
    "- Question #1, I got question 1 wrong because I answered it saying that the function is 2(5x3) but the actual answer was that it was  Initializing result to 2 and multiplying it by 5 a total of three times yields 2(5^3), not 2(5×3).\n",
    "\n",
    "- Question #22, I got that question wrong because I said the binary was equal to 6, but the actual answer was Binary 0011 is equivalent to 2^1+2^0, or decimal 3. Binary 0110 is equivalent to 2^2+2^1, or decimal 6. Binary 1111 is equivalent to 2^3+2^2+2^1+2^0, or decimal 15. Decimal 9 is not equivalent to any of the given binary numbers.\n",
    "\n",
    "- Question #27, I got question 27 wrong because I said that A string variable named s and a numeric variable named . But the correct answer is C because the status of whether a student is absent can be represented using only the values true and false, so a Boolean variable is most appropriate\n",
    "\n",
    "- Question #35, I got question 35 wrong because I answered it with only one out of the two answers, I selected option A which was sets maxPS to 50 by default, then uses the IF statement to set maxPS to 30 when time > 120. But there was one more answer to this question, D was also right because it uses the IF statement to set maxPS to 30 when time > 120 and uses the ELSE statement to set maxPS to 50 otherwise.\n",
    "\n",
    "- Question #47, The correct answer for question 47 The first five statements assign values to the variables. The sixth statement assigns the value of x + b (which is 40) to b. The seventh statement assigns the value of x + 1 (which is 21) to a. But I answered it saying The sixth statement assigns the value of x + b (which is 40) to b. The value of c is never changed from 30 after it is initially assigned. I really didn't know what to do for this question because I was reading the problem wrong and I was struggling.\n",
    "\n",
    "- Question #49, I got question 49 wrong because I said that word <- \"on\" word<- contant(reverse(word), reverse(word)). But the correct answer was word  ←  \"on\" word  ←  concat(reverse(word), word) I got this wrong because I read the answer wrong and I rushed to complete the test"
   ]
  }
 ],
 "metadata": {
  "kernelspec": {
   "display_name": "Python 3.8.10 64-bit",
   "language": "python",
   "name": "python3"
  },
  "language_info": {
   "name": "python",
   "version": "3.8.10"
  },
  "orig_nbformat": 4,
  "vscode": {
   "interpreter": {
    "hash": "916dbcbb3f70747c44a77c7bcd40155683ae19c65e1c03b4aa3499c5328201f1"
   }
  }
 },
 "nbformat": 4,
 "nbformat_minor": 2
}

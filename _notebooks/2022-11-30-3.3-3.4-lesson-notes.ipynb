{
 "cells": [
  {
   "cell_type": "markdown",
   "metadata": {},
   "source": [
    "# Lesson Notes - 3.3 - 3.4\n",
    "> Hacks and notes on 3.3 and 3.4\n",
    "\n",
    "- toc: true \n",
    "- badges: true\n",
    "- comments: true\n",
    "- categories: [collegeboard, ]"
   ]
  },
  {
   "cell_type": "markdown",
   "metadata": {},
   "source": [
    "## Blogging\n",
    "\n",
    "\n",
    "\n",
    "#### What are the three parts of an algorithm?\n",
    "- Sequencing, selection, and iteration.\n",
    "\n",
    "- Every algorithm can be created by a mixture of sequencing, selection, and iteration\n",
    "\n",
    "#### What is a Sequence?\n",
    "- A sequence is the order of how to do something to achieve a result, similarly to how you follow the instructions.\n",
    "\n",
    "\n",
    "#### What is an algorithms?\n",
    "- An algorithm is a finite set of instruction that accomplish a task, it can be expressed by natural language, diagrams, and various other ways.\n",
    "\n",
    "#### What is a Iteration\n",
    "- An iteration is a loop and doing something again until a condition is met..\n",
    "\n",
    "#### What is a Selection?\n",
    "- A selection allows an algorithm to make a decision based on if a condition is met.\n",
    "\n",
    "#### What is a Substring?\n",
    "- A substring is part of an existing string\n",
    "\n",
    "Personal Notes & Topics to Study\n",
    "\n",
    "- Conditions within Iterations\n",
    "- Sequencing\n",
    "- Usage of SubStrings\n",
    "    EX: print(string[5:10])\n"
   ]
  },
  {
   "cell_type": "code",
   "execution_count": 1,
   "metadata": {},
   "outputs": [
    {
     "name": "stdout",
     "output_type": "stream",
     "text": [
      "3.0\n"
     ]
    }
   ],
   "source": [
    "num1 = 5\n",
    "num2 = num1 * 3\n",
    "num3 = num2 / num1 * (9 % 2) * 4\n",
    "result = (num3 % num1 + num2) % num3 * 3 / 5\n",
    "print(result)"
   ]
  },
  {
   "cell_type": "markdown",
   "metadata": {},
   "source": [
    "- You will describe the different parts of an algorithm, sequencing, selection, and iteration in the image below. \n",
    "\n",
    "- sequencing: 1, 2\n",
    "- Selection: 3, 5\n",
    "- Iteration: 4"
   ]
  },
  {
   "cell_type": "markdown",
   "metadata": {},
   "source": [
    "CrossWord Puzzle Hack ANSWERS\n",
    "\n",
    "1. Recursive\n",
    "\n",
    "2. Selection\n",
    "\n",
    "3. Sequence"
   ]
  }
 ],
 "metadata": {
  "kernelspec": {
   "display_name": "Python 3.9.12 ('base')",
   "language": "python",
   "name": "python3"
  },
  "language_info": {
   "codemirror_mode": {
    "name": "ipython",
    "version": 3
   },
   "file_extension": ".py",
   "mimetype": "text/x-python",
   "name": "python",
   "nbconvert_exporter": "python",
   "pygments_lexer": "ipython3",
   "version": "3.9.12"
  },
  "orig_nbformat": 4,
  "vscode": {
   "interpreter": {
    "hash": "f4522448fa03726c480e11d9815ce2c412646a9816150097c8daa961a4b73c1a"
   }
  }
 },
 "nbformat": 4,
 "nbformat_minor": 2
}

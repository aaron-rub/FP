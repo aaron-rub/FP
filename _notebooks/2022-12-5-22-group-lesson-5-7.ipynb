{
 "cells": [
  {
   "cell_type": "markdown",
   "metadata": {},
   "source": [
    "# Lesson 5-7 Hacks\n",
    "> Hacks for lesson 5 and 7\n",
    "\n",
    "- toc: true \n",
    "- badges: true\n",
    "- comments: true\n",
    "- categories: [collegeboard, ]"
   ]
  },
  {
   "cell_type": "code",
   "execution_count": 1,
   "metadata": {},
   "outputs": [
    {
     "name": "stdout",
     "output_type": "stream",
     "text": [
      "True\n"
     ]
    }
   ],
   "source": [
    "IsSnowing = False\n",
    "result = not(IsSnowing)\n",
    "print(result)"
   ]
  },
  {
   "cell_type": "code",
   "execution_count": 2,
   "metadata": {},
   "outputs": [
    {
     "name": "stdout",
     "output_type": "stream",
     "text": [
      "You passed the quiz\n"
     ]
    }
   ],
   "source": [
    "grade = 80\n",
    "\n",
    "# Has to be between 70 and 100\n",
    "\n",
    "if grade > 70 and grade <= 100:\n",
    "    print(\"You passed the quiz\")"
   ]
  },
  {
   "cell_type": "markdown",
   "metadata": {},
   "source": [
    "Logical Operator \n",
    "- A logical operator is a symbol or word used to connect two or more expressions\n",
    "Selection\n",
    "- A statement that affects the sequence of control by executing certain statements depending on the value of a boolean (true or false).\n",
    "- A specific task that is completed with the use of instructions\n",
    "Conditional Statement / If-Statement:\n",
    "- The specific block of code that will execute depending on the algorithm condition returning true or false.\n",
    "Algorithm\n"
   ]
  },
  {
   "cell_type": "code",
   "execution_count": 3,
   "metadata": {},
   "outputs": [
    {
     "name": "stdout",
     "output_type": "stream",
     "text": [
      "You need to train more\n"
     ]
    }
   ],
   "source": [
    "BasketballMinutesPlayed = 48\n",
    "\n",
    "if BasketballMinutesPlayed > 48 and grade <=80:\n",
    "    print(\"you played the full basketball game, congradulations!\")\n",
    "else:\n",
    "    print(\"You need to train more\")\n",
    "\n",
    "# Adding another variation to the hack"
   ]
  },
  {
   "cell_type": "code",
   "execution_count": 4,
   "metadata": {},
   "outputs": [
    {
     "name": "stdout",
     "output_type": "stream",
     "text": [
      "Your random number is 27\n"
     ]
    }
   ],
   "source": [
    "import random\n",
    "result = \"Your random number is 27\"\n",
    "\n",
    "a_list = [27, 32, 96,]\n",
    "random.shuffle(a_list)\n",
    "\n",
    "a_list[0]\n",
    "\n",
    "if a_list == 27:\n",
    "    print(result)\n",
    "else:\n",
    "    print(result)"
   ]
  },
  {
   "cell_type": "code",
   "execution_count": 5,
   "metadata": {},
   "outputs": [
    {
     "name": "stdout",
     "output_type": "stream",
     "text": [
      "40\n"
     ]
    }
   ],
   "source": [
    "import random\n",
    "a=random.randint(1,100)\n",
    "print(a)"
   ]
  }
 ],
 "metadata": {
  "kernelspec": {
   "display_name": "Python 3.8.10 64-bit",
   "language": "python",
   "name": "python3"
  },
  "language_info": {
   "codemirror_mode": {
    "name": "ipython",
    "version": 3
   },
   "file_extension": ".py",
   "mimetype": "text/x-python",
   "name": "python",
   "nbconvert_exporter": "python",
   "pygments_lexer": "ipython3",
   "version": "3.8.10"
  },
  "orig_nbformat": 4,
  "vscode": {
   "interpreter": {
    "hash": "916dbcbb3f70747c44a77c7bcd40155683ae19c65e1c03b4aa3499c5328201f1"
   }
  }
 },
 "nbformat": 4,
 "nbformat_minor": 2
}

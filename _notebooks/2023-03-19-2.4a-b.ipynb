{
 "cells": [
  {
   "attachments": {},
   "cell_type": "markdown",
   "metadata": {},
   "source": [
    "#### Database and SQLAlchemy\n",
    "\n",
    "In this blog, I will explore the use of programs with data, specifically focusing on databases. The SQLite Database will be used to demonstrate how programs can be used with data. Debugging will also be used to examine the objects created in the code.\n",
    "\n",
    "The College Board discusses several ideas related to\n",
    "\n",
    "- the use of filter systems for finding information and patterns.\n",
    "- data management through classification and storage in tables\n",
    "- programming, including the iterative and interactive processing of information\n",
    "- gaining insights and knowledge from digitally represented information\n",
    "\n",
    "Other topics covered in this post include\n",
    "\n",
    "- PBL\n",
    "- databases\n",
    "- iterative programming Iterative programming refers to the repetition of a sequence of instructions until a specific end result is achieved.\n",
    "- OOP: programming model that organizes software design around objects, rather than functions and logic.\n",
    "- SQL: language used for programming, managing, and structuring data.\n",
    "\n",
    "Creation of Flask and SQLAlchemy Objects\n",
    "\n",
    "- I've seen the creation of Flask and SQLAlchemy objects in different programming scenarios. These objects are necessary in web development frameworks like Flask.\n",
    "\n",
    "Flask App Object\n",
    "\n",
    "- The Flask app object is an important component of the Flask framework. It represents the application and provides different methods and attributes for managing and configuring applications. It enables developers to define routes and register blueprints, which are groups of routes that can be used to organize the functionality within the application's.\n",
    "\n",
    "- I have personally seen the use of Flask app objects in creating APIs during trimesters 1 and 2 like the StockAPI. We used these objects to register new blueprints, which helped us create our API that connected the front-end and back-end of our application.\n",
    "\n",
    "SQLAlchemy DB Object\n",
    "\n",
    "- We also used the SQLAlchemy DB object to create our former database, mine being the stock database. When we assigned the SQLAlchemy object to the database object, we registered our database, enabling the creation of the SQLite data table and the database that contained all the data necessary. The SQLAlchemy DB object is a powerful tool for working with databases, providing a high-level interface for interacting with databases and facilitating the creation of complex database-driven applications.\n",
    "\n",
    "\n",
    "\n"
   ]
  },
  {
   "cell_type": "code",
   "execution_count": 4,
   "metadata": {},
   "outputs": [
    {
     "name": "stdout",
     "output_type": "stream",
     "text": [
      "Tangent Results\n",
      "\n",
      "Tangent of num1     Tangent of num2     \n",
      "----------------------------------------\n",
      "-0.648              -9.397              \n",
      "1.831               1.831               \n",
      "-72.946             0.636               \n",
      "3.497               0.688               \n",
      "-0.587              0.277               \n",
      "1.403               3.386               \n",
      "1.831               -0.431              \n",
      "1.831               1.831               \n",
      "1.098               -3.116              \n",
      "-15.062             -0.330              \n",
      "-15.062             -0.485              \n",
      "15.062              0.485               \n",
      "-0.093              0.736               \n",
      "-1.498              3.679               \n",
      "1.588               -1.267              \n",
      "1.686               -45.183             \n",
      "-0.070              1.063               \n",
      "-1.498              0.687               \n",
      "-0.649              2.535               \n"
     ]
    }
   ],
   "source": [
    "import numpy as np\n",
    "import pandas as pd\n",
    "from sqlalchemy import create_engine\n",
    "import sqlite3\n",
    "\n",
    "# create a connection to your SQL database\n",
    "engine = create_engine('sqlite:///mydatabase.db')\n",
    "\n",
    "# get input from the user\n",
    "num1 = float(input(\"Enter the first number: \"))\n",
    "num2 = float(input(\"Enter the second number: \"))\n",
    "\n",
    "# calculate tangent using NumPy\n",
    "result = np.tan([num1, num2])\n",
    "\n",
    "result_df = pd.DataFrame(result.reshape(1, 2), columns=['tangent of num1', 'tangent of num2'])\n",
    "result_df.to_sql('myresulttable', engine, if_exists='append', index=False)\n",
    "\n",
    "conn = sqlite3.connect('mydatabase.db')\n",
    "\n",
    "# creates cursor object\n",
    "cur = conn.cursor()\n",
    "\n",
    "cur.execute(\"SELECT [tangent of num1], [tangent of num2] FROM myresulttable\")\n",
    " \n",
    "rows = cur.fetchall()\n",
    "\n",
    "print(\"Tangent Results\\n\")\n",
    "print(\"{:<20s}{:<20s}\".format(\"Tangent of num1\", \"Tangent of num2\"))\n",
    "print(\"-\" * 40)\n",
    "\n",
    "for row in rows:\n",
    "    print(\"{:<20.3f}{:<20.3f}\".format(row[0], row[1]))\n",
    "\n",
    "# closes the connection\n",
    "conn.close()\n"
   ]
  },
  {
   "cell_type": "code",
   "execution_count": 4,
   "metadata": {},
   "outputs": [
    {
     "ename": "AttributeError",
     "evalue": "'Engine' object has no attribute 'execute'",
     "output_type": "error",
     "traceback": [
      "\u001b[0;31m---------------------------------------------------------------------------\u001b[0m",
      "\u001b[0;31mAttributeError\u001b[0m                            Traceback (most recent call last)",
      "\u001b[1;32m/home/aaron_ru/vscode/FP/_notebooks/2022-03-19-2.4a-b.ipynb Cell 3\u001b[0m in \u001b[0;36m<cell line: 5>\u001b[0;34m()\u001b[0m\n\u001b[1;32m      <a href='vscode-notebook-cell://wsl%2Bubuntu/home/aaron_ru/vscode/FP/_notebooks/2022-03-19-2.4a-b.ipynb#W3sdnNjb2RlLXJlbW90ZQ%3D%3D?line=1'>2</a>\u001b[0m engine \u001b[39m=\u001b[39m create_engine(\u001b[39m'\u001b[39m\u001b[39msqlite:///mydatabase.db\u001b[39m\u001b[39m'\u001b[39m)\n\u001b[1;32m      <a href='vscode-notebook-cell://wsl%2Bubuntu/home/aaron_ru/vscode/FP/_notebooks/2022-03-19-2.4a-b.ipynb#W3sdnNjb2RlLXJlbW90ZQ%3D%3D?line=3'>4</a>\u001b[0m \u001b[39m# create a new table in the database\u001b[39;00m\n\u001b[0;32m----> <a href='vscode-notebook-cell://wsl%2Bubuntu/home/aaron_ru/vscode/FP/_notebooks/2022-03-19-2.4a-b.ipynb#W3sdnNjb2RlLXJlbW90ZQ%3D%3D?line=4'>5</a>\u001b[0m engine\u001b[39m.\u001b[39;49mexecute(\u001b[39m\"\"\"\u001b[39m\n\u001b[1;32m      <a href='vscode-notebook-cell://wsl%2Bubuntu/home/aaron_ru/vscode/FP/_notebooks/2022-03-19-2.4a-b.ipynb#W3sdnNjb2RlLXJlbW90ZQ%3D%3D?line=5'>6</a>\u001b[0m \u001b[39m    CREATE TABLE IF NOT EXISTS myresulttable (\u001b[39m\n\u001b[1;32m      <a href='vscode-notebook-cell://wsl%2Bubuntu/home/aaron_ru/vscode/FP/_notebooks/2022-03-19-2.4a-b.ipynb#W3sdnNjb2RlLXJlbW90ZQ%3D%3D?line=6'>7</a>\u001b[0m \u001b[39m        id INTEGER PRIMARY KEY AUTOINCREMENT,\u001b[39m\n\u001b[1;32m      <a href='vscode-notebook-cell://wsl%2Bubuntu/home/aaron_ru/vscode/FP/_notebooks/2022-03-19-2.4a-b.ipynb#W3sdnNjb2RlLXJlbW90ZQ%3D%3D?line=7'>8</a>\u001b[0m \u001b[39m        num1 FLOAT NOT NULL,\u001b[39m\n\u001b[1;32m      <a href='vscode-notebook-cell://wsl%2Bubuntu/home/aaron_ru/vscode/FP/_notebooks/2022-03-19-2.4a-b.ipynb#W3sdnNjb2RlLXJlbW90ZQ%3D%3D?line=8'>9</a>\u001b[0m \u001b[39m        num2 FLOAT NOT NULL,\u001b[39m\n\u001b[1;32m     <a href='vscode-notebook-cell://wsl%2Bubuntu/home/aaron_ru/vscode/FP/_notebooks/2022-03-19-2.4a-b.ipynb#W3sdnNjb2RlLXJlbW90ZQ%3D%3D?line=9'>10</a>\u001b[0m \u001b[39m        result1 FLOAT NOT NULL,\u001b[39m\n\u001b[1;32m     <a href='vscode-notebook-cell://wsl%2Bubuntu/home/aaron_ru/vscode/FP/_notebooks/2022-03-19-2.4a-b.ipynb#W3sdnNjb2RlLXJlbW90ZQ%3D%3D?line=10'>11</a>\u001b[0m \u001b[39m        result2 FLOAT NOT NULL\u001b[39m\n\u001b[1;32m     <a href='vscode-notebook-cell://wsl%2Bubuntu/home/aaron_ru/vscode/FP/_notebooks/2022-03-19-2.4a-b.ipynb#W3sdnNjb2RlLXJlbW90ZQ%3D%3D?line=11'>12</a>\u001b[0m \u001b[39m    )\u001b[39m\n\u001b[1;32m     <a href='vscode-notebook-cell://wsl%2Bubuntu/home/aaron_ru/vscode/FP/_notebooks/2022-03-19-2.4a-b.ipynb#W3sdnNjb2RlLXJlbW90ZQ%3D%3D?line=12'>13</a>\u001b[0m \u001b[39m\"\"\"\u001b[39m)\n\u001b[1;32m     <a href='vscode-notebook-cell://wsl%2Bubuntu/home/aaron_ru/vscode/FP/_notebooks/2022-03-19-2.4a-b.ipynb#W3sdnNjb2RlLXJlbW90ZQ%3D%3D?line=14'>15</a>\u001b[0m \u001b[39m# get input from the user\u001b[39;00m\n\u001b[1;32m     <a href='vscode-notebook-cell://wsl%2Bubuntu/home/aaron_ru/vscode/FP/_notebooks/2022-03-19-2.4a-b.ipynb#W3sdnNjb2RlLXJlbW90ZQ%3D%3D?line=15'>16</a>\u001b[0m num1 \u001b[39m=\u001b[39m \u001b[39mfloat\u001b[39m(\u001b[39minput\u001b[39m(\u001b[39m\"\u001b[39m\u001b[39mEnter the first number: \u001b[39m\u001b[39m\"\u001b[39m))\n",
      "\u001b[0;31mAttributeError\u001b[0m: 'Engine' object has no attribute 'execute'"
     ]
    }
   ],
   "source": [
    "# create a connection to your SQL database\n",
    "engine = create_engine('sqlite:///mydatabase.db')\n",
    "\n",
    "# create a new table in the database\n",
    "engine.execute(\"\"\"\n",
    "    CREATE TABLE IF NOT EXISTS myresulttable (\n",
    "        id INTEGER PRIMARY KEY AUTOINCREMENT,\n",
    "        num1 FLOAT NOT NULL,\n",
    "        num2 FLOAT NOT NULL,\n",
    "        result1 FLOAT NOT NULL,\n",
    "        result2 FLOAT NOT NULL\n",
    "    )\n",
    "\"\"\")\n",
    "\n",
    "# get input from the user\n",
    "num1 = float(input(\"Enter the first number: \"))\n",
    "num2 = float(input(\"Enter the second number: \"))\n",
    "\n",
    "# calculate the tangent using NumPy\n",
    "result = np.tan([num1, num2])\n",
    "\n",
    "# insert the results into the new table\n",
    "with engine.connect() as conn:\n",
    "    conn.execute(\"\"\"\n",
    "        INSERT INTO myresulttable (num1, num2, result1, result2)\n",
    "        VALUES (?, ?, ?, ?)\n",
    "    \"\"\", num1, num2, result[0], result[1])\n"
   ]
  },
  {
   "cell_type": "code",
   "execution_count": 1,
   "metadata": {},
   "outputs": [
    {
     "ename": "NameError",
     "evalue": "name 'sqlite3' is not defined",
     "output_type": "error",
     "traceback": [
      "\u001b[0;31m---------------------------------------------------------------------------\u001b[0m",
      "\u001b[0;31mNameError\u001b[0m                                 Traceback (most recent call last)",
      "\u001b[1;32m/home/aaron_ru/vscode/FP/_notebooks/2023-03-19-2.4a-b.ipynb Cell 4\u001b[0m in \u001b[0;36m<cell line: 2>\u001b[0;34m()\u001b[0m\n\u001b[1;32m      <a href='vscode-notebook-cell://wsl%2Bubuntu/home/aaron_ru/vscode/FP/_notebooks/2023-03-19-2.4a-b.ipynb#W3sdnNjb2RlLXJlbW90ZQ%3D%3D?line=0'>1</a>\u001b[0m \u001b[39m# create a connection to your SQLite database\u001b[39;00m\n\u001b[0;32m----> <a href='vscode-notebook-cell://wsl%2Bubuntu/home/aaron_ru/vscode/FP/_notebooks/2023-03-19-2.4a-b.ipynb#W3sdnNjb2RlLXJlbW90ZQ%3D%3D?line=1'>2</a>\u001b[0m conn \u001b[39m=\u001b[39m sqlite3\u001b[39m.\u001b[39mconnect(\u001b[39m'\u001b[39m\u001b[39mmydatabase.db\u001b[39m\u001b[39m'\u001b[39m)\n\u001b[1;32m      <a href='vscode-notebook-cell://wsl%2Bubuntu/home/aaron_ru/vscode/FP/_notebooks/2023-03-19-2.4a-b.ipynb#W3sdnNjb2RlLXJlbW90ZQ%3D%3D?line=4'>5</a>\u001b[0m cur \u001b[39m=\u001b[39m conn\u001b[39m.\u001b[39mcursor()\n\u001b[1;32m      <a href='vscode-notebook-cell://wsl%2Bubuntu/home/aaron_ru/vscode/FP/_notebooks/2023-03-19-2.4a-b.ipynb#W3sdnNjb2RlLXJlbW90ZQ%3D%3D?line=5'>6</a>\u001b[0m cur\u001b[39m.\u001b[39mexecute(\u001b[39m\"\u001b[39m\u001b[39mSELECT * FROM myresulttable\u001b[39m\u001b[39m\"\u001b[39m)\n",
      "\u001b[0;31mNameError\u001b[0m: name 'sqlite3' is not defined"
     ]
    }
   ],
   "source": [
    "# create a connection to your SQLite database\n",
    "conn = sqlite3.connect('mydatabase.db')\n",
    "\n",
    "\n",
    "cur = conn.cursor()\n",
    "cur.execute(\"SELECT * FROM myresulttable\")\n",
    "\n",
    "rows = cur.fetchall()\n",
    "\n",
    "\n",
    "print(\"{:<5s}{:<10s}{:<10s}{:<10s}{:<10s}\".format(\"ID\", \"num1\", \"num2\", \"result1\", \"result2\"))\n",
    "print(\"-\" * 45)\n",
    "\n",
    "for row in rows:\n",
    "    print(\"{:<5d}{:<10.3f}{:<10.3f}{:<10.3f}{:<10.3f}\".format(row[0], row[1], row[2], row[3], row[4]))\n",
    "\n",
    "record_id = int(input(\"Enter the ID of the record you want to read: \"))\n",
    "\n",
    "cur.execute(\"SELECT * FROM myresulttable WHERE id=?\", (record_id,))\n",
    "row = cur.fetchone()\n",
    "\n",
    "if row:\n",
    "    print(\"{:<5s}{:<10s}{:<10s}{:<10s}{:<10s}\".format(\"ID\", \"num1\", \"num2\", \"result1\", \"result2\"))\n",
    "    print(\"-\" * 45)\n",
    "    print(\"{:<5d}{:<10.3f}{:<10.3f}{:<10.3f}{:<10.3f}\".format(row[0], row[1], row[2], row[3], row[4]))\n",
    "else:\n",
    "    print(\"Record not found\")\n"
   ]
  },
  {
   "cell_type": "code",
   "execution_count": 7,
   "metadata": {},
   "outputs": [
    {
     "ename": "OperationalError",
     "evalue": "no such column: num1",
     "output_type": "error",
     "traceback": [
      "\u001b[0;31m---------------------------------------------------------------------------\u001b[0m",
      "\u001b[0;31mOperationalError\u001b[0m                          Traceback (most recent call last)",
      "\u001b[1;32m/home/aaron_ru/vscode/FP/_notebooks/2022-03-19-2.4a-b.ipynb Cell 5\u001b[0m in \u001b[0;36m<cell line: 12>\u001b[0;34m()\u001b[0m\n\u001b[1;32m      <a href='vscode-notebook-cell://wsl%2Bubuntu/home/aaron_ru/vscode/FP/_notebooks/2022-03-19-2.4a-b.ipynb#W5sdnNjb2RlLXJlbW90ZQ%3D%3D?line=8'>9</a>\u001b[0m new_num1 \u001b[39m=\u001b[39m \u001b[39mfloat\u001b[39m(\u001b[39minput\u001b[39m(\u001b[39m\"\u001b[39m\u001b[39mEnter the new value for num1: \u001b[39m\u001b[39m\"\u001b[39m))\n\u001b[1;32m     <a href='vscode-notebook-cell://wsl%2Bubuntu/home/aaron_ru/vscode/FP/_notebooks/2022-03-19-2.4a-b.ipynb#W5sdnNjb2RlLXJlbW90ZQ%3D%3D?line=9'>10</a>\u001b[0m new_num2 \u001b[39m=\u001b[39m \u001b[39mfloat\u001b[39m(\u001b[39minput\u001b[39m(\u001b[39m\"\u001b[39m\u001b[39mEnter the new value for num2: \u001b[39m\u001b[39m\"\u001b[39m))\n\u001b[0;32m---> <a href='vscode-notebook-cell://wsl%2Bubuntu/home/aaron_ru/vscode/FP/_notebooks/2022-03-19-2.4a-b.ipynb#W5sdnNjb2RlLXJlbW90ZQ%3D%3D?line=11'>12</a>\u001b[0m cur\u001b[39m.\u001b[39;49mexecute(\u001b[39m\"\u001b[39;49m\u001b[39mUPDATE myresulttable SET num1=?, num2=? WHERE id=?\u001b[39;49m\u001b[39m\"\u001b[39;49m, (new_num1, new_num2, record_id))\n\u001b[1;32m     <a href='vscode-notebook-cell://wsl%2Bubuntu/home/aaron_ru/vscode/FP/_notebooks/2022-03-19-2.4a-b.ipynb#W5sdnNjb2RlLXJlbW90ZQ%3D%3D?line=12'>13</a>\u001b[0m conn\u001b[39m.\u001b[39mcommit()\n\u001b[1;32m     <a href='vscode-notebook-cell://wsl%2Bubuntu/home/aaron_ru/vscode/FP/_notebooks/2022-03-19-2.4a-b.ipynb#W5sdnNjb2RlLXJlbW90ZQ%3D%3D?line=14'>15</a>\u001b[0m \u001b[39mif\u001b[39;00m cur\u001b[39m.\u001b[39mrowcount \u001b[39m==\u001b[39m \u001b[39m1\u001b[39m:\n",
      "\u001b[0;31mOperationalError\u001b[0m: no such column: num1"
     ]
    }
   ],
   "source": [
    "# create a connection to your SQLite database\n",
    "conn = sqlite3.connect('mydatabase.db')\n",
    "\n",
    "# create a cursor object\n",
    "cur = conn.cursor()\n",
    "\n",
    "# update a specific record in the table\n",
    "record_id = int(input(\"Enter the ID of the record you want to update: \"))\n",
    "new_num1 = float(input(\"Enter the new value for num1: \"))\n",
    "new_num2 = float(input(\"Enter the new value for num2: \"))\n",
    "\n",
    "cur.execute(\"UPDATE myresulttable SET num1=?, num2=? WHERE id=?\", (new_num1, new_num2, record_id))\n",
    "conn.commit()\n",
    "\n",
    "if cur.rowcount == 1:\n",
    "    print(\"Record updated successfully\")\n",
    "else:\n",
    "    print(\"Record not found\")\n"
   ]
  }
 ],
 "metadata": {
  "kernelspec": {
   "display_name": "Python 3",
   "language": "python",
   "name": "python3"
  },
  "language_info": {
   "codemirror_mode": {
    "name": "ipython",
    "version": 3
   },
   "file_extension": ".py",
   "mimetype": "text/x-python",
   "name": "python",
   "nbconvert_exporter": "python",
   "pygments_lexer": "ipython3",
   "version": "3.8.10"
  },
  "orig_nbformat": 4
 },
 "nbformat": 4,
 "nbformat_minor": 2
}

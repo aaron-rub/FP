{
 "cells": [
  {
   "cell_type": "markdown",
   "metadata": {},
   "source": [
    "# Lesson Notes - 3.1 - 3.2\n",
    "> Hacks and notes on 3.1 and 3.2\n",
    "\n",
    "- toc: true \n",
    "- badges: true\n",
    "- comments: true\n",
    "- categories: [collegeboard, ]"
   ]
  },
  {
   "cell_type": "markdown",
   "metadata": {},
   "source": [
    "## 3.1.1\n",
    " - Questions:\n",
    "    1. What exactly IS a variable?\n",
    "\n",
    "        A variable is an abstraction inside a program that holds a value, where each variable has associated data storage that represents a single value at a time\n",
    "\n",
    "    2. What is the best data type to represent someone's dog's name?\n",
    "\n",
    "        String\n",
    "\n",
    "    3. Why is it important to give variables specific names before containing values?\n",
    "\n",
    "        So you don't get them mixed up\n",
    "\n",
    "    4. What is the best way to represent someone's phone number?\n",
    "\n",
    "        String\n",
    "\n",
    "    Bonus (Not required but important to know): \n",
    "    1. How can we update a variable's value\n",
    "\n",
    "        (blank) = updated version\n",
    "\n",
    "    2. What function is used to recieve a user's input?\n",
    "\n",
    "        Input\n",
    "\n",
    "\n",
    "Notes:\n",
    "\n",
    "    Strings is a series of characters (numbers, letters, etc), one example of a string is your name or your id because strings can contain both numbers and letters.\n",
    "\n",
    "    Lists are sequences of elements with each element being a variable. An example of a list can be the names of the students in this classroom. \n",
    "\n",
    "    Assign variable that coorelates to the function so less errors are made\n",
    "\n",
    "    3 different data types that support different data\n",
    "\n",
    "        * integer (numbers)\n",
    "        * string (or text/letters)\n",
    "        * Boolean (True/False statements)\n",
    "\n",
    "Hacks: \n",
    "    Assignment Operater: The operator used to assign a new value to a variable, property, event or indexer element.\n",
    "        Example: X = 5\n",
    "    Collegeboard uses arrow symbols to assign a value to a variable.\n",
    "    A variable, x, is initially given a value of 15. Later on, the value for x is changed to 22. If you print x, would the command display 15 or 22? The variable would display 22.\n"
   ]
  },
  {
   "cell_type": "code",
   "execution_count": 8,
   "metadata": {},
   "outputs": [
    {
     "data": {
      "text/plain": [
       "53"
      ]
     },
     "metadata": {},
     "output_type": "display_data"
    }
   ],
   "source": [
    "# Changing a varaible's value that was initialy 312.\n",
    "x = 312\n",
    "x = 53\n",
    "display(x)"
   ]
  },
  {
   "cell_type": "markdown",
   "metadata": {},
   "source": [
    "## 3.1.2\n",
    "\n",
    "Questions:\n",
    "* What is a list?\n",
    "\n",
    "    Lists are sequences of elements with each element being a variable. An example of a list can be the names of the students in this classroom. \n",
    "\n",
    "* What is an element?\n",
    "\n",
    "    A element is a fragment of computer code (which can be any piece of computer readable text)\n",
    "\n",
    "* What is an easy way to reference the elements in a list or string?"
   ]
  },
  {
   "cell_type": "code",
   "execution_count": 9,
   "metadata": {},
   "outputs": [
    {
     "name": "stdout",
     "output_type": "stream",
     "text": [
      "['poland', 'mexico', 'usa', 'qatar']\n"
     ]
    }
   ],
   "source": [
    "WorldCup = [\"poland\", \"mexico\", \"usa\", \"qatar\"]\n",
    "print(WorldCup)"
   ]
  },
  {
   "cell_type": "markdown",
   "metadata": {},
   "source": [
    "* What is an example of a string?"
   ]
  },
  {
   "cell_type": "code",
   "execution_count": 4,
   "metadata": {},
   "outputs": [
    {
     "name": "stdout",
     "output_type": "stream",
     "text": [
      "Hello Universe\n"
     ]
    }
   ],
   "source": [
    "print(\"Hello World\")"
   ]
  },
  {
   "cell_type": "markdown",
   "metadata": {},
   "source": [
    "## Hacks\n",
    "* Create a list with indices \n",
    "* Index a part of the list that you created.\n",
    "* Try to index from the end \n",
    "\n",
    "### Create an index of your favorite foods\n",
    "Tips: Index starts at 1, Strings are ordered sequences of characters\n",
    "\n",
    "Extra work: Try to create an index that lists your favorite food and print the element at index 3.\n",
    "More work: Create a list of your favorite foods and create an index to access them.\n",
    "\n",
    "marks = [\"food1\"]"
   ]
  },
  {
   "cell_type": "markdown",
   "metadata": {},
   "source": [
    "## 3.2.1\n",
    "\n",
    "Hacks\n",
    "\n",
    "- The following code is incomplete. Its intended purpose is to increase three numbers, all of which ask for user input, by an amount specified the user. The input code is abstracted, but the actual logic isn't connected to the abstraction."
   ]
  },
  {
   "cell_type": "code",
   "execution_count": 3,
   "metadata": {},
   "outputs": [
    {
     "name": "stdout",
     "output_type": "stream",
     "text": [
      "[26, 2, 26]\n"
     ]
    }
   ],
   "source": [
    "num1=input(\"put a number. \")\n",
    "num2=input(\"put a number. \")\n",
    "num3=input(\"put a number. \")\n",
    "add=input(\"would you like to add? \")\n",
    "\n",
    "# Add code in the space below\n",
    "\n",
    "numlist = [int(num1), int(num2), int(num3)]\n",
    "\n",
    "# The following is the code that adds the inputted addend to the other numbers. It is hidden from the user.\n",
    "\n",
    "for i in range(len(numlist)):\n",
    "    numlist[i -1] += int(add)\n",
    "\n",
    "print(numlist)"
   ]
  },
  {
   "cell_type": "markdown",
   "metadata": {},
   "source": [
    "## 3.2.2\n",
    "\n",
    "Hacks\n",
    "- On a single markdown file:\n",
    "    - Insert a screenshot of your score on the python quiz\n",
    "\n",
    "    <img src=”(https://photos.app.goo.gl/uFzauQkqPQjRpDyt7)”>\n",
    "\n",
    "    - Insert a screenshot of your simplifying of the food list\n"
   ]
  },
  {
   "cell_type": "code",
   "execution_count": 4,
   "metadata": {},
   "outputs": [
    {
     "data": {
      "text/plain": [
       "['pizza', 'burrito', 'spaghetti', 'apple', 'burger']"
      ]
     },
     "metadata": {},
     "output_type": "display_data"
    }
   ],
   "source": [
    "Food = [\"pizza\", \"burrito\", \"spaghetti\", \"apple\", \"burger\"]\n",
    "\n",
    "display(Food)"
   ]
  },
  {
   "cell_type": "markdown",
   "metadata": {},
   "source": [
    "- Why are using lists better for a program, rather than writing out each line of code?\n",
    "    \n",
    "    It's more efficent because rather than imputing data one by one you can do it way faster using lists.\n",
    "\n",
    "- Make your own list the \"long and slow way\" then manage the complexity of the list"
   ]
  },
  {
   "cell_type": "code",
   "execution_count": 5,
   "metadata": {},
   "outputs": [
    {
     "name": "stdout",
     "output_type": "stream",
     "text": [
      "Burger Apple Chocolate Waffles\n"
     ]
    }
   ],
   "source": [
    "food1 = \"Burger\"\n",
    "food2 = \"Apple\"\n",
    "food3 = \"Chocolate\"\n",
    "food4 = \"Waffles\"\n",
    "\n",
    "# Inputing values one by one\n",
    "\n",
    "print(food1, food2, food3, food4)"
   ]
  },
  {
   "cell_type": "code",
   "execution_count": 6,
   "metadata": {},
   "outputs": [
    {
     "data": {
      "text/plain": [
       "['Burger', 'Apple', 'Chocolate', 'Waffles']"
      ]
     },
     "metadata": {},
     "output_type": "display_data"
    }
   ],
   "source": [
    "foods = [\"Burger\", \"Apple\", \"Chocolate\", \"Waffles\", ]\n",
    "# Using a list to put values into the foods variable.\n",
    "display(foods)"
   ]
  }
 ],
 "metadata": {
  "kernelspec": {
   "display_name": "Python 3.8.10 64-bit",
   "language": "python",
   "name": "python3"
  },
  "language_info": {
   "codemirror_mode": {
    "name": "ipython",
    "version": 3
   },
   "file_extension": ".py",
   "mimetype": "text/x-python",
   "name": "python",
   "nbconvert_exporter": "python",
   "pygments_lexer": "ipython3",
   "version": "3.8.10"
  },
  "orig_nbformat": 4,
  "vscode": {
   "interpreter": {
    "hash": "916dbcbb3f70747c44a77c7bcd40155683ae19c65e1c03b4aa3499c5328201f1"
   }
  }
 },
 "nbformat": 4,
 "nbformat_minor": 2
}

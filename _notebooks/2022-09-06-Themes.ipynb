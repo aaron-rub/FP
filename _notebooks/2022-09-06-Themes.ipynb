{
 "cells": [
  {
   "cell_type": "markdown",
   "metadata": {},
   "source": [
    "## Changing my remote theme\n",
    "\n",
    "By default the webpages theme is minima, here is an image when I changed it to a custom theme"
   ]
  },
  {
   "cell_type": "markdown",
   "metadata": {},
   "source": [
    "![](https://lh3.googleusercontent.com/UJb45eddfM7jcjhABP6QPLyTrCqbqvqudqwIgAaTzUkZ6zEFBvSl6__20_-ktg_nZliQGIIGuSEG5QZsXC9n4PNDzXp0N1Mvm3FZMUFUzfIaiiAgk6yhgyRQFBK9ewuqMP9FyvDZz8GBXUuSxrOGtZ7zsbFURxWBWFjy1VENk5zHozckh3JikQR4mujshLp9cWrygtcaX4_zTOjucoynrgX_cEGIMeYkbZ8N04cPrAu3SiZLhDk0qTj4b-kcouDd0W_-m7G6kA7zVca8aeB8qSVBj7huWJv0Y2HSegc9WaVz_Ug-lRmGpgs5MWe6lM-yT1k43WijFaHGmUyqFBlnb9M-DAGMQUBTjcmicE7tmpBoAor25XSVBKoi2Km8fVSQs_vLDU4LJttm2ZW1Csirop5UxFJis6HUIwPkWXNSJls0AYDG07WlMMqavx51bC40AKebxT8zZyfq1WRDm6nXPi7RIMDg4UF9OxmKDh8yfCwestb0--1n3KT8XIsiC_X6NCuwEgoQ9LdiiCaorw0F4k2c7FzxyMAmbZ5Qalj-ZnsJWt05SuaTsiDm0rTuhtKzX0O3D-zxE0xeAS-EBWEO00S3Hk9J3mT_LfuR-DfA6L028WYqv4fWYHF29qwkeRg6p1pPVCj8zhDH8vBso_eio4sIKDlczY_YlKmO5m9nTifuEMrZnBDV7ZdUXO6DhHB1WRechhm8sjik5iazjmTqDCJtiLj7XGuHl03BL4t2lz_BgaBIvMPugUI0tqTTNsyf-I1QwkA-2e80Jx62ZXyd0GYnzK-Qxc-eR78Ci_c4LSDs-Nn1yPAPbWiQg7q6w-XfWUhEIQ=w1920-h895-no?authuser=0)"
   ]
  }
 ],
 "metadata": {
  "language_info": {
   "name": "python"
  },
  "orig_nbformat": 4
 },
 "nbformat": 4,
 "nbformat_minor": 2
}

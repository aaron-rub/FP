{
 "cells": [
  {
   "cell_type": "markdown",
   "metadata": {},
   "source": [
    "> Changing my remote theme"
   ]
  },
  {
   "cell_type": "markdown",
   "metadata": {},
   "source": [
    "## Changing my remote theme\n",
    "\n",
    "# Changing webpages remote theme\n",
    "By default the webpages theme is minima, here is an image when I changed it to a custom theme"
   ]
  },
  {
   "cell_type": "markdown",
   "metadata": {},
   "source": [
    "![](https://lh3.googleusercontent.com/UJb45eddfM7jcjhABP6QPLyTrCqbqvqudqwIgAaTzUkZ6zEFBvSl6__20_-ktg_nZliQGIIGuSEG5QZsXC9n4PNDzXp0N1Mvm3FZMUFUzfIaiiAgk6yhgyRQFBK9ewuqMP9FyvDZz8GBXUuSxrOGtZ7zsbFURxWBWFjy1VENk5zHozckh3JikQR4mujshLp9cWrygtcaX4_zTOjucoynrgX_cEGIMeYkbZ8N04cPrAu3SiZLhDk0qTj4b-kcouDd0W_-m7G6kA7zVca8aeB8qSVBj7huWJv0Y2HSegc9WaVz_Ug-lRmGpgs5MWe6lM-yT1k43WijFaHGmUyqFBlnb9M-DAGMQUBTjcmicE7tmpBoAor25XSVBKoi2Km8fVSQs_vLDU4LJttm2ZW1Csirop5UxFJis6HUIwPkWXNSJls0AYDG07WlMMqavx51bC40AKebxT8zZyfq1WRDm6nXPi7RIMDg4UF9OxmKDh8yfCwestb0--1n3KT8XIsiC_X6NCuwEgoQ9LdiiCaorw0F4k2c7FzxyMAmbZ5Qalj-ZnsJWt05SuaTsiDm0rTuhtKzX0O3D-zxE0xeAS-EBWEO00S3Hk9J3mT_LfuR-DfA6L028WYqv4fWYHF29qwkeRg6p1pPVCj8zhDH8vBso_eio4sIKDlczY_YlKmO5m9nTifuEMrZnBDV7ZdUXO6DhHB1WRechhm8sjik5iazjmTqDCJtiLj7XGuHl03BL4t2lz_BgaBIvMPugUI0tqTTNsyf-I1QwkA-2e80Jx62ZXyd0GYnzK-Qxc-eR78Ci_c4LSDs-Nn1yPAPbWiQg7q6w-XfWUhEIQ=w1920-h895-no?authuser=0)"
   ]
  }
 ],
 "metadata": {
  "kernelspec": {
   "display_name": "Python 3.8.10 64-bit",
   "language": "python",
   "name": "python3"
  },
  "language_info": {
   "name": "python",
   "version": "3.8.10"
  },
  "orig_nbformat": 4,
  "vscode": {
   "interpreter": {
    "hash": "916dbcbb3f70747c44a77c7bcd40155683ae19c65e1c03b4aa3499c5328201f1"
   }
  }
 },
 "nbformat": 4,
 "nbformat_minor": 2
}

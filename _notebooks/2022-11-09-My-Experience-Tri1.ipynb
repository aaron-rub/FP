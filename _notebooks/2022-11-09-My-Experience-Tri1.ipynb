{
 "cells": [
  {
   "cell_type": "markdown",
   "metadata": {},
   "source": [
    "# My experience throughout first tri!\n",
    "> The problem I faced and how I managed\n",
    "- toc: true \n",
    "- badges: true\n",
    "- comments: true\n",
    "- categories: [jupyter, python]"
   ]
  },
  {
   "cell_type": "markdown",
   "metadata": {},
   "source": [
    "### The problems I faced throughout the tri\n",
    "The problems we faced throughout the trimester  \n",
    "- During the beggining of the year my group struggled with communication but after a couple days we were able to get a groupchat set up, and we would call every weekend to work on our assignment.\n",
    "- When we were working on our final project we were faced with a lot of problems, for example we had set up our wrong repository for AWS and everytime any of us would pull it would corrupt our files, but after wwe talked it out with other students and Mort we figured out how to solve all of these problems. The most important thing we took away from that week is that we can always ask others for help.\n"
   ]
  },
  {
   "cell_type": "markdown",
   "metadata": {},
   "source": [
    "### Night of the Mueseum Experience\n",
    "My thoughts during the Night of the Mueseum\n",
    "- During night of the mueseum we had lots of parents and students coming to view our website, and while they were viewing it I took in their feedback and observed which aspect of the website they liked the most. I took those ideas and helped incorperate their ideas into the website aswell as adding more onto the already liked aspects.\n",
    "- While viewing other peoples websites I also noticed that they had way more backend then our group, so the night after I tried finding more ways to incorperate backend into our group project so that our frontend could interact with it more\n",
    "\n",
    "![](https://lh3.googleusercontent.com/zbp7zwqJ1qBxGvUEd_okS_I5IiSdRiWHIQEz37YG3gS1ZfJZId_OItpWdfm41t1ZdsL5svZmsgOHsi-mI-nMF1WuHJ89XWiHfBzEWkVSiT-T-g4FqwZIc1HO5HqQJuE-cWMsOFpNpPDzZSKQgZBIPd8kKWbcW2gXM4vmxB4yWUBzZazt0mgJlBkBuiESrrwDTFGfDNhlXuip0lImtBr46szwBuL8uDceUKO1ChZFDzvBL1LMKfe5txBuWKoQjU3oUJ6APhAtIvDzzU2tokBMI7x98eD_LQHfqFf6Htf0ii0SqHtqBrwM1Ka78EhV6uN_mmdeQeVA8C06mJ1e58vyegAqrC_7YgzH81swoxD4GIzSpJ077zmKPT8j8249V8bRzx9kYzm3WR3XABO6bf_lrRXa44Z8-nXZM89AvHA6q4v-xuDMc6mnGpy-ftlGxjsqy_BRMDkSOiEgVr-13GUw6x1UhB43lIFjUNuwRE8LrKkQNiTAMVnN4pQXzUp2Ij-UoFi15bcfZUpp1fq3YGpj46pXMSrvqVjh-xcIyLCyXHUqu1VSMS7qf5Lr3cvS8iLZQPrhp3f-61OWDfJM_OlWtvQK4D24N932F_PUSIul_DRFv2f9eRxCcK15efhk0aCOqiINO7sK2fWpJGGLUtMetfcTxybdufyMukGI_hRjo6t-19f8uTx9zLrtfJ3WMOTnMlT54dc5eq67EpAwYpvXxkkkg0gF6VL4hHaE2Fk-fUqJ48nBMdkleK2r9pLoKlzWU39Qut2W7rXI5bS3AFVF8swsrl9q-pdoEzQdsISjB_dyRD-LYEgpFWpziCK4GblvxKAFPnQvaAMIzeYXASLSjGN8cqKrJwe1zbmtdqZ__C-2MjX9DkGveoej68ngZbbYUhTWnGqqh5K04slqhpBafFdXHSprAmaLnE2jLiPFaD-7HrDY56Fxc8iAWm9XKDU_83atx891W1a2DMnooPgOyseE8jCljgV9OgMceYgK1skZL3c4MiYkxpg=w412-h463-no?authuser=0)"
   ]
  }
 ],
 "metadata": {
  "kernelspec": {
   "display_name": "Python 3.8.10 64-bit",
   "language": "python",
   "name": "python3"
  },
  "language_info": {
   "name": "python",
   "version": "3.8.10"
  },
  "orig_nbformat": 4,
  "vscode": {
   "interpreter": {
    "hash": "916dbcbb3f70747c44a77c7bcd40155683ae19c65e1c03b4aa3499c5328201f1"
   }
  }
 },
 "nbformat": 4,
 "nbformat_minor": 2
}
